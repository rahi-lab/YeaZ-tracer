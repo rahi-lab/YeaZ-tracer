{
 "cells": [
  {
   "cell_type": "code",
   "execution_count": 49,
   "metadata": {},
   "outputs": [],
   "source": [
    "import h5py\n",
    "import glob\n",
    "from PIL import Image\n",
    "import numpy as np\n",
    "import os\n",
    "import os.path\n",
    "import skimage\n",
    "import skimage.io\n"
   ]
  },
  {
   "cell_type": "code",
   "execution_count": 38,
   "metadata": {},
   "outputs": [],
   "source": [
    "def create_hdf(hdf_path):\n",
    "    hf = h5py.File(hdf_path, 'x')\n",
    "    hf.create_group('FOV0')\n",
    "    hf.close()\n",
    "\n",
    "\n",
    "def tif_2_h5(mask_dir, hdf_path):\n",
    "    # read tif mask files\n",
    "    mask_files = sorted(glob.glob(mask_dir + \"*.tif\"))\n",
    "    mask_files = [f for f in mask_files if f.endswith('tif')]\n",
    "\n",
    "    # create a new hdf5 file\n",
    "    try:\n",
    "        create_hdf(hdf_path)\n",
    "    except:\n",
    "        print(\"hdf file already exists. overwriting...\")\n",
    "        os.remove(hdf_path)\n",
    "        create_hdf(hdf_path)\n",
    "\n",
    "    with h5py.File(hdf_path, 'w') as f:\n",
    "        for i, mask in enumerate(mask_files):\n",
    "            im = skimage.io.imread(mask)\n",
    "\n",
    "            if(len(im.shape) == 3):\n",
    "                print(\"3D!!\")\n",
    "            # num pages should be smaller than x or y dimension, very unlikely not to be the case\n",
    "            # if len(im.shape) == 3 and im.shape[2] < im.shape[0] and im.shape[2] < im.shape[1]:\n",
    "            #     im = np.moveaxis(im, -1, 0) # move last axis to first\n",
    "\n",
    "            f.create_dataset('/FOV0/T{}'.format(i),\n",
    "                             data=im[:, :], compression='gzip')\n",
    "\n",
    "    f.close()\n",
    "    return hdf_path\n"
   ]
  },
  {
   "cell_type": "code",
   "execution_count": 39,
   "metadata": {},
   "outputs": [],
   "source": [
    "import tifffile\n",
    "\n",
    "\n",
    "def save_video_to_tif(video_data, output_filename):\n",
    "    if os.path.exists(output_filename):\n",
    "        os.remove(output_filename)\n",
    "\n",
    "    # Open a TIFF file for writing and create a TiffWriter object\n",
    "    with tifffile.TiffWriter(output_filename) as tif:\n",
    "        # Iterate over each frame of the video data\n",
    "        # for frame_idx in range(video_data.shape[0]):\n",
    "        #     # Make the array contiguous\n",
    "        #     frame = np.ascontiguousarray(video_data[frame_idx])\n",
    "        #     # Add the frame as a page to the TIFF file\n",
    "        # tif.save(frame)\n",
    "        tif.save(video_data)\n",
    "    print(f'Saved video to {output_filename}')\n",
    "\n",
    "\n",
    "def tif_2_stack(tif_dir, stack_filename):\n",
    "    # Get a list of all TIFF files in the directory\n",
    "    tif_files = os.listdir(tif_dir)\n",
    "    tif_files = [f for f in tif_files if f.endswith('.tif')]\n",
    "\n",
    "    # Sort the file list based on the frame numbers\n",
    "    tif_files = sorted(tif_files)\n",
    "\n",
    "    # Load the first frame to get the image size\n",
    "    img_size = np.array(Image.open(os.path.join(\n",
    "        tif_dir, tif_files[0])).convert('L')).shape\n",
    "    stack_volume = np.zeros((len(tif_files),) + img_size, dtype=np.uint16)\n",
    "\n",
    "    # Load each frame and add it to the stack\n",
    "    for i, tif_file in enumerate(tif_files):\n",
    "        img = np.array(Image.open(os.path.join(\n",
    "            tif_dir, tif_file)))\n",
    "        stack_volume[i, :, :] = img\n",
    "\n",
    "    # save to tif\n",
    "    save_video_to_tif(stack_volume, stack_filename)\n",
    "\n",
    "    print(f'Saved stack volume to {stack_filename}')\n"
   ]
  },
  {
   "cell_type": "code",
   "execution_count": 43,
   "metadata": {},
   "outputs": [
    {
     "name": "stdout",
     "output_type": "stream",
     "text": [
      "Saved video to /home/farzaneh/Documents/TrackerTestDataset_SCerevisiae_7/subset/BF/stacked/bf_stack.tif\n",
      "Saved stack volume to /home/farzaneh/Documents/TrackerTestDataset_SCerevisiae_7/subset/BF/stacked/bf_stack.tif\n",
      "Saved video to /home/farzaneh/Documents/TrackerTestDataset_SCerevisiae_7/subset/mKate/stacked/mkate_stack.tif\n",
      "Saved stack volume to /home/farzaneh/Documents/TrackerTestDataset_SCerevisiae_7/subset/mKate/stacked/mkate_stack.tif\n",
      "Saved video to /home/farzaneh/Documents/TrackerTestDataset_SCerevisiae_7/subset/mKO/stacked/mko_stack.tif\n",
      "Saved stack volume to /home/farzaneh/Documents/TrackerTestDataset_SCerevisiae_7/subset/mKO/stacked/mko_stack.tif\n",
      "hdf file already exists. overwriting...\n"
     ]
    },
    {
     "data": {
      "text/plain": [
       "'/home/farzaneh/Documents/TrackerTestDataset_SCerevisiae_7/subset/segmentation2/stacked/mask_stack.h5'"
      ]
     },
     "execution_count": 43,
     "metadata": {},
     "output_type": "execute_result"
    }
   ],
   "source": [
    "# stack tifs in subset\n",
    "frames_dir = '/home/farzaneh/Documents/TrackerTestDataset_SCerevisiae_7/subset/BF/'\n",
    "if not os.path.exists(frames_dir+'stacked/'):\n",
    "    os.makedirs(frames_dir+'stacked/')\n",
    "stack_filename = frames_dir + 'stacked/bf_stack.tif'\n",
    "tif_2_stack(frames_dir, stack_filename)\n",
    "\n",
    "frames_dir = '/home/farzaneh/Documents/TrackerTestDataset_SCerevisiae_7/subset/mKate/'\n",
    "if not os.path.exists(frames_dir+'stacked/'):\n",
    "    os.makedirs(frames_dir+'stacked/')\n",
    "stack_filename = frames_dir + 'stacked/mkate_stack.tif'\n",
    "tif_2_stack(frames_dir, stack_filename)\n",
    "\n",
    "frames_dir = '/home/farzaneh/Documents/TrackerTestDataset_SCerevisiae_7/subset/mKO/'\n",
    "if not os.path.exists(frames_dir+'stacked/'):\n",
    "    os.makedirs(frames_dir+'stacked/')\n",
    "stack_filename = frames_dir + 'stacked/mko_stack.tif'\n",
    "tif_2_stack(frames_dir, stack_filename)\n",
    "\n",
    "frames_dir = '/home/farzaneh/Documents/TrackerTestDataset_SCerevisiae_7/subset/segmentation2/'\n",
    "if not os.path.exists(frames_dir+'stacked/'):\n",
    "    os.makedirs(frames_dir+'stacked/')\n",
    "stack_filename = frames_dir + 'stacked/mask_stack.h5'\n",
    "tif_2_h5(frames_dir, stack_filename)\n"
   ]
  },
  {
   "cell_type": "code",
   "execution_count": 44,
   "metadata": {},
   "outputs": [
    {
     "name": "stdout",
     "output_type": "stream",
     "text": [
      "Saved video to /home/farzaneh/Documents/TrackerTestDataset_SCerevisiae_7/subset2/BF/stacked/bf_stack.tif\n",
      "Saved stack volume to /home/farzaneh/Documents/TrackerTestDataset_SCerevisiae_7/subset2/BF/stacked/bf_stack.tif\n",
      "Saved video to /home/farzaneh/Documents/TrackerTestDataset_SCerevisiae_7/subset2/mKate/stacked/mkate_stack.tif\n",
      "Saved stack volume to /home/farzaneh/Documents/TrackerTestDataset_SCerevisiae_7/subset2/mKate/stacked/mkate_stack.tif\n",
      "Saved video to /home/farzaneh/Documents/TrackerTestDataset_SCerevisiae_7/subset2/mKo/stacked/mko_stack.tif\n",
      "Saved stack volume to /home/farzaneh/Documents/TrackerTestDataset_SCerevisiae_7/subset2/mKo/stacked/mko_stack.tif\n"
     ]
    },
    {
     "data": {
      "text/plain": [
       "'/home/farzaneh/Documents/TrackerTestDataset_SCerevisiae_7/subset2/segmentation/stacked/mask_stack.h5'"
      ]
     },
     "execution_count": 44,
     "metadata": {},
     "output_type": "execute_result"
    }
   ],
   "source": [
    "# stack tifs in subset2\n",
    "frames_dir = '/home/farzaneh/Documents/TrackerTestDataset_SCerevisiae_7/subset2/BF/'\n",
    "if not os.path.exists(frames_dir+'stacked/'):\n",
    "    os.makedirs(frames_dir+'stacked/')\n",
    "stack_filename = frames_dir + 'stacked/bf_stack.tif'\n",
    "tif_2_stack(frames_dir, stack_filename)\n",
    "\n",
    "frames_dir = '/home/farzaneh/Documents/TrackerTestDataset_SCerevisiae_7/subset2/mKate/'\n",
    "if not os.path.exists(frames_dir+'stacked/'):\n",
    "    os.makedirs(frames_dir+'stacked/')\n",
    "stack_filename = frames_dir + 'stacked/mkate_stack.tif'\n",
    "tif_2_stack(frames_dir, stack_filename)\n",
    "\n",
    "frames_dir = '/home/farzaneh/Documents/TrackerTestDataset_SCerevisiae_7/subset2/mKo/'\n",
    "if not os.path.exists(frames_dir+'stacked/'):\n",
    "    os.makedirs(frames_dir+'stacked/')\n",
    "stack_filename = frames_dir + 'stacked/mko_stack.tif'\n",
    "tif_2_stack(frames_dir, stack_filename)\n",
    "\n",
    "frames_dir = '/home/farzaneh/Documents/TrackerTestDataset_SCerevisiae_7/subset2/segmentation/'\n",
    "if not os.path.exists(frames_dir+'stacked/'):\n",
    "    os.makedirs(frames_dir+'stacked/')\n",
    "stack_filename = frames_dir + 'stacked/mask_stack.h5'\n",
    "tif_2_h5(frames_dir, stack_filename)\n"
   ]
  },
  {
   "cell_type": "code",
   "execution_count": null,
   "metadata": {},
   "outputs": [],
   "source": [
    "# stack tifs in subset2\n",
    "frames_dir = '/home/farzaneh/Documents/TrackerTestDataset_SCerevisiae_7/subset2/BF/'\n",
    "if not os.path.exists(frames_dir+'stacked/'):\n",
    "    os.makedirs(frames_dir+'stacked/')\n",
    "stack_filename = frames_dir + 'stacked/bf_stack.tif'\n",
    "tif_2_stack(frames_dir, stack_filename)\n",
    "\n",
    "frames_dir = '/home/farzaneh/Documents/TrackerTestDataset_SCerevisiae_7/subset2/mKate/'\n",
    "if not os.path.exists(frames_dir+'stacked/'):\n",
    "    os.makedirs(frames_dir+'stacked/')\n",
    "stack_filename = frames_dir + 'stacked/mkate_stack.tif'\n",
    "tif_2_stack(frames_dir, stack_filename)\n",
    "\n",
    "frames_dir = '/home/farzaneh/Documents/TrackerTestDataset_SCerevisiae_7/subset2/mKo/'\n",
    "if not os.path.exists(frames_dir+'stacked/'):\n",
    "    os.makedirs(frames_dir+'stacked/')\n",
    "stack_filename = frames_dir + 'stacked/mko_stack.tif'\n",
    "tif_2_stack(frames_dir, stack_filename)\n",
    "\n",
    "frames_dir = '/home/farzaneh/Documents/TrackerTestDataset_SCerevisiae_7/subset2/segmentation/'\n",
    "if not os.path.exists(frames_dir+'stacked/'):\n",
    "    os.makedirs(frames_dir+'stacked/')\n",
    "stack_filename = frames_dir + 'stacked/mask_stack.h5'\n",
    "tif_2_h5(frames_dir, stack_filename)\n"
   ]
  },
  {
   "cell_type": "code",
   "execution_count": 45,
   "metadata": {},
   "outputs": [
    {
     "name": "stdout",
     "output_type": "stream",
     "text": [
      "Saved video to /home/farzaneh/Documents/TrackerTestDataset_SCerevisiae_7/training/images2/stacked/bf_stack.tif\n",
      "Saved stack volume to /home/farzaneh/Documents/TrackerTestDataset_SCerevisiae_7/training/images2/stacked/bf_stack.tif\n"
     ]
    },
    {
     "data": {
      "text/plain": [
       "'/home/farzaneh/Documents/TrackerTestDataset_SCerevisiae_7/training/masks2/stacked/mask_stack.h5'"
      ]
     },
     "execution_count": 45,
     "metadata": {},
     "output_type": "execute_result"
    }
   ],
   "source": [
    "# stack tifs in training\n",
    "frames_dir = '/home/farzaneh/Documents/TrackerTestDataset_SCerevisiae_7/training/images2/'\n",
    "if not os.path.exists(frames_dir+'stacked/'):\n",
    "    os.makedirs(frames_dir+'stacked/')\n",
    "stack_filename = frames_dir + 'stacked/bf_stack.tif'\n",
    "tif_2_stack(frames_dir, stack_filename)\n",
    "\n",
    "frames_dir = '/home/farzaneh/Documents/TrackerTestDataset_SCerevisiae_7/training/masks2/'\n",
    "if not os.path.exists(frames_dir+'stacked/'):\n",
    "    os.makedirs(frames_dir+'stacked/')\n",
    "stack_filename = frames_dir + 'stacked/mask_stack.h5'\n",
    "tif_2_h5(frames_dir, stack_filename)\n"
   ]
  },
  {
   "cell_type": "code",
   "execution_count": 46,
   "metadata": {},
   "outputs": [
    {
     "name": "stdout",
     "output_type": "stream",
     "text": [
      "Saved video to /home/farzaneh/Documents/TrackerTestDataset_SCerevisiae_7/mask2/stacked/bf_stack.tif\n",
      "Saved stack volume to /home/farzaneh/Documents/TrackerTestDataset_SCerevisiae_7/mask2/stacked/bf_stack.tif\n",
      "Saved video to /home/farzaneh/Documents/TrackerTestDataset_SCerevisiae_7/mask/stacked/bf_stack.tif\n",
      "Saved stack volume to /home/farzaneh/Documents/TrackerTestDataset_SCerevisiae_7/mask/stacked/bf_stack.tif\n"
     ]
    },
    {
     "data": {
      "text/plain": [
       "'/home/farzaneh/Documents/TrackerTestDataset_SCerevisiae_7/mask/stacked/mask_stack.h5'"
      ]
     },
     "execution_count": 46,
     "metadata": {},
     "output_type": "execute_result"
    }
   ],
   "source": [
    "# stack tifs in mask and mask2 both in tif and h5\n",
    "frames_dir = '/home/farzaneh/Documents/TrackerTestDataset_SCerevisiae_7/mask2/'\n",
    "if not os.path.exists(frames_dir+'stacked/'):\n",
    "    os.makedirs(frames_dir+'stacked/')\n",
    "stack_filename = frames_dir + 'stacked/bf_stack.tif'\n",
    "tif_2_stack(frames_dir, stack_filename)\n",
    "\n",
    "frames_dir = '/home/farzaneh/Documents/TrackerTestDataset_SCerevisiae_7/mask2/'\n",
    "if not os.path.exists(frames_dir+'stacked/'):\n",
    "    os.makedirs(frames_dir+'stacked/')\n",
    "stack_filename = frames_dir + 'stacked/mask_stack.h5'\n",
    "tif_2_h5(frames_dir, stack_filename)\n",
    "\n",
    "# stack tifs in mask and mask2 both in tif and h5\n",
    "frames_dir = '/home/farzaneh/Documents/TrackerTestDataset_SCerevisiae_7/mask/'\n",
    "if not os.path.exists(frames_dir+'stacked/'):\n",
    "    os.makedirs(frames_dir+'stacked/')\n",
    "stack_filename = frames_dir + 'stacked/bf_stack.tif'\n",
    "tif_2_stack(frames_dir, stack_filename)\n",
    "\n",
    "frames_dir = '/home/farzaneh/Documents/TrackerTestDataset_SCerevisiae_7/mask/'\n",
    "if not os.path.exists(frames_dir+'stacked/'):\n",
    "    os.makedirs(frames_dir+'stacked/')\n",
    "stack_filename = frames_dir + 'stacked/mask_stack.h5'\n",
    "tif_2_h5(frames_dir, stack_filename)\n"
   ]
  },
  {
   "cell_type": "code",
   "execution_count": 47,
   "metadata": {},
   "outputs": [
    {
     "name": "stdout",
     "output_type": "stream",
     "text": [
      "Saved video to /home/farzaneh/Documents/TrackerTestDataset_SCerevisiae_7/images/stacked/bf_stack.tif\n",
      "Saved stack volume to /home/farzaneh/Documents/TrackerTestDataset_SCerevisiae_7/images/stacked/bf_stack.tif\n"
     ]
    }
   ],
   "source": [
    "# stack tifs in images\n",
    "frames_dir = '/home/farzaneh/Documents/TrackerTestDataset_SCerevisiae_7/images/'\n",
    "if not os.path.exists(frames_dir+'stacked/'):\n",
    "    os.makedirs(frames_dir+'stacked/')\n",
    "stack_filename = frames_dir + 'stacked/bf_stack.tif'\n",
    "tif_2_stack(frames_dir, stack_filename)\n"
   ]
  },
  {
   "cell_type": "code",
   "execution_count": 48,
   "metadata": {},
   "outputs": [
    {
     "name": "stdout",
     "output_type": "stream",
     "text": [
      "Saved video to /home/farzaneh/Documents/sc_7/BF/stacked/bf_stack.tif\n",
      "Saved stack volume to /home/farzaneh/Documents/sc_7/BF/stacked/bf_stack.tif\n",
      "Saved video to /home/farzaneh/Documents/sc_7/MKate/stacked/mkate_stack.tif\n",
      "Saved stack volume to /home/farzaneh/Documents/sc_7/MKate/stacked/mkate_stack.tif\n",
      "Saved video to /home/farzaneh/Documents/sc_7/MKO/stacked/mko_stack.tif\n",
      "Saved stack volume to /home/farzaneh/Documents/sc_7/MKO/stacked/mko_stack.tif\n"
     ]
    },
    {
     "data": {
      "text/plain": [
       "'/home/farzaneh/Documents/sc_7/Mask/stacked/mask_stack.h5'"
      ]
     },
     "execution_count": 48,
     "metadata": {},
     "output_type": "execute_result"
    }
   ],
   "source": [
    "# stack tifs in sc_7\n",
    "frames_dir = '/home/farzaneh/Documents/sc_7/BF/'\n",
    "if not os.path.exists(frames_dir+'stacked/'):\n",
    "    os.makedirs(frames_dir+'stacked/')\n",
    "stack_filename = frames_dir + 'stacked/bf_stack.tif'\n",
    "tif_2_stack(frames_dir, stack_filename)\n",
    "\n",
    "frames_dir = '/home/farzaneh/Documents/sc_7/MKate/'\n",
    "if not os.path.exists(frames_dir+'stacked/'):\n",
    "    os.makedirs(frames_dir+'stacked/')\n",
    "stack_filename = frames_dir + 'stacked/mkate_stack.tif'\n",
    "tif_2_stack(frames_dir, stack_filename)\n",
    "\n",
    "frames_dir = '/home/farzaneh/Documents/sc_7/MKO/'\n",
    "if not os.path.exists(frames_dir+'stacked/'):\n",
    "    os.makedirs(frames_dir+'stacked/')\n",
    "stack_filename = frames_dir + 'stacked/mko_stack.tif'\n",
    "tif_2_stack(frames_dir, stack_filename)\n",
    "\n",
    "frames_dir = '/home/farzaneh/Documents/sc_7/Mask/'\n",
    "if not os.path.exists(frames_dir+'stacked/'):\n",
    "    os.makedirs(frames_dir+'stacked/')\n",
    "stack_filename = frames_dir + 'stacked/mask_stack.h5'\n",
    "tif_2_h5(frames_dir, stack_filename)\n"
   ]
  }
 ],
 "metadata": {
  "kernelspec": {
   "display_name": "lpbs_bread",
   "language": "python",
   "name": "python3"
  },
  "language_info": {
   "codemirror_mode": {
    "name": "ipython",
    "version": 3
   },
   "file_extension": ".py",
   "mimetype": "text/x-python",
   "name": "python",
   "nbconvert_exporter": "python",
   "pygments_lexer": "ipython3",
   "version": "3.9.16"
  },
  "orig_nbformat": 4
 },
 "nbformat": 4,
 "nbformat_minor": 2
}
