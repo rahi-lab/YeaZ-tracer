{
 "cells": [
  {
   "cell_type": "code",
   "execution_count": 1,
   "metadata": {},
   "outputs": [],
   "source": [
    "from utils import extract_all_features_for_count_threshold, extract_features_for_dist_threshold, get_custom_matrix_features\n",
    "import xgboost as xgb\n",
    "from sklearn.model_selection import StratifiedKFold\n",
    "from sklearn.metrics import accuracy_score\n",
    "import numpy as np\n",
    "import pandas as pd\n",
    "import os\n",
    "# read in data\n",
    "from utils import get_matrix_features\n",
    "path_to_data = os.path.abspath('data')\n",
    "path_to_colonies = os.path.abspath('data/colonies')"
   ]
  },
  {
   "cell_type": "code",
   "execution_count": null,
   "metadata": {},
   "outputs": [],
   "source": [
    "\n",
    "import pandas as pd\n",
    "feature_list = ['']\n",
    "threshold_mode = 'count'\n",
    "num_nn = 4\n",
    "threshold = 10\n",
    "# colony 0\n",
    "colony0_segmentation_path = '/home/farzaneh/Documents/Bread/bread/src/bread/tests/data/V2022_09_19_HTB2_mCh_MYO1-GFP_50_ms/FOV0_segmentation_T0_to_T146_trimmed.h5'\n",
    "colony0_lineage_GT_path = '/home/farzaneh/Documents/Bread/bread/src/bread/tests/data/V2022_09_19_HTB2_mCh_MYO1-GFP_50_ms/FOV0_lineage_T0_to_T146.csv'\n",
    "colony0_lineage_gt = pd.read_csv(colony0_lineage_GT_path).rename(\n",
    "    columns={'parent_id': 'parent_GT'})\n",
    "colony0_lineage_gt['colony'] = [0 for i in range(len(colony0_lineage_gt))]\n",
    "\n",
    "colony0_features, f_list = extract_all_features_for_count_threshold(\n",
    "    colony0_segmentation_path, num_nn=num_nn, threshold=threshold)\n",
    "colony0_features['colony'] = [0 for i in range(len(colony0_features))]\n",
    "\n",
    "colony0_matrix_features = get_custom_matrix_features(\n",
    "    colony0_features, colony0_lineage_gt, f_list)\n",
    "\n",
    "# colony 1 to 5\n",
    "# load the 5 colony ground truth\n",
    "colonies_gt = pd.DataFrame()\n",
    "for i in [1, 2, 3, 4, 5]:\n",
    "    temp_colony = pd.read_csv(os.path.join(\n",
    "        path_to_colonies, 'colony00{}_lineage.csv'.format(i)))\n",
    "    temp_colony['colony'] = i\n",
    "    colonies_gt = pd.concat([colonies_gt, temp_colony])\n",
    "colonies_gt = colonies_gt.reset_index(drop=True)\n",
    "colonies_gt.rename(columns={'# parent_id': 'parent_GT'}, inplace=True)\n",
    "\n",
    "\n",
    "# extract features for each colony and save them to a csv file. This takes a while. But after this, we only need to load the csv files. every time.\n",
    "colony_candidate_features = [0, 0, 0, 0, 0, 0]\n",
    "for i in [1, 2, 3, 4, 5]:\n",
    "    print(\"finding features for colony {}\".format(i))\n",
    "    colony_candidate_features[i-1], _ = extract_all_features_for_count_threshold(os.path.join(\n",
    "        path_to_colonies, 'colony00{}_segmentation.h5'.format(i)), num_nn=num_nn, threshold=threshold)\n",
    "    colony_candidate_features[i-1]['colony'] = i\n",
    "    # remove rows with time_id = 0\n",
    "    colony_candidate_features[i-1] = colony_candidate_features[i -\n",
    "                                                               1][colony_candidate_features[i-1].time_id != 0]\n",
    "    # remove rows with bud_id == candid_id (this shouldn't happen in theory)\n",
    "    colony_candidate_features[i-1] = colony_candidate_features[i-1][colony_candidate_features[i-1].bud_id !=\n",
    "                                                                    colony_candidate_features[i-1].candid_id]\n",
    "\n",
    "\n",
    "colonies_features = colony_candidate_features[0]\n",
    "for i in [1, 2, 3, 4]:\n",
    "    temp_colony = colony_candidate_features[i]\n",
    "    colonies_features = pd.concat([colonies_features, temp_colony]).reset_index(drop=True)\n",
    "colonies_features = colonies_features.reset_index(drop=True)\n",
    "\n",
    "colonies_matrix_features = get_custom_matrix_features(colonies_features, colonies_gt, f_list)\n",
    "\n",
    "all_candid_features = pd.concat([colonies_features, colony0_features]).reset_index(drop=True)\n",
    "#save the features to a csv file\n",
    "all_candid_features.to_csv(os.path.join(path_to_data, 'all_candid_features_{}_{}_nn_{}_threshold_19_features.csv'.format(threshold_mode, num_nn, threshold)))\n",
    "all_matrix_features = pd.concat([colonies_matrix_features, colony0_matrix_features]).reset_index(drop=True)\n",
    "all_gt = pd.concat([colonies_gt, colony0_lineage_gt]).reset_index(drop=True)"
   ]
  },
  {
   "cell_type": "code",
   "execution_count": 15,
   "metadata": {},
   "outputs": [
    {
     "data": {
      "text/html": [
       "<div>\n",
       "<style scoped>\n",
       "    .dataframe tbody tr th:only-of-type {\n",
       "        vertical-align: middle;\n",
       "    }\n",
       "\n",
       "    .dataframe tbody tr th {\n",
       "        vertical-align: top;\n",
       "    }\n",
       "\n",
       "    .dataframe thead th {\n",
       "        text-align: right;\n",
       "    }\n",
       "</style>\n",
       "<table border=\"1\" class=\"dataframe\">\n",
       "  <thead>\n",
       "    <tr style=\"text-align: right;\">\n",
       "      <th></th>\n",
       "      <th>parent_GT</th>\n",
       "      <th>bud_id</th>\n",
       "      <th>time_index</th>\n",
       "      <th>colony</th>\n",
       "    </tr>\n",
       "  </thead>\n",
       "  <tbody>\n",
       "    <tr>\n",
       "      <th>0</th>\n",
       "      <td>-1</td>\n",
       "      <td>1</td>\n",
       "      <td>0</td>\n",
       "      <td>1</td>\n",
       "    </tr>\n",
       "    <tr>\n",
       "      <th>1</th>\n",
       "      <td>-1</td>\n",
       "      <td>2</td>\n",
       "      <td>0</td>\n",
       "      <td>1</td>\n",
       "    </tr>\n",
       "    <tr>\n",
       "      <th>2</th>\n",
       "      <td>2</td>\n",
       "      <td>3</td>\n",
       "      <td>4</td>\n",
       "      <td>1</td>\n",
       "    </tr>\n",
       "    <tr>\n",
       "      <th>3</th>\n",
       "      <td>1</td>\n",
       "      <td>4</td>\n",
       "      <td>7</td>\n",
       "      <td>1</td>\n",
       "    </tr>\n",
       "    <tr>\n",
       "      <th>4</th>\n",
       "      <td>4</td>\n",
       "      <td>5</td>\n",
       "      <td>27</td>\n",
       "      <td>1</td>\n",
       "    </tr>\n",
       "    <tr>\n",
       "      <th>...</th>\n",
       "      <td>...</td>\n",
       "      <td>...</td>\n",
       "      <td>...</td>\n",
       "      <td>...</td>\n",
       "    </tr>\n",
       "    <tr>\n",
       "      <th>867</th>\n",
       "      <td>91</td>\n",
       "      <td>364</td>\n",
       "      <td>146</td>\n",
       "      <td>0</td>\n",
       "    </tr>\n",
       "    <tr>\n",
       "      <th>868</th>\n",
       "      <td>132</td>\n",
       "      <td>365</td>\n",
       "      <td>146</td>\n",
       "      <td>0</td>\n",
       "    </tr>\n",
       "    <tr>\n",
       "      <th>869</th>\n",
       "      <td>111</td>\n",
       "      <td>366</td>\n",
       "      <td>146</td>\n",
       "      <td>0</td>\n",
       "    </tr>\n",
       "    <tr>\n",
       "      <th>870</th>\n",
       "      <td>224</td>\n",
       "      <td>367</td>\n",
       "      <td>146</td>\n",
       "      <td>0</td>\n",
       "    </tr>\n",
       "    <tr>\n",
       "      <th>871</th>\n",
       "      <td>174</td>\n",
       "      <td>368</td>\n",
       "      <td>146</td>\n",
       "      <td>0</td>\n",
       "    </tr>\n",
       "  </tbody>\n",
       "</table>\n",
       "<p>872 rows × 4 columns</p>\n",
       "</div>"
      ],
      "text/plain": [
       "     parent_GT  bud_id  time_index  colony\n",
       "0           -1       1           0       1\n",
       "1           -1       2           0       1\n",
       "2            2       3           4       1\n",
       "3            1       4           7       1\n",
       "4            4       5          27       1\n",
       "..         ...     ...         ...     ...\n",
       "867         91     364         146       0\n",
       "868        132     365         146       0\n",
       "869        111     366         146       0\n",
       "870        224     367         146       0\n",
       "871        174     368         146       0\n",
       "\n",
       "[872 rows x 4 columns]"
      ]
     },
     "execution_count": 15,
     "metadata": {},
     "output_type": "execute_result"
    }
   ],
   "source": [
    "all_gt = pd.concat([colonies_gt, colony0_lineage_gt]).reset_index(drop=True)\n",
    "all_gt.to_csv(os.path.join(path_to_data, 'all_gt.csv'))\n",
    "all_gt"
   ]
  },
  {
   "cell_type": "code",
   "execution_count": 17,
   "metadata": {},
   "outputs": [],
   "source": [
    "from nn_model import BudDataset, LineageNN, train_nn, test_nn, cv_nn\n"
   ]
  },
  {
   "cell_type": "code",
   "execution_count": 20,
   "metadata": {},
   "outputs": [
    {
     "name": "stdout",
     "output_type": "stream",
     "text": [
      "config:  {'epoch_n': 200, 'patience': 10, 'lr': 0.01, 'batch_size': 256, 'layers': [64, 64, 5], 'augment': True, 'features': ['dist_0', 'dist_std', 'poly_fit_budcm_budpt', 'poly_fit_expansion_vector', 'position_bud_std', 'position_bud_max', 'position_bud_min', 'position_bud_last', 'position_bud_first', 'orientation_bud_std', 'orientation_bud_max', 'orientation_bud_min', 'orientation_bud_last', 'orientation_bud_first', 'orientation_bud_last_minus_first', 'plyfit_orientation_bud'], 'train_set': 'all', 'cv_number': 1}\n",
      "yes. I am reloaded\n"
     ]
    },
    {
     "data": {
      "text/html": [
       "Finishing last run (ID:g0y3o3f2) before initializing another..."
      ],
      "text/plain": [
       "<IPython.core.display.HTML object>"
      ]
     },
     "metadata": {},
     "output_type": "display_data"
    },
    {
     "data": {
      "text/html": [
       "Waiting for W&B process to finish... <strong style=\"color:green\">(success).</strong>"
      ],
      "text/plain": [
       "<IPython.core.display.HTML object>"
      ]
     },
     "metadata": {},
     "output_type": "display_data"
    },
    {
     "data": {
      "application/vnd.jupyter.widget-view+json": {
       "model_id": "60ab96e2c6724e21b285198b793c1e13",
       "version_major": 2,
       "version_minor": 0
      },
      "text/plain": [
       "VBox(children=(Label(value='0.003 MB of 0.003 MB uploaded (0.000 MB deduped)\\r'), FloatProgress(value=1.0, max…"
      ]
     },
     "metadata": {},
     "output_type": "display_data"
    },
    {
     "data": {
      "text/html": [
       "<style>\n",
       "    table.wandb td:nth-child(1) { padding: 0 10px; text-align: left ; width: auto;} td:nth-child(2) {text-align: left ; width: 100%}\n",
       "    .wandb-row { display: flex; flex-direction: row; flex-wrap: wrap; justify-content: flex-start; width: 100% }\n",
       "    .wandb-col { display: flex; flex-direction: column; flex-basis: 100%; flex: 1; padding: 10px; }\n",
       "    </style>\n",
       "<div class=\"wandb-row\"><div class=\"wandb-col\"><h3>Run history:</h3><br/><table class=\"wandb\"><tr><td>best_accuracy</td><td>▁▂▃▄▄▄▄▅▅▅▅▅▅███████████</td></tr><tr><td>epoch</td><td>▁▁▂▂▂▃▃▃▃▄▄▄▅▅▅▆▆▆▆▇▇▇██</td></tr><tr><td>eval_accuracy</td><td>▂▃▄▅▄▂▅▆▃▃▁▅▄█▄▄▇▂▄▄▅▆▄▄</td></tr><tr><td>lr</td><td>██▇▇▇▆▆▆▆▅▅▅▄▄▄▃▃▃▃▂▂▂▁▁</td></tr><tr><td>patience</td><td>▁▁▁▁▂▂▃▁▂▂▃▄▅▁▂▂▃▄▅▅▆▇▇█</td></tr><tr><td>train_accuracy</td><td>▁▅▅▅▆▆▆▇▇▇▇▇▇▇█▇▇█▇█████</td></tr></table><br/></div><div class=\"wandb-col\"><h3>Run summary:</h3><br/><table class=\"wandb\"><tr><td>best_accuracy</td><td>0.86061</td></tr><tr><td>epoch</td><td>23</td></tr><tr><td>eval_accuracy</td><td>0.82424</td></tr><tr><td>lr</td><td>0.00762</td></tr><tr><td>patience</td><td>10</td></tr><tr><td>train_accuracy</td><td>0.86447</td></tr></table><br/></div></div>"
      ],
      "text/plain": [
       "<IPython.core.display.HTML object>"
      ]
     },
     "metadata": {},
     "output_type": "display_data"
    },
    {
     "data": {
      "text/html": [
       " View run <strong style=\"color:#cdcd00\">wise-shadow-499</strong> at: <a href='https://wandb.ai/f-labbaf97/lineage_tracing/runs/g0y3o3f2' target=\"_blank\">https://wandb.ai/f-labbaf97/lineage_tracing/runs/g0y3o3f2</a><br/>Synced 6 W&B file(s), 0 media file(s), 0 artifact file(s) and 0 other file(s)"
      ],
      "text/plain": [
       "<IPython.core.display.HTML object>"
      ]
     },
     "metadata": {},
     "output_type": "display_data"
    },
    {
     "data": {
      "text/html": [
       "Find logs at: <code>./wandb/run-20230526_104614-g0y3o3f2/logs</code>"
      ],
      "text/plain": [
       "<IPython.core.display.HTML object>"
      ]
     },
     "metadata": {},
     "output_type": "display_data"
    },
    {
     "data": {
      "text/html": [
       "Successfully finished last run (ID:g0y3o3f2). Initializing new run:<br/>"
      ],
      "text/plain": [
       "<IPython.core.display.HTML object>"
      ]
     },
     "metadata": {},
     "output_type": "display_data"
    },
    {
     "data": {
      "application/vnd.jupyter.widget-view+json": {
       "model_id": "a3001c0551934bb3be82dc002c612107",
       "version_major": 2,
       "version_minor": 0
      },
      "text/plain": [
       "VBox(children=(Label(value='Waiting for wandb.init()...\\r'), FloatProgress(value=0.01666863643331453, max=1.0)…"
      ]
     },
     "metadata": {},
     "output_type": "display_data"
    },
    {
     "data": {
      "text/html": [
       "Tracking run with wandb version 0.15.3"
      ],
      "text/plain": [
       "<IPython.core.display.HTML object>"
      ]
     },
     "metadata": {},
     "output_type": "display_data"
    },
    {
     "data": {
      "text/html": [
       "Run data is saved locally in <code>/home/farzaneh/Documents/Bread/bread/src/bread/tests/wandb/run-20230526_104651-q6u82mo3</code>"
      ],
      "text/plain": [
       "<IPython.core.display.HTML object>"
      ]
     },
     "metadata": {},
     "output_type": "display_data"
    },
    {
     "data": {
      "text/html": [
       "Syncing run <strong><a href='https://wandb.ai/f-labbaf97/lineage_tracing/runs/q6u82mo3' target=\"_blank\">effortless-firefly-500</a></strong> to <a href='https://wandb.ai/f-labbaf97/lineage_tracing' target=\"_blank\">Weights & Biases</a> (<a href='https://wandb.me/run' target=\"_blank\">docs</a>)<br/>"
      ],
      "text/plain": [
       "<IPython.core.display.HTML object>"
      ]
     },
     "metadata": {},
     "output_type": "display_data"
    },
    {
     "data": {
      "text/html": [
       " View project at <a href='https://wandb.ai/f-labbaf97/lineage_tracing' target=\"_blank\">https://wandb.ai/f-labbaf97/lineage_tracing</a>"
      ],
      "text/plain": [
       "<IPython.core.display.HTML object>"
      ]
     },
     "metadata": {},
     "output_type": "display_data"
    },
    {
     "data": {
      "text/html": [
       " View run at <a href='https://wandb.ai/f-labbaf97/lineage_tracing/runs/q6u82mo3' target=\"_blank\">https://wandb.ai/f-labbaf97/lineage_tracing/runs/q6u82mo3</a>"
      ],
      "text/plain": [
       "<IPython.core.display.HTML object>"
      ]
     },
     "metadata": {},
     "output_type": "display_data"
    },
    {
     "name": "stdout",
     "output_type": "stream",
     "text": [
      "early stopping at  34 LR:  0.006534999999999997\n",
      "config:  {'epoch_n': 200, 'patience': 10, 'lr': 0.01, 'batch_size': 256, 'layers': [64, 64, 5], 'augment': True, 'features': ['dist_0', 'dist_std', 'poly_fit_budcm_budpt', 'poly_fit_expansion_vector', 'position_bud_std', 'position_bud_max', 'position_bud_min', 'position_bud_last', 'position_bud_first', 'orientation_bud_std', 'orientation_bud_max', 'orientation_bud_min', 'orientation_bud_last', 'orientation_bud_first', 'orientation_bud_last_minus_first', 'plyfit_orientation_bud'], 'train_set': 'all', 'cv_number': 2}\n",
      "yes. I am reloaded\n"
     ]
    },
    {
     "data": {
      "text/html": [
       "Finishing last run (ID:q6u82mo3) before initializing another..."
      ],
      "text/plain": [
       "<IPython.core.display.HTML object>"
      ]
     },
     "metadata": {},
     "output_type": "display_data"
    },
    {
     "data": {
      "text/html": [
       "Waiting for W&B process to finish... <strong style=\"color:green\">(success).</strong>"
      ],
      "text/plain": [
       "<IPython.core.display.HTML object>"
      ]
     },
     "metadata": {},
     "output_type": "display_data"
    },
    {
     "data": {
      "text/html": [
       "<style>\n",
       "    table.wandb td:nth-child(1) { padding: 0 10px; text-align: left ; width: auto;} td:nth-child(2) {text-align: left ; width: 100%}\n",
       "    .wandb-row { display: flex; flex-direction: row; flex-wrap: wrap; justify-content: flex-start; width: 100% }\n",
       "    .wandb-col { display: flex; flex-direction: column; flex-basis: 100%; flex: 1; padding: 10px; }\n",
       "    </style>\n",
       "<div class=\"wandb-row\"><div class=\"wandb-col\"><h3>Run history:</h3><br/><table class=\"wandb\"><tr><td>best_accuracy</td><td>▁▃▃▅▅▅▆▆▆▆▆▆▇▇▇▇▇▇▇▇▇▇▇███████████</td></tr><tr><td>epoch</td><td>▁▁▁▂▂▂▂▂▃▃▃▃▄▄▄▄▄▅▅▅▅▅▆▆▆▆▇▇▇▇▇███</td></tr><tr><td>eval_accuracy</td><td>▁▃▃▅▄▅▆▆▆▅▆▆▇▅▇▅▅▇▅▇▆▇▆█▆▆▇▂▆▇▆▅▅▅</td></tr><tr><td>lr</td><td>███▇▇▇▇▇▆▆▆▆▅▅▅▅▅▄▄▄▄▄▃▃▃▃▂▂▂▂▂▁▁▁</td></tr><tr><td>patience</td><td>▁▁▂▁▂▂▁▂▁▂▂▃▁▂▁▂▂▃▄▅▅▆▇▁▂▂▃▄▅▅▆▇▇█</td></tr><tr><td>train_accuracy</td><td>▁▄▅▅▅▅▆▆▆▆▆▇▇▇▇▇▇▇▇▇▇▇▇▇▇▇███▇████</td></tr></table><br/></div><div class=\"wandb-col\"><h3>Run summary:</h3><br/><table class=\"wandb\"><tr><td>best_accuracy</td><td>0.85542</td></tr><tr><td>epoch</td><td>33</td></tr><tr><td>eval_accuracy</td><td>0.81928</td></tr><tr><td>lr</td><td>0.00663</td></tr><tr><td>patience</td><td>10</td></tr><tr><td>train_accuracy</td><td>0.87803</td></tr></table><br/></div></div>"
      ],
      "text/plain": [
       "<IPython.core.display.HTML object>"
      ]
     },
     "metadata": {},
     "output_type": "display_data"
    },
    {
     "data": {
      "text/html": [
       " View run <strong style=\"color:#cdcd00\">effortless-firefly-500</strong> at: <a href='https://wandb.ai/f-labbaf97/lineage_tracing/runs/q6u82mo3' target=\"_blank\">https://wandb.ai/f-labbaf97/lineage_tracing/runs/q6u82mo3</a><br/>Synced 6 W&B file(s), 0 media file(s), 0 artifact file(s) and 0 other file(s)"
      ],
      "text/plain": [
       "<IPython.core.display.HTML object>"
      ]
     },
     "metadata": {},
     "output_type": "display_data"
    },
    {
     "data": {
      "text/html": [
       "Find logs at: <code>./wandb/run-20230526_104651-q6u82mo3/logs</code>"
      ],
      "text/plain": [
       "<IPython.core.display.HTML object>"
      ]
     },
     "metadata": {},
     "output_type": "display_data"
    },
    {
     "data": {
      "text/html": [
       "Successfully finished last run (ID:q6u82mo3). Initializing new run:<br/>"
      ],
      "text/plain": [
       "<IPython.core.display.HTML object>"
      ]
     },
     "metadata": {},
     "output_type": "display_data"
    },
    {
     "data": {
      "application/vnd.jupyter.widget-view+json": {
       "model_id": "30e5d534ccfc48428bfc0f9ecb9c54de",
       "version_major": 2,
       "version_minor": 0
      },
      "text/plain": [
       "VBox(children=(Label(value='Waiting for wandb.init()...\\r'), FloatProgress(value=0.01666863381663764, max=1.0)…"
      ]
     },
     "metadata": {},
     "output_type": "display_data"
    },
    {
     "data": {
      "text/html": [
       "Tracking run with wandb version 0.15.3"
      ],
      "text/plain": [
       "<IPython.core.display.HTML object>"
      ]
     },
     "metadata": {},
     "output_type": "display_data"
    },
    {
     "data": {
      "text/html": [
       "Run data is saved locally in <code>/home/farzaneh/Documents/Bread/bread/src/bread/tests/wandb/run-20230526_104710-ft05pw8k</code>"
      ],
      "text/plain": [
       "<IPython.core.display.HTML object>"
      ]
     },
     "metadata": {},
     "output_type": "display_data"
    },
    {
     "data": {
      "text/html": [
       "Syncing run <strong><a href='https://wandb.ai/f-labbaf97/lineage_tracing/runs/ft05pw8k' target=\"_blank\">stellar-river-501</a></strong> to <a href='https://wandb.ai/f-labbaf97/lineage_tracing' target=\"_blank\">Weights & Biases</a> (<a href='https://wandb.me/run' target=\"_blank\">docs</a>)<br/>"
      ],
      "text/plain": [
       "<IPython.core.display.HTML object>"
      ]
     },
     "metadata": {},
     "output_type": "display_data"
    },
    {
     "data": {
      "text/html": [
       " View project at <a href='https://wandb.ai/f-labbaf97/lineage_tracing' target=\"_blank\">https://wandb.ai/f-labbaf97/lineage_tracing</a>"
      ],
      "text/plain": [
       "<IPython.core.display.HTML object>"
      ]
     },
     "metadata": {},
     "output_type": "display_data"
    },
    {
     "data": {
      "text/html": [
       " View run at <a href='https://wandb.ai/f-labbaf97/lineage_tracing/runs/ft05pw8k' target=\"_blank\">https://wandb.ai/f-labbaf97/lineage_tracing/runs/ft05pw8k</a>"
      ],
      "text/plain": [
       "<IPython.core.display.HTML object>"
      ]
     },
     "metadata": {},
     "output_type": "display_data"
    },
    {
     "name": "stdout",
     "output_type": "stream",
     "text": [
      "early stopping at  29 LR:  0.007029999999999997\n",
      "config:  {'epoch_n': 200, 'patience': 10, 'lr': 0.01, 'batch_size': 256, 'layers': [64, 64, 5], 'augment': True, 'features': ['dist_0', 'dist_std', 'poly_fit_budcm_budpt', 'poly_fit_expansion_vector', 'position_bud_std', 'position_bud_max', 'position_bud_min', 'position_bud_last', 'position_bud_first', 'orientation_bud_std', 'orientation_bud_max', 'orientation_bud_min', 'orientation_bud_last', 'orientation_bud_first', 'orientation_bud_last_minus_first', 'plyfit_orientation_bud'], 'train_set': 'all', 'cv_number': 3}\n",
      "yes. I am reloaded\n"
     ]
    },
    {
     "data": {
      "text/html": [
       "Finishing last run (ID:ft05pw8k) before initializing another..."
      ],
      "text/plain": [
       "<IPython.core.display.HTML object>"
      ]
     },
     "metadata": {},
     "output_type": "display_data"
    },
    {
     "data": {
      "text/html": [
       "Waiting for W&B process to finish... <strong style=\"color:green\">(success).</strong>"
      ],
      "text/plain": [
       "<IPython.core.display.HTML object>"
      ]
     },
     "metadata": {},
     "output_type": "display_data"
    },
    {
     "data": {
      "application/vnd.jupyter.widget-view+json": {
       "model_id": "864aee65e0b4475b8e2addcfd5cafb51",
       "version_major": 2,
       "version_minor": 0
      },
      "text/plain": [
       "VBox(children=(Label(value='0.003 MB of 0.003 MB uploaded (0.000 MB deduped)\\r'), FloatProgress(value=1.0, max…"
      ]
     },
     "metadata": {},
     "output_type": "display_data"
    },
    {
     "data": {
      "text/html": [
       "<style>\n",
       "    table.wandb td:nth-child(1) { padding: 0 10px; text-align: left ; width: auto;} td:nth-child(2) {text-align: left ; width: 100%}\n",
       "    .wandb-row { display: flex; flex-direction: row; flex-wrap: wrap; justify-content: flex-start; width: 100% }\n",
       "    .wandb-col { display: flex; flex-direction: column; flex-basis: 100%; flex: 1; padding: 10px; }\n",
       "    </style>\n",
       "<div class=\"wandb-row\"><div class=\"wandb-col\"><h3>Run history:</h3><br/><table class=\"wandb\"><tr><td>best_accuracy</td><td>▁▁▂▂▂▄▅▇▇▇▇▇▇▇███████████████</td></tr><tr><td>epoch</td><td>▁▁▁▂▂▂▃▃▃▃▃▄▄▄▅▅▅▅▅▆▆▆▇▇▇▇▇██</td></tr><tr><td>eval_accuracy</td><td>▂▁▂▃▂▅▅▇▆▆▃▂▆▅█▇▆▆█▅▄▆▅▇▆▅▄▅▆</td></tr><tr><td>lr</td><td>██▇▇▇▇▆▆▆▆▅▅▅▅▅▄▄▄▄▃▃▃▂▂▂▂▂▁▁</td></tr><tr><td>patience</td><td>▁▂▁▁▂▁▁▁▂▂▃▄▅▅▁▂▂▃▁▂▂▃▄▅▅▆▇▇█</td></tr><tr><td>train_accuracy</td><td>▁▅▅▅▆▆▆▆▆▆▇▇▇▇▇▇▇▇▇█▇▇███████</td></tr></table><br/></div><div class=\"wandb-col\"><h3>Run summary:</h3><br/><table class=\"wandb\"><tr><td>best_accuracy</td><td>0.88485</td></tr><tr><td>epoch</td><td>28</td></tr><tr><td>eval_accuracy</td><td>0.84848</td></tr><tr><td>lr</td><td>0.00713</td></tr><tr><td>patience</td><td>10</td></tr><tr><td>train_accuracy</td><td>0.86183</td></tr></table><br/></div></div>"
      ],
      "text/plain": [
       "<IPython.core.display.HTML object>"
      ]
     },
     "metadata": {},
     "output_type": "display_data"
    },
    {
     "data": {
      "text/html": [
       " View run <strong style=\"color:#cdcd00\">stellar-river-501</strong> at: <a href='https://wandb.ai/f-labbaf97/lineage_tracing/runs/ft05pw8k' target=\"_blank\">https://wandb.ai/f-labbaf97/lineage_tracing/runs/ft05pw8k</a><br/>Synced 6 W&B file(s), 0 media file(s), 0 artifact file(s) and 0 other file(s)"
      ],
      "text/plain": [
       "<IPython.core.display.HTML object>"
      ]
     },
     "metadata": {},
     "output_type": "display_data"
    },
    {
     "data": {
      "text/html": [
       "Find logs at: <code>./wandb/run-20230526_104710-ft05pw8k/logs</code>"
      ],
      "text/plain": [
       "<IPython.core.display.HTML object>"
      ]
     },
     "metadata": {},
     "output_type": "display_data"
    },
    {
     "data": {
      "text/html": [
       "Successfully finished last run (ID:ft05pw8k). Initializing new run:<br/>"
      ],
      "text/plain": [
       "<IPython.core.display.HTML object>"
      ]
     },
     "metadata": {},
     "output_type": "display_data"
    },
    {
     "data": {
      "application/vnd.jupyter.widget-view+json": {
       "model_id": "97fe8267b4434fa1bb1f09495e05c781",
       "version_major": 2,
       "version_minor": 0
      },
      "text/plain": [
       "VBox(children=(Label(value='Waiting for wandb.init()...\\r'), FloatProgress(value=0.016668597099972735, max=1.0…"
      ]
     },
     "metadata": {},
     "output_type": "display_data"
    },
    {
     "data": {
      "text/html": [
       "Tracking run with wandb version 0.15.3"
      ],
      "text/plain": [
       "<IPython.core.display.HTML object>"
      ]
     },
     "metadata": {},
     "output_type": "display_data"
    },
    {
     "data": {
      "text/html": [
       "Run data is saved locally in <code>/home/farzaneh/Documents/Bread/bread/src/bread/tests/wandb/run-20230526_104727-88sjfxx4</code>"
      ],
      "text/plain": [
       "<IPython.core.display.HTML object>"
      ]
     },
     "metadata": {},
     "output_type": "display_data"
    },
    {
     "data": {
      "text/html": [
       "Syncing run <strong><a href='https://wandb.ai/f-labbaf97/lineage_tracing/runs/88sjfxx4' target=\"_blank\">clear-sunset-502</a></strong> to <a href='https://wandb.ai/f-labbaf97/lineage_tracing' target=\"_blank\">Weights & Biases</a> (<a href='https://wandb.me/run' target=\"_blank\">docs</a>)<br/>"
      ],
      "text/plain": [
       "<IPython.core.display.HTML object>"
      ]
     },
     "metadata": {},
     "output_type": "display_data"
    },
    {
     "data": {
      "text/html": [
       " View project at <a href='https://wandb.ai/f-labbaf97/lineage_tracing' target=\"_blank\">https://wandb.ai/f-labbaf97/lineage_tracing</a>"
      ],
      "text/plain": [
       "<IPython.core.display.HTML object>"
      ]
     },
     "metadata": {},
     "output_type": "display_data"
    },
    {
     "data": {
      "text/html": [
       " View run at <a href='https://wandb.ai/f-labbaf97/lineage_tracing/runs/88sjfxx4' target=\"_blank\">https://wandb.ai/f-labbaf97/lineage_tracing/runs/88sjfxx4</a>"
      ],
      "text/plain": [
       "<IPython.core.display.HTML object>"
      ]
     },
     "metadata": {},
     "output_type": "display_data"
    },
    {
     "name": "stdout",
     "output_type": "stream",
     "text": [
      "early stopping at  16 LR:  0.008316999999999998\n",
      "config:  {'epoch_n': 200, 'patience': 10, 'lr': 0.01, 'batch_size': 256, 'layers': [64, 64, 5], 'augment': True, 'features': ['dist_0', 'dist_std', 'poly_fit_budcm_budpt', 'poly_fit_expansion_vector', 'position_bud_std', 'position_bud_max', 'position_bud_min', 'position_bud_last', 'position_bud_first', 'orientation_bud_std', 'orientation_bud_max', 'orientation_bud_min', 'orientation_bud_last', 'orientation_bud_first', 'orientation_bud_last_minus_first', 'plyfit_orientation_bud'], 'train_set': 'all', 'cv_number': 4}\n",
      "yes. I am reloaded\n"
     ]
    },
    {
     "data": {
      "text/html": [
       "Finishing last run (ID:88sjfxx4) before initializing another..."
      ],
      "text/plain": [
       "<IPython.core.display.HTML object>"
      ]
     },
     "metadata": {},
     "output_type": "display_data"
    },
    {
     "data": {
      "text/html": [
       "Waiting for W&B process to finish... <strong style=\"color:green\">(success).</strong>"
      ],
      "text/plain": [
       "<IPython.core.display.HTML object>"
      ]
     },
     "metadata": {},
     "output_type": "display_data"
    },
    {
     "data": {
      "text/html": [
       "<style>\n",
       "    table.wandb td:nth-child(1) { padding: 0 10px; text-align: left ; width: auto;} td:nth-child(2) {text-align: left ; width: 100%}\n",
       "    .wandb-row { display: flex; flex-direction: row; flex-wrap: wrap; justify-content: flex-start; width: 100% }\n",
       "    .wandb-col { display: flex; flex-direction: column; flex-basis: 100%; flex: 1; padding: 10px; }\n",
       "    </style>\n",
       "<div class=\"wandb-row\"><div class=\"wandb-col\"><h3>Run history:</h3><br/><table class=\"wandb\"><tr><td>best_accuracy</td><td>▁▃▃▅▅███████████</td></tr><tr><td>epoch</td><td>▁▁▂▂▃▃▄▄▅▅▆▆▇▇██</td></tr><tr><td>eval_accuracy</td><td>▁▃▃▅▂█▅▄▅▆▅▅█▃▅▅</td></tr><tr><td>lr</td><td>██▇▇▆▆▅▅▄▄▃▃▂▂▁▁</td></tr><tr><td>patience</td><td>▁▁▂▁▂▁▂▂▃▄▅▅▆▇▇█</td></tr><tr><td>train_accuracy</td><td>▁▅▅▆▆▇▇▇▇▇▇█████</td></tr></table><br/></div><div class=\"wandb-col\"><h3>Run summary:</h3><br/><table class=\"wandb\"><tr><td>best_accuracy</td><td>0.85455</td></tr><tr><td>epoch</td><td>15</td></tr><tr><td>eval_accuracy</td><td>0.81818</td></tr><tr><td>lr</td><td>0.00842</td></tr><tr><td>patience</td><td>10</td></tr><tr><td>train_accuracy</td><td>0.85117</td></tr></table><br/></div></div>"
      ],
      "text/plain": [
       "<IPython.core.display.HTML object>"
      ]
     },
     "metadata": {},
     "output_type": "display_data"
    },
    {
     "data": {
      "text/html": [
       " View run <strong style=\"color:#cdcd00\">clear-sunset-502</strong> at: <a href='https://wandb.ai/f-labbaf97/lineage_tracing/runs/88sjfxx4' target=\"_blank\">https://wandb.ai/f-labbaf97/lineage_tracing/runs/88sjfxx4</a><br/>Synced 6 W&B file(s), 0 media file(s), 0 artifact file(s) and 0 other file(s)"
      ],
      "text/plain": [
       "<IPython.core.display.HTML object>"
      ]
     },
     "metadata": {},
     "output_type": "display_data"
    },
    {
     "data": {
      "text/html": [
       "Find logs at: <code>./wandb/run-20230526_104727-88sjfxx4/logs</code>"
      ],
      "text/plain": [
       "<IPython.core.display.HTML object>"
      ]
     },
     "metadata": {},
     "output_type": "display_data"
    },
    {
     "data": {
      "text/html": [
       "Successfully finished last run (ID:88sjfxx4). Initializing new run:<br/>"
      ],
      "text/plain": [
       "<IPython.core.display.HTML object>"
      ]
     },
     "metadata": {},
     "output_type": "display_data"
    },
    {
     "data": {
      "application/vnd.jupyter.widget-view+json": {
       "model_id": "6421a81b3d0c4a20bcfc8e04662b7d24",
       "version_major": 2,
       "version_minor": 0
      },
      "text/plain": [
       "VBox(children=(Label(value='Waiting for wandb.init()...\\r'), FloatProgress(value=0.016669897833344292, max=1.0…"
      ]
     },
     "metadata": {},
     "output_type": "display_data"
    },
    {
     "data": {
      "text/html": [
       "Tracking run with wandb version 0.15.3"
      ],
      "text/plain": [
       "<IPython.core.display.HTML object>"
      ]
     },
     "metadata": {},
     "output_type": "display_data"
    },
    {
     "data": {
      "text/html": [
       "Run data is saved locally in <code>/home/farzaneh/Documents/Bread/bread/src/bread/tests/wandb/run-20230526_104741-zp8hzi8c</code>"
      ],
      "text/plain": [
       "<IPython.core.display.HTML object>"
      ]
     },
     "metadata": {},
     "output_type": "display_data"
    },
    {
     "data": {
      "text/html": [
       "Syncing run <strong><a href='https://wandb.ai/f-labbaf97/lineage_tracing/runs/zp8hzi8c' target=\"_blank\">effortless-bird-503</a></strong> to <a href='https://wandb.ai/f-labbaf97/lineage_tracing' target=\"_blank\">Weights & Biases</a> (<a href='https://wandb.me/run' target=\"_blank\">docs</a>)<br/>"
      ],
      "text/plain": [
       "<IPython.core.display.HTML object>"
      ]
     },
     "metadata": {},
     "output_type": "display_data"
    },
    {
     "data": {
      "text/html": [
       " View project at <a href='https://wandb.ai/f-labbaf97/lineage_tracing' target=\"_blank\">https://wandb.ai/f-labbaf97/lineage_tracing</a>"
      ],
      "text/plain": [
       "<IPython.core.display.HTML object>"
      ]
     },
     "metadata": {},
     "output_type": "display_data"
    },
    {
     "data": {
      "text/html": [
       " View run at <a href='https://wandb.ai/f-labbaf97/lineage_tracing/runs/zp8hzi8c' target=\"_blank\">https://wandb.ai/f-labbaf97/lineage_tracing/runs/zp8hzi8c</a>"
      ],
      "text/plain": [
       "<IPython.core.display.HTML object>"
      ]
     },
     "metadata": {},
     "output_type": "display_data"
    },
    {
     "name": "stdout",
     "output_type": "stream",
     "text": [
      "early stopping at  22 LR:  0.007722999999999997\n",
      "config:  {'epoch_n': 200, 'patience': 10, 'lr': 0.01, 'batch_size': 256, 'layers': [64, 64, 5], 'augment': True, 'features': ['dist_0', 'dist_std', 'poly_fit_budcm_budpt', 'poly_fit_expansion_vector', 'position_bud_std', 'position_bud_max', 'position_bud_min', 'position_bud_last', 'position_bud_first', 'orientation_bud_std', 'orientation_bud_max', 'orientation_bud_min', 'orientation_bud_last', 'orientation_bud_first', 'orientation_bud_last_minus_first', 'plyfit_orientation_bud'], 'train_set': 'all', 'cv_number': 5}\n",
      "yes. I am reloaded\n"
     ]
    },
    {
     "data": {
      "text/html": [
       "Finishing last run (ID:zp8hzi8c) before initializing another..."
      ],
      "text/plain": [
       "<IPython.core.display.HTML object>"
      ]
     },
     "metadata": {},
     "output_type": "display_data"
    },
    {
     "data": {
      "text/html": [
       "Waiting for W&B process to finish... <strong style=\"color:green\">(success).</strong>"
      ],
      "text/plain": [
       "<IPython.core.display.HTML object>"
      ]
     },
     "metadata": {},
     "output_type": "display_data"
    },
    {
     "data": {
      "application/vnd.jupyter.widget-view+json": {
       "model_id": "23109ad6d8f84294bce966cddcaa7087",
       "version_major": 2,
       "version_minor": 0
      },
      "text/plain": [
       "VBox(children=(Label(value='0.003 MB of 0.003 MB uploaded (0.000 MB deduped)\\r'), FloatProgress(value=1.0, max…"
      ]
     },
     "metadata": {},
     "output_type": "display_data"
    },
    {
     "data": {
      "text/html": [
       "<style>\n",
       "    table.wandb td:nth-child(1) { padding: 0 10px; text-align: left ; width: auto;} td:nth-child(2) {text-align: left ; width: 100%}\n",
       "    .wandb-row { display: flex; flex-direction: row; flex-wrap: wrap; justify-content: flex-start; width: 100% }\n",
       "    .wandb-col { display: flex; flex-direction: column; flex-basis: 100%; flex: 1; padding: 10px; }\n",
       "    </style>\n",
       "<div class=\"wandb-row\"><div class=\"wandb-col\"><h3>Run history:</h3><br/><table class=\"wandb\"><tr><td>best_accuracy</td><td>▁▂▂▃▃▃▅▅▅▅▅███████████</td></tr><tr><td>epoch</td><td>▁▁▂▂▂▃▃▃▄▄▄▅▅▅▆▆▆▇▇▇██</td></tr><tr><td>eval_accuracy</td><td>▃▄▃▄▃▁▆▆▅▃▆█▅▅▆▄▄▇█▄▄▅</td></tr><tr><td>lr</td><td>██▇▇▇▆▆▆▅▅▅▄▄▄▃▃▃▂▂▂▁▁</td></tr><tr><td>patience</td><td>▁▁▂▁▂▂▁▂▂▃▄▁▂▂▃▄▅▅▆▇▇█</td></tr><tr><td>train_accuracy</td><td>▁▄▅▅▆▆▆▇▇▇▇▇▇▇▇▇██████</td></tr></table><br/></div><div class=\"wandb-col\"><h3>Run summary:</h3><br/><table class=\"wandb\"><tr><td>best_accuracy</td><td>0.86061</td></tr><tr><td>epoch</td><td>21</td></tr><tr><td>eval_accuracy</td><td>0.83636</td></tr><tr><td>lr</td><td>0.00782</td></tr><tr><td>patience</td><td>10</td></tr><tr><td>train_accuracy</td><td>0.86012</td></tr></table><br/></div></div>"
      ],
      "text/plain": [
       "<IPython.core.display.HTML object>"
      ]
     },
     "metadata": {},
     "output_type": "display_data"
    },
    {
     "data": {
      "text/html": [
       " View run <strong style=\"color:#cdcd00\">effortless-bird-503</strong> at: <a href='https://wandb.ai/f-labbaf97/lineage_tracing/runs/zp8hzi8c' target=\"_blank\">https://wandb.ai/f-labbaf97/lineage_tracing/runs/zp8hzi8c</a><br/>Synced 6 W&B file(s), 0 media file(s), 0 artifact file(s) and 0 other file(s)"
      ],
      "text/plain": [
       "<IPython.core.display.HTML object>"
      ]
     },
     "metadata": {},
     "output_type": "display_data"
    },
    {
     "data": {
      "text/html": [
       "Find logs at: <code>./wandb/run-20230526_104741-zp8hzi8c/logs</code>"
      ],
      "text/plain": [
       "<IPython.core.display.HTML object>"
      ]
     },
     "metadata": {},
     "output_type": "display_data"
    },
    {
     "data": {
      "text/html": [
       "Successfully finished last run (ID:zp8hzi8c). Initializing new run:<br/>"
      ],
      "text/plain": [
       "<IPython.core.display.HTML object>"
      ]
     },
     "metadata": {},
     "output_type": "display_data"
    },
    {
     "data": {
      "application/vnd.jupyter.widget-view+json": {
       "model_id": "66bf5a179b324bb29a9725efdba112a6",
       "version_major": 2,
       "version_minor": 0
      },
      "text/plain": [
       "VBox(children=(Label(value='Waiting for wandb.init()...\\r'), FloatProgress(value=0.01666892105010144, max=1.0)…"
      ]
     },
     "metadata": {},
     "output_type": "display_data"
    },
    {
     "data": {
      "text/html": [
       "Tracking run with wandb version 0.15.3"
      ],
      "text/plain": [
       "<IPython.core.display.HTML object>"
      ]
     },
     "metadata": {},
     "output_type": "display_data"
    },
    {
     "data": {
      "text/html": [
       "Run data is saved locally in <code>/home/farzaneh/Documents/Bread/bread/src/bread/tests/wandb/run-20230526_104757-3dxktyfh</code>"
      ],
      "text/plain": [
       "<IPython.core.display.HTML object>"
      ]
     },
     "metadata": {},
     "output_type": "display_data"
    },
    {
     "data": {
      "text/html": [
       "Syncing run <strong><a href='https://wandb.ai/f-labbaf97/lineage_tracing/runs/3dxktyfh' target=\"_blank\">glowing-lake-504</a></strong> to <a href='https://wandb.ai/f-labbaf97/lineage_tracing' target=\"_blank\">Weights & Biases</a> (<a href='https://wandb.me/run' target=\"_blank\">docs</a>)<br/>"
      ],
      "text/plain": [
       "<IPython.core.display.HTML object>"
      ]
     },
     "metadata": {},
     "output_type": "display_data"
    },
    {
     "data": {
      "text/html": [
       " View project at <a href='https://wandb.ai/f-labbaf97/lineage_tracing' target=\"_blank\">https://wandb.ai/f-labbaf97/lineage_tracing</a>"
      ],
      "text/plain": [
       "<IPython.core.display.HTML object>"
      ]
     },
     "metadata": {},
     "output_type": "display_data"
    },
    {
     "data": {
      "text/html": [
       " View run at <a href='https://wandb.ai/f-labbaf97/lineage_tracing/runs/3dxktyfh' target=\"_blank\">https://wandb.ai/f-labbaf97/lineage_tracing/runs/3dxktyfh</a>"
      ],
      "text/plain": [
       "<IPython.core.display.HTML object>"
      ]
     },
     "metadata": {},
     "output_type": "display_data"
    },
    {
     "name": "stdout",
     "output_type": "stream",
     "text": [
      "early stopping at  29 LR:  0.007029999999999997\n",
      "accuracy:  0.8583570646221247 +/- 0.015580173489105039\n"
     ]
    }
   ],
   "source": [
    "# for the full list minus bad ones. with fillings (0.849886820007302 +/- 0.012254935663677358) (0.8559401241328952 +/- 0.009566047660644358)(0.8583570646221247 +/- 0.015580173489105039)\n",
    "f_list = ['dist_0','dist_std','poly_fit_budcm_budpt','poly_fit_expansion_vector','position_bud_std','position_bud_max','position_bud_min','position_bud_last','position_bud_first','orientation_bud_std','orientation_bud_max','orientation_bud_min','orientation_bud_last','orientation_bud_first','orientation_bud_last_minus_first','plyfit_orientation_bud']\n",
    "\n",
    "matrix_feat_custom = get_custom_matrix_features(all_candid_features, all_gt, f_list, filling_features=[10,10,10,10,0,0,0,10,-1,-1,-1,-1,10,-1,-1,-1,-1,10,-1])\n",
    "config = {'epoch_n': 200, 'patience': 10, 'lr': 0.01, 'batch_size': 256, 'layers': [len(f_list)*4, 64, 5], 'augment': True , 'features':f_list,'train_set': 'all',}\n",
    "models, accuracies = cv_nn(matrix_feat_custom, config=config)\n"
   ]
  },
  {
   "cell_type": "code",
   "execution_count": 22,
   "metadata": {},
   "outputs": [
    {
     "name": "stdout",
     "output_type": "stream",
     "text": [
      "config:  {'epoch_n': 200, 'patience': 10, 'lr': 0.01, 'batch_size': 256, 'layers': [64, 64, 5], 'augment': True, 'features': ['dist_0', 'dist_std', 'poly_fit_budcm_budpt', 'poly_fit_expansion_vector', 'position_bud_std', 'position_bud_max', 'position_bud_min', 'position_bud_last', 'position_bud_first', 'orientation_bud_std', 'orientation_bud_max', 'orientation_bud_min', 'orientation_bud_last', 'orientation_bud_first', 'orientation_bud_last_minus_first', 'plyfit_orientation_bud'], 'train_set': 'all', 'cv_number': 1}\n",
      "yes. I am reloaded\n"
     ]
    },
    {
     "data": {
      "text/html": [
       "Finishing last run (ID:fxv5fha5) before initializing another..."
      ],
      "text/plain": [
       "<IPython.core.display.HTML object>"
      ]
     },
     "metadata": {},
     "output_type": "display_data"
    },
    {
     "data": {
      "text/html": [
       "Waiting for W&B process to finish... <strong style=\"color:green\">(success).</strong>"
      ],
      "text/plain": [
       "<IPython.core.display.HTML object>"
      ]
     },
     "metadata": {},
     "output_type": "display_data"
    },
    {
     "data": {
      "application/vnd.jupyter.widget-view+json": {
       "model_id": "7606d378c4ff4aeab5431016c46813db",
       "version_major": 2,
       "version_minor": 0
      },
      "text/plain": [
       "VBox(children=(Label(value='0.003 MB of 0.003 MB uploaded (0.000 MB deduped)\\r'), FloatProgress(value=1.0, max…"
      ]
     },
     "metadata": {},
     "output_type": "display_data"
    },
    {
     "data": {
      "text/html": [
       "<style>\n",
       "    table.wandb td:nth-child(1) { padding: 0 10px; text-align: left ; width: auto;} td:nth-child(2) {text-align: left ; width: 100%}\n",
       "    .wandb-row { display: flex; flex-direction: row; flex-wrap: wrap; justify-content: flex-start; width: 100% }\n",
       "    .wandb-col { display: flex; flex-direction: column; flex-basis: 100%; flex: 1; padding: 10px; }\n",
       "    </style>\n",
       "<div class=\"wandb-row\"><div class=\"wandb-col\"><h3>Run history:</h3><br/><table class=\"wandb\"><tr><td>best_accuracy</td><td>▁▃▆▇▇▇▇▇▇▇▇▇▇███████████</td></tr><tr><td>epoch</td><td>▁▁▂▂▂▃▃▃▃▄▄▄▅▅▅▆▆▆▆▇▇▇██</td></tr><tr><td>eval_accuracy</td><td>▁▃▆▇▅▄▅▄▆▅▄▄▆█▇▅▆▆▆▆▅▅▂▅</td></tr><tr><td>lr</td><td>██▇▇▇▆▆▆▆▅▅▅▄▄▄▃▃▃▃▂▂▂▁▁</td></tr><tr><td>patience</td><td>▁▁▁▁▂▂▃▄▅▅▆▇▇▁▂▂▃▄▅▅▆▇▇█</td></tr><tr><td>train_accuracy</td><td>▁▅▅▆▆▆▇▇▇▇▇▇▇▇▇▇████████</td></tr></table><br/></div><div class=\"wandb-col\"><h3>Run summary:</h3><br/><table class=\"wandb\"><tr><td>best_accuracy</td><td>0.85455</td></tr><tr><td>epoch</td><td>23</td></tr><tr><td>eval_accuracy</td><td>0.81212</td></tr><tr><td>lr</td><td>0.00762</td></tr><tr><td>patience</td><td>10</td></tr><tr><td>train_accuracy</td><td>0.8576</td></tr></table><br/></div></div>"
      ],
      "text/plain": [
       "<IPython.core.display.HTML object>"
      ]
     },
     "metadata": {},
     "output_type": "display_data"
    },
    {
     "data": {
      "text/html": [
       " View run <strong style=\"color:#cdcd00\">eager-meadow-509</strong> at: <a href='https://wandb.ai/f-labbaf97/lineage_tracing/runs/fxv5fha5' target=\"_blank\">https://wandb.ai/f-labbaf97/lineage_tracing/runs/fxv5fha5</a><br/>Synced 6 W&B file(s), 0 media file(s), 0 artifact file(s) and 0 other file(s)"
      ],
      "text/plain": [
       "<IPython.core.display.HTML object>"
      ]
     },
     "metadata": {},
     "output_type": "display_data"
    },
    {
     "data": {
      "text/html": [
       "Find logs at: <code>./wandb/run-20230526_105003-fxv5fha5/logs</code>"
      ],
      "text/plain": [
       "<IPython.core.display.HTML object>"
      ]
     },
     "metadata": {},
     "output_type": "display_data"
    },
    {
     "data": {
      "text/html": [
       "Successfully finished last run (ID:fxv5fha5). Initializing new run:<br/>"
      ],
      "text/plain": [
       "<IPython.core.display.HTML object>"
      ]
     },
     "metadata": {},
     "output_type": "display_data"
    },
    {
     "data": {
      "application/vnd.jupyter.widget-view+json": {
       "model_id": "3993b2c2fbde4610900457038474e71e",
       "version_major": 2,
       "version_minor": 0
      },
      "text/plain": [
       "VBox(children=(Label(value='Waiting for wandb.init()...\\r'), FloatProgress(value=0.016669957266761532, max=1.0…"
      ]
     },
     "metadata": {},
     "output_type": "display_data"
    },
    {
     "data": {
      "text/html": [
       "Tracking run with wandb version 0.15.3"
      ],
      "text/plain": [
       "<IPython.core.display.HTML object>"
      ]
     },
     "metadata": {},
     "output_type": "display_data"
    },
    {
     "data": {
      "text/html": [
       "Run data is saved locally in <code>/home/farzaneh/Documents/Bread/bread/src/bread/tests/wandb/run-20230526_105053-npbeqxdw</code>"
      ],
      "text/plain": [
       "<IPython.core.display.HTML object>"
      ]
     },
     "metadata": {},
     "output_type": "display_data"
    },
    {
     "data": {
      "text/html": [
       "Syncing run <strong><a href='https://wandb.ai/f-labbaf97/lineage_tracing/runs/npbeqxdw' target=\"_blank\">wandering-wildflower-510</a></strong> to <a href='https://wandb.ai/f-labbaf97/lineage_tracing' target=\"_blank\">Weights & Biases</a> (<a href='https://wandb.me/run' target=\"_blank\">docs</a>)<br/>"
      ],
      "text/plain": [
       "<IPython.core.display.HTML object>"
      ]
     },
     "metadata": {},
     "output_type": "display_data"
    },
    {
     "data": {
      "text/html": [
       " View project at <a href='https://wandb.ai/f-labbaf97/lineage_tracing' target=\"_blank\">https://wandb.ai/f-labbaf97/lineage_tracing</a>"
      ],
      "text/plain": [
       "<IPython.core.display.HTML object>"
      ]
     },
     "metadata": {},
     "output_type": "display_data"
    },
    {
     "data": {
      "text/html": [
       " View run at <a href='https://wandb.ai/f-labbaf97/lineage_tracing/runs/npbeqxdw' target=\"_blank\">https://wandb.ai/f-labbaf97/lineage_tracing/runs/npbeqxdw</a>"
      ],
      "text/plain": [
       "<IPython.core.display.HTML object>"
      ]
     },
     "metadata": {},
     "output_type": "display_data"
    },
    {
     "name": "stdout",
     "output_type": "stream",
     "text": [
      "early stopping at  28 LR:  0.007128999999999997\n",
      "config:  {'epoch_n': 200, 'patience': 10, 'lr': 0.01, 'batch_size': 256, 'layers': [64, 64, 5], 'augment': True, 'features': ['dist_0', 'dist_std', 'poly_fit_budcm_budpt', 'poly_fit_expansion_vector', 'position_bud_std', 'position_bud_max', 'position_bud_min', 'position_bud_last', 'position_bud_first', 'orientation_bud_std', 'orientation_bud_max', 'orientation_bud_min', 'orientation_bud_last', 'orientation_bud_first', 'orientation_bud_last_minus_first', 'plyfit_orientation_bud'], 'train_set': 'all', 'cv_number': 2}\n",
      "yes. I am reloaded\n"
     ]
    },
    {
     "data": {
      "text/html": [
       "Finishing last run (ID:npbeqxdw) before initializing another..."
      ],
      "text/plain": [
       "<IPython.core.display.HTML object>"
      ]
     },
     "metadata": {},
     "output_type": "display_data"
    },
    {
     "data": {
      "text/html": [
       "Waiting for W&B process to finish... <strong style=\"color:green\">(success).</strong>"
      ],
      "text/plain": [
       "<IPython.core.display.HTML object>"
      ]
     },
     "metadata": {},
     "output_type": "display_data"
    },
    {
     "data": {
      "text/html": [
       "<style>\n",
       "    table.wandb td:nth-child(1) { padding: 0 10px; text-align: left ; width: auto;} td:nth-child(2) {text-align: left ; width: 100%}\n",
       "    .wandb-row { display: flex; flex-direction: row; flex-wrap: wrap; justify-content: flex-start; width: 100% }\n",
       "    .wandb-col { display: flex; flex-direction: column; flex-basis: 100%; flex: 1; padding: 10px; }\n",
       "    </style>\n",
       "<div class=\"wandb-row\"><div class=\"wandb-col\"><h3>Run history:</h3><br/><table class=\"wandb\"><tr><td>best_accuracy</td><td>▁▁▁▁▅▅▅▅▇▇▇▇▇▇▇▇▇███████████</td></tr><tr><td>epoch</td><td>▁▁▂▂▂▂▃▃▃▃▄▄▄▄▅▅▅▅▆▆▆▆▇▇▇▇██</td></tr><tr><td>eval_accuracy</td><td>▅▁▄▁▆▆▅▄█▇▅▇▆▅▇▇▇██▇██▆█▆██▇</td></tr><tr><td>lr</td><td>██▇▇▇▇▆▆▆▆▅▅▅▅▄▄▄▄▃▃▃▃▂▂▂▂▁▁</td></tr><tr><td>patience</td><td>▁▂▂▃▁▂▂▃▁▂▂▃▄▅▅▆▇▁▂▂▃▄▅▅▆▇▇█</td></tr><tr><td>train_accuracy</td><td>▁▅▅▆▆▆▆▆▇▇▇▇▇▇▇▇▇▇▇▇▇███████</td></tr></table><br/></div><div class=\"wandb-col\"><h3>Run summary:</h3><br/><table class=\"wandb\"><tr><td>best_accuracy</td><td>0.84337</td></tr><tr><td>epoch</td><td>27</td></tr><tr><td>eval_accuracy</td><td>0.83133</td></tr><tr><td>lr</td><td>0.00723</td></tr><tr><td>patience</td><td>10</td></tr><tr><td>train_accuracy</td><td>0.86604</td></tr></table><br/></div></div>"
      ],
      "text/plain": [
       "<IPython.core.display.HTML object>"
      ]
     },
     "metadata": {},
     "output_type": "display_data"
    },
    {
     "data": {
      "text/html": [
       " View run <strong style=\"color:#cdcd00\">wandering-wildflower-510</strong> at: <a href='https://wandb.ai/f-labbaf97/lineage_tracing/runs/npbeqxdw' target=\"_blank\">https://wandb.ai/f-labbaf97/lineage_tracing/runs/npbeqxdw</a><br/>Synced 6 W&B file(s), 0 media file(s), 0 artifact file(s) and 0 other file(s)"
      ],
      "text/plain": [
       "<IPython.core.display.HTML object>"
      ]
     },
     "metadata": {},
     "output_type": "display_data"
    },
    {
     "data": {
      "text/html": [
       "Find logs at: <code>./wandb/run-20230526_105053-npbeqxdw/logs</code>"
      ],
      "text/plain": [
       "<IPython.core.display.HTML object>"
      ]
     },
     "metadata": {},
     "output_type": "display_data"
    },
    {
     "data": {
      "text/html": [
       "Successfully finished last run (ID:npbeqxdw). Initializing new run:<br/>"
      ],
      "text/plain": [
       "<IPython.core.display.HTML object>"
      ]
     },
     "metadata": {},
     "output_type": "display_data"
    },
    {
     "data": {
      "application/vnd.jupyter.widget-view+json": {
       "model_id": "454c7f2a3e014377ba66376343b05f9c",
       "version_major": 2,
       "version_minor": 0
      },
      "text/plain": [
       "VBox(children=(Label(value='Waiting for wandb.init()...\\r'), FloatProgress(value=0.01666874751657209, max=1.0)…"
      ]
     },
     "metadata": {},
     "output_type": "display_data"
    },
    {
     "data": {
      "text/html": [
       "Tracking run with wandb version 0.15.3"
      ],
      "text/plain": [
       "<IPython.core.display.HTML object>"
      ]
     },
     "metadata": {},
     "output_type": "display_data"
    },
    {
     "data": {
      "text/html": [
       "Run data is saved locally in <code>/home/farzaneh/Documents/Bread/bread/src/bread/tests/wandb/run-20230526_105111-0fps7mtz</code>"
      ],
      "text/plain": [
       "<IPython.core.display.HTML object>"
      ]
     },
     "metadata": {},
     "output_type": "display_data"
    },
    {
     "data": {
      "text/html": [
       "Syncing run <strong><a href='https://wandb.ai/f-labbaf97/lineage_tracing/runs/0fps7mtz' target=\"_blank\">morning-serenity-511</a></strong> to <a href='https://wandb.ai/f-labbaf97/lineage_tracing' target=\"_blank\">Weights & Biases</a> (<a href='https://wandb.me/run' target=\"_blank\">docs</a>)<br/>"
      ],
      "text/plain": [
       "<IPython.core.display.HTML object>"
      ]
     },
     "metadata": {},
     "output_type": "display_data"
    },
    {
     "data": {
      "text/html": [
       " View project at <a href='https://wandb.ai/f-labbaf97/lineage_tracing' target=\"_blank\">https://wandb.ai/f-labbaf97/lineage_tracing</a>"
      ],
      "text/plain": [
       "<IPython.core.display.HTML object>"
      ]
     },
     "metadata": {},
     "output_type": "display_data"
    },
    {
     "data": {
      "text/html": [
       " View run at <a href='https://wandb.ai/f-labbaf97/lineage_tracing/runs/0fps7mtz' target=\"_blank\">https://wandb.ai/f-labbaf97/lineage_tracing/runs/0fps7mtz</a>"
      ],
      "text/plain": [
       "<IPython.core.display.HTML object>"
      ]
     },
     "metadata": {},
     "output_type": "display_data"
    },
    {
     "name": "stdout",
     "output_type": "stream",
     "text": [
      "early stopping at  29 LR:  0.007029999999999997\n",
      "config:  {'epoch_n': 200, 'patience': 10, 'lr': 0.01, 'batch_size': 256, 'layers': [64, 64, 5], 'augment': True, 'features': ['dist_0', 'dist_std', 'poly_fit_budcm_budpt', 'poly_fit_expansion_vector', 'position_bud_std', 'position_bud_max', 'position_bud_min', 'position_bud_last', 'position_bud_first', 'orientation_bud_std', 'orientation_bud_max', 'orientation_bud_min', 'orientation_bud_last', 'orientation_bud_first', 'orientation_bud_last_minus_first', 'plyfit_orientation_bud'], 'train_set': 'all', 'cv_number': 3}\n",
      "yes. I am reloaded\n"
     ]
    },
    {
     "data": {
      "text/html": [
       "Finishing last run (ID:0fps7mtz) before initializing another..."
      ],
      "text/plain": [
       "<IPython.core.display.HTML object>"
      ]
     },
     "metadata": {},
     "output_type": "display_data"
    },
    {
     "data": {
      "text/html": [
       "Waiting for W&B process to finish... <strong style=\"color:green\">(success).</strong>"
      ],
      "text/plain": [
       "<IPython.core.display.HTML object>"
      ]
     },
     "metadata": {},
     "output_type": "display_data"
    },
    {
     "data": {
      "application/vnd.jupyter.widget-view+json": {
       "model_id": "b7ab2603cc034d74b2ab30eb9c1cfd48",
       "version_major": 2,
       "version_minor": 0
      },
      "text/plain": [
       "VBox(children=(Label(value='0.003 MB of 0.003 MB uploaded (0.000 MB deduped)\\r'), FloatProgress(value=1.0, max…"
      ]
     },
     "metadata": {},
     "output_type": "display_data"
    },
    {
     "data": {
      "text/html": [
       "<style>\n",
       "    table.wandb td:nth-child(1) { padding: 0 10px; text-align: left ; width: auto;} td:nth-child(2) {text-align: left ; width: 100%}\n",
       "    .wandb-row { display: flex; flex-direction: row; flex-wrap: wrap; justify-content: flex-start; width: 100% }\n",
       "    .wandb-col { display: flex; flex-direction: column; flex-basis: 100%; flex: 1; padding: 10px; }\n",
       "    </style>\n",
       "<div class=\"wandb-row\"><div class=\"wandb-col\"><h3>Run history:</h3><br/><table class=\"wandb\"><tr><td>best_accuracy</td><td>▁▄▄▅▅▅▇▇▇▇▇▇▇▇▇██████████████</td></tr><tr><td>epoch</td><td>▁▁▁▂▂▂▃▃▃▃▃▄▄▄▅▅▅▅▅▆▆▆▇▇▇▇▇██</td></tr><tr><td>eval_accuracy</td><td>▁▄▄▅▅▅▇▇▆▆▇▇▆▇▇█▆▇██▇▆▇▇▇▆▇▇▇</td></tr><tr><td>lr</td><td>██▇▇▇▇▆▆▆▆▅▅▅▅▅▄▄▄▄▃▃▃▂▂▂▂▂▁▁</td></tr><tr><td>patience</td><td>▁▁▂▁▂▂▁▂▂▃▁▂▂▃▄▁▂▂▁▂▂▃▄▅▅▆▇▇█</td></tr><tr><td>train_accuracy</td><td>▁▄▅▆▆▆▆▆▆▇▇▇▇▇▇▇▇▇▇▇██▇▇█████</td></tr></table><br/></div><div class=\"wandb-col\"><h3>Run summary:</h3><br/><table class=\"wandb\"><tr><td>best_accuracy</td><td>0.87879</td></tr><tr><td>epoch</td><td>28</td></tr><tr><td>eval_accuracy</td><td>0.85455</td></tr><tr><td>lr</td><td>0.00713</td></tr><tr><td>patience</td><td>10</td></tr><tr><td>train_accuracy</td><td>0.85949</td></tr></table><br/></div></div>"
      ],
      "text/plain": [
       "<IPython.core.display.HTML object>"
      ]
     },
     "metadata": {},
     "output_type": "display_data"
    },
    {
     "data": {
      "text/html": [
       " View run <strong style=\"color:#cdcd00\">morning-serenity-511</strong> at: <a href='https://wandb.ai/f-labbaf97/lineage_tracing/runs/0fps7mtz' target=\"_blank\">https://wandb.ai/f-labbaf97/lineage_tracing/runs/0fps7mtz</a><br/>Synced 6 W&B file(s), 0 media file(s), 0 artifact file(s) and 0 other file(s)"
      ],
      "text/plain": [
       "<IPython.core.display.HTML object>"
      ]
     },
     "metadata": {},
     "output_type": "display_data"
    },
    {
     "data": {
      "text/html": [
       "Find logs at: <code>./wandb/run-20230526_105111-0fps7mtz/logs</code>"
      ],
      "text/plain": [
       "<IPython.core.display.HTML object>"
      ]
     },
     "metadata": {},
     "output_type": "display_data"
    },
    {
     "data": {
      "text/html": [
       "Successfully finished last run (ID:0fps7mtz). Initializing new run:<br/>"
      ],
      "text/plain": [
       "<IPython.core.display.HTML object>"
      ]
     },
     "metadata": {},
     "output_type": "display_data"
    },
    {
     "data": {
      "application/vnd.jupyter.widget-view+json": {
       "model_id": "c202ff46391b4a8ea9d58b1dc68d84d1",
       "version_major": 2,
       "version_minor": 0
      },
      "text/plain": [
       "VBox(children=(Label(value='Waiting for wandb.init()...\\r'), FloatProgress(value=0.01666845781655866, max=1.0)…"
      ]
     },
     "metadata": {},
     "output_type": "display_data"
    },
    {
     "data": {
      "text/html": [
       "Tracking run with wandb version 0.15.3"
      ],
      "text/plain": [
       "<IPython.core.display.HTML object>"
      ]
     },
     "metadata": {},
     "output_type": "display_data"
    },
    {
     "data": {
      "text/html": [
       "Run data is saved locally in <code>/home/farzaneh/Documents/Bread/bread/src/bread/tests/wandb/run-20230526_105129-gym2jpls</code>"
      ],
      "text/plain": [
       "<IPython.core.display.HTML object>"
      ]
     },
     "metadata": {},
     "output_type": "display_data"
    },
    {
     "data": {
      "text/html": [
       "Syncing run <strong><a href='https://wandb.ai/f-labbaf97/lineage_tracing/runs/gym2jpls' target=\"_blank\">blooming-durian-512</a></strong> to <a href='https://wandb.ai/f-labbaf97/lineage_tracing' target=\"_blank\">Weights & Biases</a> (<a href='https://wandb.me/run' target=\"_blank\">docs</a>)<br/>"
      ],
      "text/plain": [
       "<IPython.core.display.HTML object>"
      ]
     },
     "metadata": {},
     "output_type": "display_data"
    },
    {
     "data": {
      "text/html": [
       " View project at <a href='https://wandb.ai/f-labbaf97/lineage_tracing' target=\"_blank\">https://wandb.ai/f-labbaf97/lineage_tracing</a>"
      ],
      "text/plain": [
       "<IPython.core.display.HTML object>"
      ]
     },
     "metadata": {},
     "output_type": "display_data"
    },
    {
     "data": {
      "text/html": [
       " View run at <a href='https://wandb.ai/f-labbaf97/lineage_tracing/runs/gym2jpls' target=\"_blank\">https://wandb.ai/f-labbaf97/lineage_tracing/runs/gym2jpls</a>"
      ],
      "text/plain": [
       "<IPython.core.display.HTML object>"
      ]
     },
     "metadata": {},
     "output_type": "display_data"
    },
    {
     "name": "stdout",
     "output_type": "stream",
     "text": [
      "early stopping at  34 LR:  0.006534999999999997\n",
      "config:  {'epoch_n': 200, 'patience': 10, 'lr': 0.01, 'batch_size': 256, 'layers': [64, 64, 5], 'augment': True, 'features': ['dist_0', 'dist_std', 'poly_fit_budcm_budpt', 'poly_fit_expansion_vector', 'position_bud_std', 'position_bud_max', 'position_bud_min', 'position_bud_last', 'position_bud_first', 'orientation_bud_std', 'orientation_bud_max', 'orientation_bud_min', 'orientation_bud_last', 'orientation_bud_first', 'orientation_bud_last_minus_first', 'plyfit_orientation_bud'], 'train_set': 'all', 'cv_number': 4}\n",
      "yes. I am reloaded\n"
     ]
    },
    {
     "data": {
      "text/html": [
       "Finishing last run (ID:gym2jpls) before initializing another..."
      ],
      "text/plain": [
       "<IPython.core.display.HTML object>"
      ]
     },
     "metadata": {},
     "output_type": "display_data"
    },
    {
     "data": {
      "text/html": [
       "Waiting for W&B process to finish... <strong style=\"color:green\">(success).</strong>"
      ],
      "text/plain": [
       "<IPython.core.display.HTML object>"
      ]
     },
     "metadata": {},
     "output_type": "display_data"
    },
    {
     "data": {
      "application/vnd.jupyter.widget-view+json": {
       "model_id": "b9f30492aaef4c1d81c139439c4aa0ba",
       "version_major": 2,
       "version_minor": 0
      },
      "text/plain": [
       "VBox(children=(Label(value='0.003 MB of 0.003 MB uploaded (0.000 MB deduped)\\r'), FloatProgress(value=1.0, max…"
      ]
     },
     "metadata": {},
     "output_type": "display_data"
    },
    {
     "data": {
      "text/html": [
       "<style>\n",
       "    table.wandb td:nth-child(1) { padding: 0 10px; text-align: left ; width: auto;} td:nth-child(2) {text-align: left ; width: 100%}\n",
       "    .wandb-row { display: flex; flex-direction: row; flex-wrap: wrap; justify-content: flex-start; width: 100% }\n",
       "    .wandb-col { display: flex; flex-direction: column; flex-basis: 100%; flex: 1; padding: 10px; }\n",
       "    </style>\n",
       "<div class=\"wandb-row\"><div class=\"wandb-col\"><h3>Run history:</h3><br/><table class=\"wandb\"><tr><td>best_accuracy</td><td>▁▁▁▁▄▄▄▄▄▄▄▆▇▇▇▇▇▇▇▇▇▇▇███████████</td></tr><tr><td>epoch</td><td>▁▁▁▂▂▂▂▂▃▃▃▃▄▄▄▄▄▅▅▅▅▅▆▆▆▆▇▇▇▇▇███</td></tr><tr><td>eval_accuracy</td><td>▄▃▁▄▅▄▆▅▆▅▄▇▇▆▆▆▆▇▅▅▇▅▅█▇▅▇▇▇▇▆▅▇▆</td></tr><tr><td>lr</td><td>███▇▇▇▇▇▆▆▆▆▅▅▅▅▅▄▄▄▄▄▃▃▃▃▂▂▂▂▂▁▁▁</td></tr><tr><td>patience</td><td>▁▂▂▁▁▂▁▂▂▃▄▁▁▂▂▃▄▁▂▂▃▄▅▁▂▂▃▄▅▅▆▇▇█</td></tr><tr><td>train_accuracy</td><td>▁▄▅▅▅▆▆▆▆▆▇▆▇▇▇▇▇▇▇▇▇▇▇▇▇█████████</td></tr></table><br/></div><div class=\"wandb-col\"><h3>Run summary:</h3><br/><table class=\"wandb\"><tr><td>best_accuracy</td><td>0.86667</td></tr><tr><td>epoch</td><td>33</td></tr><tr><td>eval_accuracy</td><td>0.82424</td></tr><tr><td>lr</td><td>0.00663</td></tr><tr><td>patience</td><td>10</td></tr><tr><td>train_accuracy</td><td>0.87431</td></tr></table><br/></div></div>"
      ],
      "text/plain": [
       "<IPython.core.display.HTML object>"
      ]
     },
     "metadata": {},
     "output_type": "display_data"
    },
    {
     "data": {
      "text/html": [
       " View run <strong style=\"color:#cdcd00\">blooming-durian-512</strong> at: <a href='https://wandb.ai/f-labbaf97/lineage_tracing/runs/gym2jpls' target=\"_blank\">https://wandb.ai/f-labbaf97/lineage_tracing/runs/gym2jpls</a><br/>Synced 6 W&B file(s), 0 media file(s), 0 artifact file(s) and 0 other file(s)"
      ],
      "text/plain": [
       "<IPython.core.display.HTML object>"
      ]
     },
     "metadata": {},
     "output_type": "display_data"
    },
    {
     "data": {
      "text/html": [
       "Find logs at: <code>./wandb/run-20230526_105129-gym2jpls/logs</code>"
      ],
      "text/plain": [
       "<IPython.core.display.HTML object>"
      ]
     },
     "metadata": {},
     "output_type": "display_data"
    },
    {
     "data": {
      "text/html": [
       "Successfully finished last run (ID:gym2jpls). Initializing new run:<br/>"
      ],
      "text/plain": [
       "<IPython.core.display.HTML object>"
      ]
     },
     "metadata": {},
     "output_type": "display_data"
    },
    {
     "data": {
      "application/vnd.jupyter.widget-view+json": {
       "model_id": "e7f7d2345dd44a52b023684c57c2f9c3",
       "version_major": 2,
       "version_minor": 0
      },
      "text/plain": [
       "VBox(children=(Label(value='Waiting for wandb.init()...\\r'), FloatProgress(value=0.01666889463328213, max=1.0)…"
      ]
     },
     "metadata": {},
     "output_type": "display_data"
    },
    {
     "data": {
      "text/html": [
       "Tracking run with wandb version 0.15.3"
      ],
      "text/plain": [
       "<IPython.core.display.HTML object>"
      ]
     },
     "metadata": {},
     "output_type": "display_data"
    },
    {
     "data": {
      "text/html": [
       "Run data is saved locally in <code>/home/farzaneh/Documents/Bread/bread/src/bread/tests/wandb/run-20230526_105147-h9uhcqzq</code>"
      ],
      "text/plain": [
       "<IPython.core.display.HTML object>"
      ]
     },
     "metadata": {},
     "output_type": "display_data"
    },
    {
     "data": {
      "text/html": [
       "Syncing run <strong><a href='https://wandb.ai/f-labbaf97/lineage_tracing/runs/h9uhcqzq' target=\"_blank\">summer-rain-513</a></strong> to <a href='https://wandb.ai/f-labbaf97/lineage_tracing' target=\"_blank\">Weights & Biases</a> (<a href='https://wandb.me/run' target=\"_blank\">docs</a>)<br/>"
      ],
      "text/plain": [
       "<IPython.core.display.HTML object>"
      ]
     },
     "metadata": {},
     "output_type": "display_data"
    },
    {
     "data": {
      "text/html": [
       " View project at <a href='https://wandb.ai/f-labbaf97/lineage_tracing' target=\"_blank\">https://wandb.ai/f-labbaf97/lineage_tracing</a>"
      ],
      "text/plain": [
       "<IPython.core.display.HTML object>"
      ]
     },
     "metadata": {},
     "output_type": "display_data"
    },
    {
     "data": {
      "text/html": [
       " View run at <a href='https://wandb.ai/f-labbaf97/lineage_tracing/runs/h9uhcqzq' target=\"_blank\">https://wandb.ai/f-labbaf97/lineage_tracing/runs/h9uhcqzq</a>"
      ],
      "text/plain": [
       "<IPython.core.display.HTML object>"
      ]
     },
     "metadata": {},
     "output_type": "display_data"
    },
    {
     "name": "stdout",
     "output_type": "stream",
     "text": [
      "early stopping at  14 LR:  0.008514999999999998\n",
      "config:  {'epoch_n': 200, 'patience': 10, 'lr': 0.01, 'batch_size': 256, 'layers': [64, 64, 5], 'augment': True, 'features': ['dist_0', 'dist_std', 'poly_fit_budcm_budpt', 'poly_fit_expansion_vector', 'position_bud_std', 'position_bud_max', 'position_bud_min', 'position_bud_last', 'position_bud_first', 'orientation_bud_std', 'orientation_bud_max', 'orientation_bud_min', 'orientation_bud_last', 'orientation_bud_first', 'orientation_bud_last_minus_first', 'plyfit_orientation_bud'], 'train_set': 'all', 'cv_number': 5}\n",
      "yes. I am reloaded\n"
     ]
    },
    {
     "data": {
      "text/html": [
       "Finishing last run (ID:h9uhcqzq) before initializing another..."
      ],
      "text/plain": [
       "<IPython.core.display.HTML object>"
      ]
     },
     "metadata": {},
     "output_type": "display_data"
    },
    {
     "data": {
      "text/html": [
       "Waiting for W&B process to finish... <strong style=\"color:green\">(success).</strong>"
      ],
      "text/plain": [
       "<IPython.core.display.HTML object>"
      ]
     },
     "metadata": {},
     "output_type": "display_data"
    },
    {
     "data": {
      "text/html": [
       "<style>\n",
       "    table.wandb td:nth-child(1) { padding: 0 10px; text-align: left ; width: auto;} td:nth-child(2) {text-align: left ; width: 100%}\n",
       "    .wandb-row { display: flex; flex-direction: row; flex-wrap: wrap; justify-content: flex-start; width: 100% }\n",
       "    .wandb-col { display: flex; flex-direction: column; flex-basis: 100%; flex: 1; padding: 10px; }\n",
       "    </style>\n",
       "<div class=\"wandb-row\"><div class=\"wandb-col\"><h3>Run history:</h3><br/><table class=\"wandb\"><tr><td>best_accuracy</td><td>▁▄▄███████████</td></tr><tr><td>epoch</td><td>▁▂▂▃▃▄▄▅▅▆▆▇▇█</td></tr><tr><td>eval_accuracy</td><td>▃▅▄█▅▆▅▅▁▅█▇▇▅</td></tr><tr><td>lr</td><td>█▇▇▆▆▅▅▄▄▃▃▂▂▁</td></tr><tr><td>patience</td><td>▁▁▂▁▂▂▃▄▅▅▆▇▇█</td></tr><tr><td>train_accuracy</td><td>▁▅▅▅▆▇▇▇▇▇████</td></tr></table><br/></div><div class=\"wandb-col\"><h3>Run summary:</h3><br/><table class=\"wandb\"><tr><td>best_accuracy</td><td>0.83636</td></tr><tr><td>epoch</td><td>13</td></tr><tr><td>eval_accuracy</td><td>0.8</td></tr><tr><td>lr</td><td>0.00861</td></tr><tr><td>patience</td><td>10</td></tr><tr><td>train_accuracy</td><td>0.84619</td></tr></table><br/></div></div>"
      ],
      "text/plain": [
       "<IPython.core.display.HTML object>"
      ]
     },
     "metadata": {},
     "output_type": "display_data"
    },
    {
     "data": {
      "text/html": [
       " View run <strong style=\"color:#cdcd00\">summer-rain-513</strong> at: <a href='https://wandb.ai/f-labbaf97/lineage_tracing/runs/h9uhcqzq' target=\"_blank\">https://wandb.ai/f-labbaf97/lineage_tracing/runs/h9uhcqzq</a><br/>Synced 6 W&B file(s), 0 media file(s), 0 artifact file(s) and 0 other file(s)"
      ],
      "text/plain": [
       "<IPython.core.display.HTML object>"
      ]
     },
     "metadata": {},
     "output_type": "display_data"
    },
    {
     "data": {
      "text/html": [
       "Find logs at: <code>./wandb/run-20230526_105147-h9uhcqzq/logs</code>"
      ],
      "text/plain": [
       "<IPython.core.display.HTML object>"
      ]
     },
     "metadata": {},
     "output_type": "display_data"
    },
    {
     "data": {
      "text/html": [
       "Successfully finished last run (ID:h9uhcqzq). Initializing new run:<br/>"
      ],
      "text/plain": [
       "<IPython.core.display.HTML object>"
      ]
     },
     "metadata": {},
     "output_type": "display_data"
    },
    {
     "data": {
      "application/vnd.jupyter.widget-view+json": {
       "model_id": "85d2bdc6f0174b46b3d560bcb216b210",
       "version_major": 2,
       "version_minor": 0
      },
      "text/plain": [
       "VBox(children=(Label(value='Waiting for wandb.init()...\\r'), FloatProgress(value=0.01666882749996148, max=1.0)…"
      ]
     },
     "metadata": {},
     "output_type": "display_data"
    },
    {
     "data": {
      "text/html": [
       "Tracking run with wandb version 0.15.3"
      ],
      "text/plain": [
       "<IPython.core.display.HTML object>"
      ]
     },
     "metadata": {},
     "output_type": "display_data"
    },
    {
     "data": {
      "text/html": [
       "Run data is saved locally in <code>/home/farzaneh/Documents/Bread/bread/src/bread/tests/wandb/run-20230526_105159-uw2fmin7</code>"
      ],
      "text/plain": [
       "<IPython.core.display.HTML object>"
      ]
     },
     "metadata": {},
     "output_type": "display_data"
    },
    {
     "data": {
      "text/html": [
       "Syncing run <strong><a href='https://wandb.ai/f-labbaf97/lineage_tracing/runs/uw2fmin7' target=\"_blank\">jolly-microwave-514</a></strong> to <a href='https://wandb.ai/f-labbaf97/lineage_tracing' target=\"_blank\">Weights & Biases</a> (<a href='https://wandb.me/run' target=\"_blank\">docs</a>)<br/>"
      ],
      "text/plain": [
       "<IPython.core.display.HTML object>"
      ]
     },
     "metadata": {},
     "output_type": "display_data"
    },
    {
     "data": {
      "text/html": [
       " View project at <a href='https://wandb.ai/f-labbaf97/lineage_tracing' target=\"_blank\">https://wandb.ai/f-labbaf97/lineage_tracing</a>"
      ],
      "text/plain": [
       "<IPython.core.display.HTML object>"
      ]
     },
     "metadata": {},
     "output_type": "display_data"
    },
    {
     "data": {
      "text/html": [
       " View run at <a href='https://wandb.ai/f-labbaf97/lineage_tracing/runs/uw2fmin7' target=\"_blank\">https://wandb.ai/f-labbaf97/lineage_tracing/runs/uw2fmin7</a>"
      ],
      "text/plain": [
       "<IPython.core.display.HTML object>"
      ]
     },
     "metadata": {},
     "output_type": "display_data"
    },
    {
     "name": "stdout",
     "output_type": "stream",
     "text": [
      "early stopping at  27 LR:  0.0072279999999999974\n",
      "accuracy:  0.855947426067908 +/- 0.015363479495560519\n"
     ]
    }
   ],
   "source": [
    "# for the full list minus bad ones. without fillings (0.855947426067908 +/- 0.015363479495560519)\n",
    "f_list = ['dist_0','dist_std','poly_fit_budcm_budpt','poly_fit_expansion_vector','position_bud_std','position_bud_max','position_bud_min','position_bud_last','position_bud_first','orientation_bud_std','orientation_bud_max','orientation_bud_min','orientation_bud_last','orientation_bud_first','orientation_bud_last_minus_first','plyfit_orientation_bud']\n",
    "\n",
    "matrix_feat_custom = get_custom_matrix_features(all_candid_features, all_gt, f_list)\n",
    "config = {'epoch_n': 200, 'patience': 10, 'lr': 0.01, 'batch_size': 256, 'layers': [len(f_list)*4, 64, 5], 'augment': True , 'features':f_list,'train_set': 'all',}\n",
    "models, accuracies = cv_nn(matrix_feat_custom, config=config)\n"
   ]
  },
  {
   "attachments": {},
   "cell_type": "markdown",
   "metadata": {},
   "source": [
    "# try normalizing before training to see if there is a improvement now that we have limited numbers every where\n"
   ]
  },
  {
   "cell_type": "code",
   "execution_count": 29,
   "metadata": {},
   "outputs": [
    {
     "data": {
      "text/html": [
       "<div>\n",
       "<style scoped>\n",
       "    .dataframe tbody tr th:only-of-type {\n",
       "        vertical-align: middle;\n",
       "    }\n",
       "\n",
       "    .dataframe tbody tr th {\n",
       "        vertical-align: top;\n",
       "    }\n",
       "\n",
       "    .dataframe thead th {\n",
       "        text-align: right;\n",
       "    }\n",
       "</style>\n",
       "<table border=\"1\" class=\"dataframe\">\n",
       "  <thead>\n",
       "    <tr style=\"text-align: right;\">\n",
       "      <th></th>\n",
       "      <th>parent_GT</th>\n",
       "      <th>bud_id</th>\n",
       "      <th>time_index</th>\n",
       "      <th>colony</th>\n",
       "      <th>features</th>\n",
       "      <th>candidates</th>\n",
       "      <th>parent_index_in_candidates</th>\n",
       "    </tr>\n",
       "  </thead>\n",
       "  <tbody>\n",
       "    <tr>\n",
       "      <th>2</th>\n",
       "      <td>2</td>\n",
       "      <td>3</td>\n",
       "      <td>4</td>\n",
       "      <td>1</td>\n",
       "      <td>[[0.09284766908852593, 0.009638973981007446, 0...</td>\n",
       "      <td>[2, -3, -3, -3]</td>\n",
       "      <td>0</td>\n",
       "    </tr>\n",
       "    <tr>\n",
       "      <th>3</th>\n",
       "      <td>1</td>\n",
       "      <td>4</td>\n",
       "      <td>7</td>\n",
       "      <td>1</td>\n",
       "      <td>[[0.20761369963434992, 0.007620278021771029, 0...</td>\n",
       "      <td>[1, -3, -3, -3]</td>\n",
       "      <td>0</td>\n",
       "    </tr>\n",
       "    <tr>\n",
       "      <th>4</th>\n",
       "      <td>4</td>\n",
       "      <td>5</td>\n",
       "      <td>27</td>\n",
       "      <td>1</td>\n",
       "      <td>[[0.2785430072655778, 0.010223675798476585, 0....</td>\n",
       "      <td>[4, -3, -3, -3]</td>\n",
       "      <td>0</td>\n",
       "    </tr>\n",
       "    <tr>\n",
       "      <th>5</th>\n",
       "      <td>1</td>\n",
       "      <td>6</td>\n",
       "      <td>27</td>\n",
       "      <td>1</td>\n",
       "      <td>[[0.18569533817705186, 0.007620278021771029, 0...</td>\n",
       "      <td>[1, -3, -3, -3]</td>\n",
       "      <td>0</td>\n",
       "    </tr>\n",
       "    <tr>\n",
       "      <th>6</th>\n",
       "      <td>2</td>\n",
       "      <td>7</td>\n",
       "      <td>28</td>\n",
       "      <td>1</td>\n",
       "      <td>[[0.18569533817705186, 0.006815783865651057, 0...</td>\n",
       "      <td>[2, 1, -3, -3]</td>\n",
       "      <td>0</td>\n",
       "    </tr>\n",
       "    <tr>\n",
       "      <th>...</th>\n",
       "      <td>...</td>\n",
       "      <td>...</td>\n",
       "      <td>...</td>\n",
       "      <td>...</td>\n",
       "      <td>...</td>\n",
       "      <td>...</td>\n",
       "      <td>...</td>\n",
       "    </tr>\n",
       "    <tr>\n",
       "      <th>856</th>\n",
       "      <td>90</td>\n",
       "      <td>353</td>\n",
       "      <td>145</td>\n",
       "      <td>0</td>\n",
       "      <td>[[0.20761369963434992, 0.007620278021771029, 0...</td>\n",
       "      <td>[96, 227, 202, 90]</td>\n",
       "      <td>3</td>\n",
       "    </tr>\n",
       "    <tr>\n",
       "      <th>857</th>\n",
       "      <td>189</td>\n",
       "      <td>354</td>\n",
       "      <td>145</td>\n",
       "      <td>0</td>\n",
       "      <td>[[0.20761369963434992, 0.007620278021771029, 0...</td>\n",
       "      <td>[142, 189, -3, -3]</td>\n",
       "      <td>1</td>\n",
       "    </tr>\n",
       "    <tr>\n",
       "      <th>858</th>\n",
       "      <td>221</td>\n",
       "      <td>355</td>\n",
       "      <td>145</td>\n",
       "      <td>0</td>\n",
       "      <td>[[0.13130643285972257, 0.010776700527442208, 0...</td>\n",
       "      <td>[221, 55, 190, 337]</td>\n",
       "      <td>0</td>\n",
       "    </tr>\n",
       "    <tr>\n",
       "      <th>859</th>\n",
       "      <td>157</td>\n",
       "      <td>356</td>\n",
       "      <td>145</td>\n",
       "      <td>0</td>\n",
       "      <td>[[0.09284766908852593, 0.006815783865651057, 0...</td>\n",
       "      <td>[157, 95, 294, 73]</td>\n",
       "      <td>0</td>\n",
       "    </tr>\n",
       "    <tr>\n",
       "      <th>860</th>\n",
       "      <td>185</td>\n",
       "      <td>357</td>\n",
       "      <td>145</td>\n",
       "      <td>0</td>\n",
       "      <td>[[0.20761369963434992, 0.007620278021771029, 0...</td>\n",
       "      <td>[185, -3, -3, -3]</td>\n",
       "      <td>0</td>\n",
       "    </tr>\n",
       "  </tbody>\n",
       "</table>\n",
       "<p>824 rows × 7 columns</p>\n",
       "</div>"
      ],
      "text/plain": [
       "     parent_GT  bud_id  time_index  colony   \n",
       "2            2       3           4       1  \\\n",
       "3            1       4           7       1   \n",
       "4            4       5          27       1   \n",
       "5            1       6          27       1   \n",
       "6            2       7          28       1   \n",
       "..         ...     ...         ...     ...   \n",
       "856         90     353         145       0   \n",
       "857        189     354         145       0   \n",
       "858        221     355         145       0   \n",
       "859        157     356         145       0   \n",
       "860        185     357         145       0   \n",
       "\n",
       "                                              features           candidates   \n",
       "2    [[0.09284766908852593, 0.009638973981007446, 0...      [2, -3, -3, -3]  \\\n",
       "3    [[0.20761369963434992, 0.007620278021771029, 0...      [1, -3, -3, -3]   \n",
       "4    [[0.2785430072655778, 0.010223675798476585, 0....      [4, -3, -3, -3]   \n",
       "5    [[0.18569533817705186, 0.007620278021771029, 0...      [1, -3, -3, -3]   \n",
       "6    [[0.18569533817705186, 0.006815783865651057, 0...       [2, 1, -3, -3]   \n",
       "..                                                 ...                  ...   \n",
       "856  [[0.20761369963434992, 0.007620278021771029, 0...   [96, 227, 202, 90]   \n",
       "857  [[0.20761369963434992, 0.007620278021771029, 0...   [142, 189, -3, -3]   \n",
       "858  [[0.13130643285972257, 0.010776700527442208, 0...  [221, 55, 190, 337]   \n",
       "859  [[0.09284766908852593, 0.006815783865651057, 0...   [157, 95, 294, 73]   \n",
       "860  [[0.20761369963434992, 0.007620278021771029, 0...    [185, -3, -3, -3]   \n",
       "\n",
       "     parent_index_in_candidates  \n",
       "2                             0  \n",
       "3                             0  \n",
       "4                             0  \n",
       "5                             0  \n",
       "6                             0  \n",
       "..                          ...  \n",
       "856                           3  \n",
       "857                           1  \n",
       "858                           0  \n",
       "859                           0  \n",
       "860                           0  \n",
       "\n",
       "[824 rows x 7 columns]"
      ]
     },
     "execution_count": 29,
     "metadata": {},
     "output_type": "execute_result"
    }
   ],
   "source": [
    "# Import necessary libraries\n",
    "import pandas as pd\n",
    "from sklearn.preprocessing import MinMaxScaler\n",
    "\n",
    "_19_f_list = ['dist_0','dist_max','dist_min','dist_std','poly_fit_budcm_candidcm','poly_fit_budcm_budpt','poly_fit_expansion_vector','position_bud_std','position_bud_max','position_bud_min','position_bud_last','position_bud_first','orientation_bud_std','orientation_bud_max','orientation_bud_min','orientation_bud_last','orientation_bud_first','orientation_bud_last_minus_first','plyfit_orientation_bud']\n",
    "all_candid_features_filtered = all_candid_features.loc[all_candid_features['dist_0']<11].reset_index(drop=True)\n",
    "# Extract the subset of features to be normalized as a separate DataFrame\n",
    "X = all_candid_features_filtered[_19_f_list]\n",
    "\n",
    "# Apply min-max normalization to the subset of features\n",
    "scaler = MinMaxScaler()\n",
    "X_norm = scaler.fit_transform(X)\n",
    "\n",
    "# Replace the original features with the normalized features in the dataframe\n",
    "all_candid_features_filtered_normalized = all_candid_features_filtered.copy()\n",
    "all_candid_features_filtered_normalized[_19_f_list] = X_norm\n",
    "\n",
    "all_matrix_features_normalized = get_custom_matrix_features(all_candid_features_filtered_normalized, all_gt, _19_f_list)\n",
    "all_matrix_features_normalized"
   ]
  },
  {
   "cell_type": "code",
   "execution_count": 33,
   "metadata": {},
   "outputs": [
    {
     "data": {
      "text/html": [
       "<div>\n",
       "<style scoped>\n",
       "    .dataframe tbody tr th:only-of-type {\n",
       "        vertical-align: middle;\n",
       "    }\n",
       "\n",
       "    .dataframe tbody tr th {\n",
       "        vertical-align: top;\n",
       "    }\n",
       "\n",
       "    .dataframe thead th {\n",
       "        text-align: right;\n",
       "    }\n",
       "</style>\n",
       "<table border=\"1\" class=\"dataframe\">\n",
       "  <thead>\n",
       "    <tr style=\"text-align: right;\">\n",
       "      <th></th>\n",
       "      <th>bud_id</th>\n",
       "      <th>candid_id</th>\n",
       "      <th>time_id</th>\n",
       "      <th>dist_0</th>\n",
       "      <th>dist_max</th>\n",
       "      <th>dist_min</th>\n",
       "      <th>dist_std</th>\n",
       "      <th>poly_fit_budcm_candidcm</th>\n",
       "      <th>poly_fit_budcm_budpt</th>\n",
       "      <th>poly_fit_expansion_vector</th>\n",
       "      <th>...</th>\n",
       "      <th>position_bud_last</th>\n",
       "      <th>position_bud_first</th>\n",
       "      <th>orientation_bud_std</th>\n",
       "      <th>orientation_bud_max</th>\n",
       "      <th>orientation_bud_min</th>\n",
       "      <th>orientation_bud_last</th>\n",
       "      <th>orientation_bud_first</th>\n",
       "      <th>orientation_bud_last_minus_first</th>\n",
       "      <th>plyfit_orientation_bud</th>\n",
       "      <th>colony</th>\n",
       "    </tr>\n",
       "  </thead>\n",
       "  <tbody>\n",
       "    <tr>\n",
       "      <th>0</th>\n",
       "      <td>3</td>\n",
       "      <td>2</td>\n",
       "      <td>4</td>\n",
       "      <td>0.092848</td>\n",
       "      <td>0.009639</td>\n",
       "      <td>0.092848</td>\n",
       "      <td>0.006449</td>\n",
       "      <td>0.093876</td>\n",
       "      <td>0.127785</td>\n",
       "      <td>0.106950</td>\n",
       "      <td>...</td>\n",
       "      <td>0.357290</td>\n",
       "      <td>0.297020</td>\n",
       "      <td>0.690556</td>\n",
       "      <td>0.876836</td>\n",
       "      <td>0.054801</td>\n",
       "      <td>0.729442</td>\n",
       "      <td>0.052915</td>\n",
       "      <td>0.861387</td>\n",
       "      <td>0.603746</td>\n",
       "      <td>1</td>\n",
       "    </tr>\n",
       "    <tr>\n",
       "      <th>1</th>\n",
       "      <td>4</td>\n",
       "      <td>1</td>\n",
       "      <td>7</td>\n",
       "      <td>0.207614</td>\n",
       "      <td>0.007620</td>\n",
       "      <td>0.092848</td>\n",
       "      <td>0.003885</td>\n",
       "      <td>0.096558</td>\n",
       "      <td>0.144178</td>\n",
       "      <td>0.129969</td>\n",
       "      <td>...</td>\n",
       "      <td>0.055665</td>\n",
       "      <td>0.070003</td>\n",
       "      <td>0.038510</td>\n",
       "      <td>0.971132</td>\n",
       "      <td>0.926270</td>\n",
       "      <td>0.972242</td>\n",
       "      <td>0.911225</td>\n",
       "      <td>0.539969</td>\n",
       "      <td>0.403292</td>\n",
       "      <td>1</td>\n",
       "    </tr>\n",
       "    <tr>\n",
       "      <th>2</th>\n",
       "      <td>5</td>\n",
       "      <td>4</td>\n",
       "      <td>27</td>\n",
       "      <td>0.278543</td>\n",
       "      <td>0.010224</td>\n",
       "      <td>0.207614</td>\n",
       "      <td>0.002557</td>\n",
       "      <td>0.085020</td>\n",
       "      <td>0.115990</td>\n",
       "      <td>0.097192</td>\n",
       "      <td>...</td>\n",
       "      <td>0.224003</td>\n",
       "      <td>0.176209</td>\n",
       "      <td>0.114991</td>\n",
       "      <td>0.844665</td>\n",
       "      <td>0.721803</td>\n",
       "      <td>0.732925</td>\n",
       "      <td>0.820036</td>\n",
       "      <td>0.462618</td>\n",
       "      <td>0.345158</td>\n",
       "      <td>1</td>\n",
       "    </tr>\n",
       "    <tr>\n",
       "      <th>3</th>\n",
       "      <td>6</td>\n",
       "      <td>1</td>\n",
       "      <td>27</td>\n",
       "      <td>0.185695</td>\n",
       "      <td>0.007620</td>\n",
       "      <td>0.092848</td>\n",
       "      <td>0.003956</td>\n",
       "      <td>0.089173</td>\n",
       "      <td>0.122027</td>\n",
       "      <td>0.097535</td>\n",
       "      <td>...</td>\n",
       "      <td>0.805050</td>\n",
       "      <td>0.916095</td>\n",
       "      <td>0.231401</td>\n",
       "      <td>0.975949</td>\n",
       "      <td>0.743845</td>\n",
       "      <td>0.976999</td>\n",
       "      <td>0.748149</td>\n",
       "      <td>0.627611</td>\n",
       "      <td>0.478145</td>\n",
       "      <td>1</td>\n",
       "    </tr>\n",
       "    <tr>\n",
       "      <th>4</th>\n",
       "      <td>7</td>\n",
       "      <td>2</td>\n",
       "      <td>28</td>\n",
       "      <td>0.185695</td>\n",
       "      <td>0.006816</td>\n",
       "      <td>0.185695</td>\n",
       "      <td>0.000000</td>\n",
       "      <td>0.088352</td>\n",
       "      <td>0.123391</td>\n",
       "      <td>0.103127</td>\n",
       "      <td>...</td>\n",
       "      <td>0.475448</td>\n",
       "      <td>0.446240</td>\n",
       "      <td>0.280480</td>\n",
       "      <td>0.333550</td>\n",
       "      <td>0.021105</td>\n",
       "      <td>0.259042</td>\n",
       "      <td>0.019728</td>\n",
       "      <td>0.633077</td>\n",
       "      <td>0.488255</td>\n",
       "      <td>1</td>\n",
       "    </tr>\n",
       "    <tr>\n",
       "      <th>...</th>\n",
       "      <td>...</td>\n",
       "      <td>...</td>\n",
       "      <td>...</td>\n",
       "      <td>...</td>\n",
       "      <td>...</td>\n",
       "      <td>...</td>\n",
       "      <td>...</td>\n",
       "      <td>...</td>\n",
       "      <td>...</td>\n",
       "      <td>...</td>\n",
       "      <td>...</td>\n",
       "      <td>...</td>\n",
       "      <td>...</td>\n",
       "      <td>...</td>\n",
       "      <td>...</td>\n",
       "      <td>...</td>\n",
       "      <td>...</td>\n",
       "      <td>...</td>\n",
       "      <td>...</td>\n",
       "      <td>...</td>\n",
       "      <td>...</td>\n",
       "    </tr>\n",
       "    <tr>\n",
       "      <th>2110</th>\n",
       "      <td>356</td>\n",
       "      <td>157</td>\n",
       "      <td>145</td>\n",
       "      <td>0.092848</td>\n",
       "      <td>0.006816</td>\n",
       "      <td>0.000000</td>\n",
       "      <td>0.006754</td>\n",
       "      <td>0.099501</td>\n",
       "      <td>0.133475</td>\n",
       "      <td>0.095609</td>\n",
       "      <td>...</td>\n",
       "      <td>0.339222</td>\n",
       "      <td>0.314507</td>\n",
       "      <td>0.126752</td>\n",
       "      <td>0.129388</td>\n",
       "      <td>0.000000</td>\n",
       "      <td>0.104913</td>\n",
       "      <td>0.140288</td>\n",
       "      <td>0.489636</td>\n",
       "      <td>0.349220</td>\n",
       "      <td>0</td>\n",
       "    </tr>\n",
       "    <tr>\n",
       "      <th>2111</th>\n",
       "      <td>356</td>\n",
       "      <td>95</td>\n",
       "      <td>145</td>\n",
       "      <td>0.131306</td>\n",
       "      <td>0.004819</td>\n",
       "      <td>0.000000</td>\n",
       "      <td>0.005760</td>\n",
       "      <td>0.092948</td>\n",
       "      <td>0.134457</td>\n",
       "      <td>0.097720</td>\n",
       "      <td>...</td>\n",
       "      <td>0.183676</td>\n",
       "      <td>0.107145</td>\n",
       "      <td>0.858617</td>\n",
       "      <td>0.894451</td>\n",
       "      <td>0.000000</td>\n",
       "      <td>0.896513</td>\n",
       "      <td>0.691976</td>\n",
       "      <td>0.614915</td>\n",
       "      <td>0.594454</td>\n",
       "      <td>0</td>\n",
       "    </tr>\n",
       "    <tr>\n",
       "      <th>2112</th>\n",
       "      <td>356</td>\n",
       "      <td>294</td>\n",
       "      <td>145</td>\n",
       "      <td>0.207614</td>\n",
       "      <td>0.007620</td>\n",
       "      <td>0.000000</td>\n",
       "      <td>0.009107</td>\n",
       "      <td>0.076865</td>\n",
       "      <td>0.104054</td>\n",
       "      <td>0.086062</td>\n",
       "      <td>...</td>\n",
       "      <td>0.461684</td>\n",
       "      <td>0.444004</td>\n",
       "      <td>0.241880</td>\n",
       "      <td>0.275392</td>\n",
       "      <td>0.000000</td>\n",
       "      <td>0.101656</td>\n",
       "      <td>0.284478</td>\n",
       "      <td>0.412640</td>\n",
       "      <td>0.198500</td>\n",
       "      <td>0</td>\n",
       "    </tr>\n",
       "    <tr>\n",
       "      <th>2113</th>\n",
       "      <td>356</td>\n",
       "      <td>73</td>\n",
       "      <td>145</td>\n",
       "      <td>0.334767</td>\n",
       "      <td>0.012287</td>\n",
       "      <td>0.000000</td>\n",
       "      <td>0.012315</td>\n",
       "      <td>0.077603</td>\n",
       "      <td>0.115485</td>\n",
       "      <td>0.089137</td>\n",
       "      <td>...</td>\n",
       "      <td>0.173570</td>\n",
       "      <td>0.171440</td>\n",
       "      <td>0.958190</td>\n",
       "      <td>0.976801</td>\n",
       "      <td>0.000000</td>\n",
       "      <td>0.977840</td>\n",
       "      <td>0.805776</td>\n",
       "      <td>0.597958</td>\n",
       "      <td>0.561260</td>\n",
       "      <td>0</td>\n",
       "    </tr>\n",
       "    <tr>\n",
       "      <th>2114</th>\n",
       "      <td>357</td>\n",
       "      <td>185</td>\n",
       "      <td>145</td>\n",
       "      <td>0.207614</td>\n",
       "      <td>0.007620</td>\n",
       "      <td>0.000000</td>\n",
       "      <td>0.007801</td>\n",
       "      <td>0.080359</td>\n",
       "      <td>0.112361</td>\n",
       "      <td>0.094109</td>\n",
       "      <td>...</td>\n",
       "      <td>0.145850</td>\n",
       "      <td>0.112898</td>\n",
       "      <td>0.271497</td>\n",
       "      <td>0.303229</td>\n",
       "      <td>0.000000</td>\n",
       "      <td>0.312638</td>\n",
       "      <td>0.043282</td>\n",
       "      <td>0.648764</td>\n",
       "      <td>0.660714</td>\n",
       "      <td>0</td>\n",
       "    </tr>\n",
       "  </tbody>\n",
       "</table>\n",
       "<p>2115 rows × 23 columns</p>\n",
       "</div>"
      ],
      "text/plain": [
       "      bud_id  candid_id  time_id    dist_0  dist_max  dist_min  dist_std   \n",
       "0          3          2        4  0.092848  0.009639  0.092848  0.006449  \\\n",
       "1          4          1        7  0.207614  0.007620  0.092848  0.003885   \n",
       "2          5          4       27  0.278543  0.010224  0.207614  0.002557   \n",
       "3          6          1       27  0.185695  0.007620  0.092848  0.003956   \n",
       "4          7          2       28  0.185695  0.006816  0.185695  0.000000   \n",
       "...      ...        ...      ...       ...       ...       ...       ...   \n",
       "2110     356        157      145  0.092848  0.006816  0.000000  0.006754   \n",
       "2111     356         95      145  0.131306  0.004819  0.000000  0.005760   \n",
       "2112     356        294      145  0.207614  0.007620  0.000000  0.009107   \n",
       "2113     356         73      145  0.334767  0.012287  0.000000  0.012315   \n",
       "2114     357        185      145  0.207614  0.007620  0.000000  0.007801   \n",
       "\n",
       "      poly_fit_budcm_candidcm  poly_fit_budcm_budpt   \n",
       "0                    0.093876              0.127785  \\\n",
       "1                    0.096558              0.144178   \n",
       "2                    0.085020              0.115990   \n",
       "3                    0.089173              0.122027   \n",
       "4                    0.088352              0.123391   \n",
       "...                       ...                   ...   \n",
       "2110                 0.099501              0.133475   \n",
       "2111                 0.092948              0.134457   \n",
       "2112                 0.076865              0.104054   \n",
       "2113                 0.077603              0.115485   \n",
       "2114                 0.080359              0.112361   \n",
       "\n",
       "      poly_fit_expansion_vector  ...  position_bud_last  position_bud_first   \n",
       "0                      0.106950  ...           0.357290            0.297020  \\\n",
       "1                      0.129969  ...           0.055665            0.070003   \n",
       "2                      0.097192  ...           0.224003            0.176209   \n",
       "3                      0.097535  ...           0.805050            0.916095   \n",
       "4                      0.103127  ...           0.475448            0.446240   \n",
       "...                         ...  ...                ...                 ...   \n",
       "2110                   0.095609  ...           0.339222            0.314507   \n",
       "2111                   0.097720  ...           0.183676            0.107145   \n",
       "2112                   0.086062  ...           0.461684            0.444004   \n",
       "2113                   0.089137  ...           0.173570            0.171440   \n",
       "2114                   0.094109  ...           0.145850            0.112898   \n",
       "\n",
       "      orientation_bud_std  orientation_bud_max  orientation_bud_min   \n",
       "0                0.690556             0.876836             0.054801  \\\n",
       "1                0.038510             0.971132             0.926270   \n",
       "2                0.114991             0.844665             0.721803   \n",
       "3                0.231401             0.975949             0.743845   \n",
       "4                0.280480             0.333550             0.021105   \n",
       "...                   ...                  ...                  ...   \n",
       "2110             0.126752             0.129388             0.000000   \n",
       "2111             0.858617             0.894451             0.000000   \n",
       "2112             0.241880             0.275392             0.000000   \n",
       "2113             0.958190             0.976801             0.000000   \n",
       "2114             0.271497             0.303229             0.000000   \n",
       "\n",
       "      orientation_bud_last  orientation_bud_first   \n",
       "0                 0.729442               0.052915  \\\n",
       "1                 0.972242               0.911225   \n",
       "2                 0.732925               0.820036   \n",
       "3                 0.976999               0.748149   \n",
       "4                 0.259042               0.019728   \n",
       "...                    ...                    ...   \n",
       "2110              0.104913               0.140288   \n",
       "2111              0.896513               0.691976   \n",
       "2112              0.101656               0.284478   \n",
       "2113              0.977840               0.805776   \n",
       "2114              0.312638               0.043282   \n",
       "\n",
       "      orientation_bud_last_minus_first  plyfit_orientation_bud  colony  \n",
       "0                             0.861387                0.603746       1  \n",
       "1                             0.539969                0.403292       1  \n",
       "2                             0.462618                0.345158       1  \n",
       "3                             0.627611                0.478145       1  \n",
       "4                             0.633077                0.488255       1  \n",
       "...                                ...                     ...     ...  \n",
       "2110                          0.489636                0.349220       0  \n",
       "2111                          0.614915                0.594454       0  \n",
       "2112                          0.412640                0.198500       0  \n",
       "2113                          0.597958                0.561260       0  \n",
       "2114                          0.648764                0.660714       0  \n",
       "\n",
       "[2115 rows x 23 columns]"
      ]
     },
     "execution_count": 33,
     "metadata": {},
     "output_type": "execute_result"
    }
   ],
   "source": [
    "all_candid_features_filtered_normalized"
   ]
  },
  {
   "cell_type": "code",
   "execution_count": 34,
   "metadata": {},
   "outputs": [
    {
     "data": {
      "text/html": [
       "<div>\n",
       "<style scoped>\n",
       "    .dataframe tbody tr th:only-of-type {\n",
       "        vertical-align: middle;\n",
       "    }\n",
       "\n",
       "    .dataframe tbody tr th {\n",
       "        vertical-align: top;\n",
       "    }\n",
       "\n",
       "    .dataframe thead th {\n",
       "        text-align: right;\n",
       "    }\n",
       "</style>\n",
       "<table border=\"1\" class=\"dataframe\">\n",
       "  <thead>\n",
       "    <tr style=\"text-align: right;\">\n",
       "      <th></th>\n",
       "      <th>bud_id</th>\n",
       "      <th>candid_id</th>\n",
       "      <th>time_id</th>\n",
       "      <th>dist_0</th>\n",
       "      <th>dist_max</th>\n",
       "      <th>dist_min</th>\n",
       "      <th>dist_std</th>\n",
       "      <th>poly_fit_budcm_candidcm</th>\n",
       "      <th>poly_fit_budcm_budpt</th>\n",
       "      <th>poly_fit_expansion_vector</th>\n",
       "      <th>...</th>\n",
       "      <th>position_bud_last</th>\n",
       "      <th>position_bud_first</th>\n",
       "      <th>orientation_bud_std</th>\n",
       "      <th>orientation_bud_max</th>\n",
       "      <th>orientation_bud_min</th>\n",
       "      <th>orientation_bud_last</th>\n",
       "      <th>orientation_bud_first</th>\n",
       "      <th>orientation_bud_last_minus_first</th>\n",
       "      <th>plyfit_orientation_bud</th>\n",
       "      <th>colony</th>\n",
       "    </tr>\n",
       "  </thead>\n",
       "  <tbody>\n",
       "    <tr>\n",
       "      <th>0</th>\n",
       "      <td>3</td>\n",
       "      <td>2</td>\n",
       "      <td>4</td>\n",
       "      <td>0.002544</td>\n",
       "      <td>0.007190</td>\n",
       "      <td>0.002556</td>\n",
       "      <td>0.004853</td>\n",
       "      <td>0.087489</td>\n",
       "      <td>0.097102</td>\n",
       "      <td>0.092832</td>\n",
       "      <td>...</td>\n",
       "      <td>0.357119</td>\n",
       "      <td>0.297020</td>\n",
       "      <td>0.691325</td>\n",
       "      <td>0.876836</td>\n",
       "      <td>0.054801</td>\n",
       "      <td>0.729442</td>\n",
       "      <td>0.053000</td>\n",
       "      <td>0.848520</td>\n",
       "      <td>0.609977</td>\n",
       "      <td>1</td>\n",
       "    </tr>\n",
       "    <tr>\n",
       "      <th>1</th>\n",
       "      <td>3</td>\n",
       "      <td>1</td>\n",
       "      <td>4</td>\n",
       "      <td>0.050874</td>\n",
       "      <td>0.054340</td>\n",
       "      <td>0.049625</td>\n",
       "      <td>0.004807</td>\n",
       "      <td>0.092563</td>\n",
       "      <td>0.105912</td>\n",
       "      <td>0.097172</td>\n",
       "      <td>...</td>\n",
       "      <td>0.774330</td>\n",
       "      <td>0.659055</td>\n",
       "      <td>0.124760</td>\n",
       "      <td>0.698800</td>\n",
       "      <td>0.543918</td>\n",
       "      <td>0.703294</td>\n",
       "      <td>0.611228</td>\n",
       "      <td>0.547894</td>\n",
       "      <td>0.418295</td>\n",
       "      <td>1</td>\n",
       "    </tr>\n",
       "    <tr>\n",
       "      <th>2</th>\n",
       "      <td>4</td>\n",
       "      <td>1</td>\n",
       "      <td>7</td>\n",
       "      <td>0.005688</td>\n",
       "      <td>0.005684</td>\n",
       "      <td>0.002556</td>\n",
       "      <td>0.002923</td>\n",
       "      <td>0.089250</td>\n",
       "      <td>0.108150</td>\n",
       "      <td>0.108056</td>\n",
       "      <td>...</td>\n",
       "      <td>0.055639</td>\n",
       "      <td>0.070003</td>\n",
       "      <td>0.040899</td>\n",
       "      <td>0.971132</td>\n",
       "      <td>0.926270</td>\n",
       "      <td>0.972242</td>\n",
       "      <td>0.911233</td>\n",
       "      <td>0.531904</td>\n",
       "      <td>0.412675</td>\n",
       "      <td>1</td>\n",
       "    </tr>\n",
       "    <tr>\n",
       "      <th>3</th>\n",
       "      <td>4</td>\n",
       "      <td>2</td>\n",
       "      <td>7</td>\n",
       "      <td>0.091750</td>\n",
       "      <td>0.091686</td>\n",
       "      <td>0.074515</td>\n",
       "      <td>0.015851</td>\n",
       "      <td>0.082546</td>\n",
       "      <td>0.105577</td>\n",
       "      <td>0.098785</td>\n",
       "      <td>...</td>\n",
       "      <td>0.376977</td>\n",
       "      <td>0.320081</td>\n",
       "      <td>0.143330</td>\n",
       "      <td>0.551005</td>\n",
       "      <td>0.375171</td>\n",
       "      <td>0.479372</td>\n",
       "      <td>0.368505</td>\n",
       "      <td>0.557578</td>\n",
       "      <td>0.433360</td>\n",
       "      <td>1</td>\n",
       "    </tr>\n",
       "    <tr>\n",
       "      <th>4</th>\n",
       "      <td>4</td>\n",
       "      <td>3</td>\n",
       "      <td>7</td>\n",
       "      <td>0.108070</td>\n",
       "      <td>0.107995</td>\n",
       "      <td>0.090363</td>\n",
       "      <td>0.016486</td>\n",
       "      <td>0.099976</td>\n",
       "      <td>0.123533</td>\n",
       "      <td>0.101175</td>\n",
       "      <td>...</td>\n",
       "      <td>0.341045</td>\n",
       "      <td>0.323936</td>\n",
       "      <td>0.141430</td>\n",
       "      <td>0.180655</td>\n",
       "      <td>0.006729</td>\n",
       "      <td>0.111614</td>\n",
       "      <td>0.005659</td>\n",
       "      <td>0.555068</td>\n",
       "      <td>0.431699</td>\n",
       "      <td>1</td>\n",
       "    </tr>\n",
       "    <tr>\n",
       "      <th>...</th>\n",
       "      <td>...</td>\n",
       "      <td>...</td>\n",
       "      <td>...</td>\n",
       "      <td>...</td>\n",
       "      <td>...</td>\n",
       "      <td>...</td>\n",
       "      <td>...</td>\n",
       "      <td>...</td>\n",
       "      <td>...</td>\n",
       "      <td>...</td>\n",
       "      <td>...</td>\n",
       "      <td>...</td>\n",
       "      <td>...</td>\n",
       "      <td>...</td>\n",
       "      <td>...</td>\n",
       "      <td>...</td>\n",
       "      <td>...</td>\n",
       "      <td>...</td>\n",
       "      <td>...</td>\n",
       "      <td>...</td>\n",
       "      <td>...</td>\n",
       "    </tr>\n",
       "    <tr>\n",
       "      <th>0</th>\n",
       "      <td>356</td>\n",
       "      <td>73</td>\n",
       "      <td>145</td>\n",
       "      <td>0.009171</td>\n",
       "      <td>0.009165</td>\n",
       "      <td>0.000000</td>\n",
       "      <td>0.009267</td>\n",
       "      <td>0.076798</td>\n",
       "      <td>0.088813</td>\n",
       "      <td>0.081051</td>\n",
       "      <td>...</td>\n",
       "      <td>0.173487</td>\n",
       "      <td>0.171440</td>\n",
       "      <td>0.958294</td>\n",
       "      <td>0.976801</td>\n",
       "      <td>0.000000</td>\n",
       "      <td>0.977840</td>\n",
       "      <td>0.805794</td>\n",
       "      <td>0.589026</td>\n",
       "      <td>0.568159</td>\n",
       "      <td>0</td>\n",
       "    </tr>\n",
       "    <tr>\n",
       "      <th>0</th>\n",
       "      <td>357</td>\n",
       "      <td>185</td>\n",
       "      <td>145</td>\n",
       "      <td>0.005688</td>\n",
       "      <td>0.005684</td>\n",
       "      <td>0.000000</td>\n",
       "      <td>0.005870</td>\n",
       "      <td>0.078608</td>\n",
       "      <td>0.086707</td>\n",
       "      <td>0.084339</td>\n",
       "      <td>...</td>\n",
       "      <td>0.145781</td>\n",
       "      <td>0.112898</td>\n",
       "      <td>0.273307</td>\n",
       "      <td>0.303229</td>\n",
       "      <td>0.000000</td>\n",
       "      <td>0.312638</td>\n",
       "      <td>0.043369</td>\n",
       "      <td>0.639074</td>\n",
       "      <td>0.666049</td>\n",
       "      <td>0</td>\n",
       "    </tr>\n",
       "    <tr>\n",
       "      <th>0</th>\n",
       "      <td>357</td>\n",
       "      <td>145</td>\n",
       "      <td>145</td>\n",
       "      <td>0.066575</td>\n",
       "      <td>0.084955</td>\n",
       "      <td>0.000000</td>\n",
       "      <td>0.092659</td>\n",
       "      <td>0.142596</td>\n",
       "      <td>0.154921</td>\n",
       "      <td>0.151948</td>\n",
       "      <td>...</td>\n",
       "      <td>0.940298</td>\n",
       "      <td>0.944137</td>\n",
       "      <td>0.859222</td>\n",
       "      <td>0.893218</td>\n",
       "      <td>0.000000</td>\n",
       "      <td>0.695340</td>\n",
       "      <td>0.894634</td>\n",
       "      <td>0.398007</td>\n",
       "      <td>0.194540</td>\n",
       "      <td>0</td>\n",
       "    </tr>\n",
       "    <tr>\n",
       "      <th>0</th>\n",
       "      <td>357</td>\n",
       "      <td>250</td>\n",
       "      <td>145</td>\n",
       "      <td>0.066769</td>\n",
       "      <td>0.068444</td>\n",
       "      <td>0.000000</td>\n",
       "      <td>0.081495</td>\n",
       "      <td>0.095368</td>\n",
       "      <td>0.105569</td>\n",
       "      <td>0.096892</td>\n",
       "      <td>...</td>\n",
       "      <td>0.139952</td>\n",
       "      <td>0.215056</td>\n",
       "      <td>0.704384</td>\n",
       "      <td>0.775805</td>\n",
       "      <td>0.000000</td>\n",
       "      <td>0.779341</td>\n",
       "      <td>0.474745</td>\n",
       "      <td>0.657225</td>\n",
       "      <td>0.701551</td>\n",
       "      <td>0</td>\n",
       "    </tr>\n",
       "    <tr>\n",
       "      <th>0</th>\n",
       "      <td>357</td>\n",
       "      <td>123</td>\n",
       "      <td>145</td>\n",
       "      <td>0.136912</td>\n",
       "      <td>0.137358</td>\n",
       "      <td>0.000000</td>\n",
       "      <td>0.165279</td>\n",
       "      <td>0.081112</td>\n",
       "      <td>0.087511</td>\n",
       "      <td>0.087477</td>\n",
       "      <td>...</td>\n",
       "      <td>0.927585</td>\n",
       "      <td>0.839028</td>\n",
       "      <td>0.314850</td>\n",
       "      <td>0.354380</td>\n",
       "      <td>0.000000</td>\n",
       "      <td>0.363154</td>\n",
       "      <td>0.073090</td>\n",
       "      <td>0.649769</td>\n",
       "      <td>0.686968</td>\n",
       "      <td>0</td>\n",
       "    </tr>\n",
       "  </tbody>\n",
       "</table>\n",
       "<p>3326 rows × 23 columns</p>\n",
       "</div>"
      ],
      "text/plain": [
       "    bud_id  candid_id  time_id    dist_0  dist_max  dist_min  dist_std   \n",
       "0        3          2        4  0.002544  0.007190  0.002556  0.004853  \\\n",
       "1        3          1        4  0.050874  0.054340  0.049625  0.004807   \n",
       "2        4          1        7  0.005688  0.005684  0.002556  0.002923   \n",
       "3        4          2        7  0.091750  0.091686  0.074515  0.015851   \n",
       "4        4          3        7  0.108070  0.107995  0.090363  0.016486   \n",
       "..     ...        ...      ...       ...       ...       ...       ...   \n",
       "0      356         73      145  0.009171  0.009165  0.000000  0.009267   \n",
       "0      357        185      145  0.005688  0.005684  0.000000  0.005870   \n",
       "0      357        145      145  0.066575  0.084955  0.000000  0.092659   \n",
       "0      357        250      145  0.066769  0.068444  0.000000  0.081495   \n",
       "0      357        123      145  0.136912  0.137358  0.000000  0.165279   \n",
       "\n",
       "    poly_fit_budcm_candidcm  poly_fit_budcm_budpt  poly_fit_expansion_vector   \n",
       "0                  0.087489              0.097102                   0.092832  \\\n",
       "1                  0.092563              0.105912                   0.097172   \n",
       "2                  0.089250              0.108150                   0.108056   \n",
       "3                  0.082546              0.105577                   0.098785   \n",
       "4                  0.099976              0.123533                   0.101175   \n",
       "..                      ...                   ...                        ...   \n",
       "0                  0.076798              0.088813                   0.081051   \n",
       "0                  0.078608              0.086707                   0.084339   \n",
       "0                  0.142596              0.154921                   0.151948   \n",
       "0                  0.095368              0.105569                   0.096892   \n",
       "0                  0.081112              0.087511                   0.087477   \n",
       "\n",
       "    ...  position_bud_last  position_bud_first  orientation_bud_std   \n",
       "0   ...           0.357119            0.297020             0.691325  \\\n",
       "1   ...           0.774330            0.659055             0.124760   \n",
       "2   ...           0.055639            0.070003             0.040899   \n",
       "3   ...           0.376977            0.320081             0.143330   \n",
       "4   ...           0.341045            0.323936             0.141430   \n",
       "..  ...                ...                 ...                  ...   \n",
       "0   ...           0.173487            0.171440             0.958294   \n",
       "0   ...           0.145781            0.112898             0.273307   \n",
       "0   ...           0.940298            0.944137             0.859222   \n",
       "0   ...           0.139952            0.215056             0.704384   \n",
       "0   ...           0.927585            0.839028             0.314850   \n",
       "\n",
       "    orientation_bud_max  orientation_bud_min  orientation_bud_last   \n",
       "0              0.876836             0.054801              0.729442  \\\n",
       "1              0.698800             0.543918              0.703294   \n",
       "2              0.971132             0.926270              0.972242   \n",
       "3              0.551005             0.375171              0.479372   \n",
       "4              0.180655             0.006729              0.111614   \n",
       "..                  ...                  ...                   ...   \n",
       "0              0.976801             0.000000              0.977840   \n",
       "0              0.303229             0.000000              0.312638   \n",
       "0              0.893218             0.000000              0.695340   \n",
       "0              0.775805             0.000000              0.779341   \n",
       "0              0.354380             0.000000              0.363154   \n",
       "\n",
       "    orientation_bud_first  orientation_bud_last_minus_first   \n",
       "0                0.053000                          0.848520  \\\n",
       "1                0.611228                          0.547894   \n",
       "2                0.911233                          0.531904   \n",
       "3                0.368505                          0.557578   \n",
       "4                0.005659                          0.555068   \n",
       "..                    ...                               ...   \n",
       "0                0.805794                          0.589026   \n",
       "0                0.043369                          0.639074   \n",
       "0                0.894634                          0.398007   \n",
       "0                0.474745                          0.657225   \n",
       "0                0.073090                          0.649769   \n",
       "\n",
       "    plyfit_orientation_bud  colony  \n",
       "0                 0.609977       1  \n",
       "1                 0.418295       1  \n",
       "2                 0.412675       1  \n",
       "3                 0.433360       1  \n",
       "4                 0.431699       1  \n",
       "..                     ...     ...  \n",
       "0                 0.568159       0  \n",
       "0                 0.666049       0  \n",
       "0                 0.194540       0  \n",
       "0                 0.701551       0  \n",
       "0                 0.686968       0  \n",
       "\n",
       "[3326 rows x 23 columns]"
      ]
     },
     "execution_count": 34,
     "metadata": {},
     "output_type": "execute_result"
    }
   ],
   "source": [
    "all_candid_features_normalized"
   ]
  },
  {
   "cell_type": "code",
   "execution_count": 32,
   "metadata": {},
   "outputs": [
    {
     "data": {
      "text/html": [
       "<div>\n",
       "<style scoped>\n",
       "    .dataframe tbody tr th:only-of-type {\n",
       "        vertical-align: middle;\n",
       "    }\n",
       "\n",
       "    .dataframe tbody tr th {\n",
       "        vertical-align: top;\n",
       "    }\n",
       "\n",
       "    .dataframe thead th {\n",
       "        text-align: right;\n",
       "    }\n",
       "</style>\n",
       "<table border=\"1\" class=\"dataframe\">\n",
       "  <thead>\n",
       "    <tr style=\"text-align: right;\">\n",
       "      <th></th>\n",
       "      <th>bud_id</th>\n",
       "      <th>candid_id</th>\n",
       "      <th>time_id</th>\n",
       "      <th>dist_0</th>\n",
       "      <th>dist_max</th>\n",
       "      <th>dist_min</th>\n",
       "      <th>dist_std</th>\n",
       "      <th>poly_fit_budcm_candidcm</th>\n",
       "      <th>poly_fit_budcm_budpt</th>\n",
       "      <th>poly_fit_expansion_vector</th>\n",
       "      <th>...</th>\n",
       "      <th>position_bud_last</th>\n",
       "      <th>position_bud_first</th>\n",
       "      <th>orientation_bud_std</th>\n",
       "      <th>orientation_bud_max</th>\n",
       "      <th>orientation_bud_min</th>\n",
       "      <th>orientation_bud_last</th>\n",
       "      <th>orientation_bud_first</th>\n",
       "      <th>orientation_bud_last_minus_first</th>\n",
       "      <th>plyfit_orientation_bud</th>\n",
       "      <th>colony</th>\n",
       "    </tr>\n",
       "  </thead>\n",
       "  <tbody>\n",
       "    <tr>\n",
       "      <th>0</th>\n",
       "      <td>3</td>\n",
       "      <td>2</td>\n",
       "      <td>4</td>\n",
       "      <td>0.002544</td>\n",
       "      <td>0.007190</td>\n",
       "      <td>0.002556</td>\n",
       "      <td>0.004853</td>\n",
       "      <td>0.087489</td>\n",
       "      <td>0.097102</td>\n",
       "      <td>0.092832</td>\n",
       "      <td>...</td>\n",
       "      <td>0.357119</td>\n",
       "      <td>0.297020</td>\n",
       "      <td>0.691325</td>\n",
       "      <td>0.876836</td>\n",
       "      <td>0.054801</td>\n",
       "      <td>0.729442</td>\n",
       "      <td>0.053000</td>\n",
       "      <td>0.848520</td>\n",
       "      <td>0.609977</td>\n",
       "      <td>1</td>\n",
       "    </tr>\n",
       "    <tr>\n",
       "      <th>1</th>\n",
       "      <td>3</td>\n",
       "      <td>1</td>\n",
       "      <td>4</td>\n",
       "      <td>0.050874</td>\n",
       "      <td>0.054340</td>\n",
       "      <td>0.049625</td>\n",
       "      <td>0.004807</td>\n",
       "      <td>0.092563</td>\n",
       "      <td>0.105912</td>\n",
       "      <td>0.097172</td>\n",
       "      <td>...</td>\n",
       "      <td>0.774330</td>\n",
       "      <td>0.659055</td>\n",
       "      <td>0.124760</td>\n",
       "      <td>0.698800</td>\n",
       "      <td>0.543918</td>\n",
       "      <td>0.703294</td>\n",
       "      <td>0.611228</td>\n",
       "      <td>0.547894</td>\n",
       "      <td>0.418295</td>\n",
       "      <td>1</td>\n",
       "    </tr>\n",
       "    <tr>\n",
       "      <th>2</th>\n",
       "      <td>4</td>\n",
       "      <td>1</td>\n",
       "      <td>7</td>\n",
       "      <td>0.005688</td>\n",
       "      <td>0.005684</td>\n",
       "      <td>0.002556</td>\n",
       "      <td>0.002923</td>\n",
       "      <td>0.089250</td>\n",
       "      <td>0.108150</td>\n",
       "      <td>0.108056</td>\n",
       "      <td>...</td>\n",
       "      <td>0.055639</td>\n",
       "      <td>0.070003</td>\n",
       "      <td>0.040899</td>\n",
       "      <td>0.971132</td>\n",
       "      <td>0.926270</td>\n",
       "      <td>0.972242</td>\n",
       "      <td>0.911233</td>\n",
       "      <td>0.531904</td>\n",
       "      <td>0.412675</td>\n",
       "      <td>1</td>\n",
       "    </tr>\n",
       "    <tr>\n",
       "      <th>3</th>\n",
       "      <td>4</td>\n",
       "      <td>2</td>\n",
       "      <td>7</td>\n",
       "      <td>0.091750</td>\n",
       "      <td>0.091686</td>\n",
       "      <td>0.074515</td>\n",
       "      <td>0.015851</td>\n",
       "      <td>0.082546</td>\n",
       "      <td>0.105577</td>\n",
       "      <td>0.098785</td>\n",
       "      <td>...</td>\n",
       "      <td>0.376977</td>\n",
       "      <td>0.320081</td>\n",
       "      <td>0.143330</td>\n",
       "      <td>0.551005</td>\n",
       "      <td>0.375171</td>\n",
       "      <td>0.479372</td>\n",
       "      <td>0.368505</td>\n",
       "      <td>0.557578</td>\n",
       "      <td>0.433360</td>\n",
       "      <td>1</td>\n",
       "    </tr>\n",
       "    <tr>\n",
       "      <th>4</th>\n",
       "      <td>4</td>\n",
       "      <td>3</td>\n",
       "      <td>7</td>\n",
       "      <td>0.108070</td>\n",
       "      <td>0.107995</td>\n",
       "      <td>0.090363</td>\n",
       "      <td>0.016486</td>\n",
       "      <td>0.099976</td>\n",
       "      <td>0.123533</td>\n",
       "      <td>0.101175</td>\n",
       "      <td>...</td>\n",
       "      <td>0.341045</td>\n",
       "      <td>0.323936</td>\n",
       "      <td>0.141430</td>\n",
       "      <td>0.180655</td>\n",
       "      <td>0.006729</td>\n",
       "      <td>0.111614</td>\n",
       "      <td>0.005659</td>\n",
       "      <td>0.555068</td>\n",
       "      <td>0.431699</td>\n",
       "      <td>1</td>\n",
       "    </tr>\n",
       "    <tr>\n",
       "      <th>...</th>\n",
       "      <td>...</td>\n",
       "      <td>...</td>\n",
       "      <td>...</td>\n",
       "      <td>...</td>\n",
       "      <td>...</td>\n",
       "      <td>...</td>\n",
       "      <td>...</td>\n",
       "      <td>...</td>\n",
       "      <td>...</td>\n",
       "      <td>...</td>\n",
       "      <td>...</td>\n",
       "      <td>...</td>\n",
       "      <td>...</td>\n",
       "      <td>...</td>\n",
       "      <td>...</td>\n",
       "      <td>...</td>\n",
       "      <td>...</td>\n",
       "      <td>...</td>\n",
       "      <td>...</td>\n",
       "      <td>...</td>\n",
       "      <td>...</td>\n",
       "    </tr>\n",
       "    <tr>\n",
       "      <th>0</th>\n",
       "      <td>356</td>\n",
       "      <td>73</td>\n",
       "      <td>145</td>\n",
       "      <td>0.009171</td>\n",
       "      <td>0.009165</td>\n",
       "      <td>0.000000</td>\n",
       "      <td>0.009267</td>\n",
       "      <td>0.076798</td>\n",
       "      <td>0.088813</td>\n",
       "      <td>0.081051</td>\n",
       "      <td>...</td>\n",
       "      <td>0.173487</td>\n",
       "      <td>0.171440</td>\n",
       "      <td>0.958294</td>\n",
       "      <td>0.976801</td>\n",
       "      <td>0.000000</td>\n",
       "      <td>0.977840</td>\n",
       "      <td>0.805794</td>\n",
       "      <td>0.589026</td>\n",
       "      <td>0.568159</td>\n",
       "      <td>0</td>\n",
       "    </tr>\n",
       "    <tr>\n",
       "      <th>0</th>\n",
       "      <td>357</td>\n",
       "      <td>185</td>\n",
       "      <td>145</td>\n",
       "      <td>0.005688</td>\n",
       "      <td>0.005684</td>\n",
       "      <td>0.000000</td>\n",
       "      <td>0.005870</td>\n",
       "      <td>0.078608</td>\n",
       "      <td>0.086707</td>\n",
       "      <td>0.084339</td>\n",
       "      <td>...</td>\n",
       "      <td>0.145781</td>\n",
       "      <td>0.112898</td>\n",
       "      <td>0.273307</td>\n",
       "      <td>0.303229</td>\n",
       "      <td>0.000000</td>\n",
       "      <td>0.312638</td>\n",
       "      <td>0.043369</td>\n",
       "      <td>0.639074</td>\n",
       "      <td>0.666049</td>\n",
       "      <td>0</td>\n",
       "    </tr>\n",
       "    <tr>\n",
       "      <th>0</th>\n",
       "      <td>357</td>\n",
       "      <td>145</td>\n",
       "      <td>145</td>\n",
       "      <td>0.066575</td>\n",
       "      <td>0.084955</td>\n",
       "      <td>0.000000</td>\n",
       "      <td>0.092659</td>\n",
       "      <td>0.142596</td>\n",
       "      <td>0.154921</td>\n",
       "      <td>0.151948</td>\n",
       "      <td>...</td>\n",
       "      <td>0.940298</td>\n",
       "      <td>0.944137</td>\n",
       "      <td>0.859222</td>\n",
       "      <td>0.893218</td>\n",
       "      <td>0.000000</td>\n",
       "      <td>0.695340</td>\n",
       "      <td>0.894634</td>\n",
       "      <td>0.398007</td>\n",
       "      <td>0.194540</td>\n",
       "      <td>0</td>\n",
       "    </tr>\n",
       "    <tr>\n",
       "      <th>0</th>\n",
       "      <td>357</td>\n",
       "      <td>250</td>\n",
       "      <td>145</td>\n",
       "      <td>0.066769</td>\n",
       "      <td>0.068444</td>\n",
       "      <td>0.000000</td>\n",
       "      <td>0.081495</td>\n",
       "      <td>0.095368</td>\n",
       "      <td>0.105569</td>\n",
       "      <td>0.096892</td>\n",
       "      <td>...</td>\n",
       "      <td>0.139952</td>\n",
       "      <td>0.215056</td>\n",
       "      <td>0.704384</td>\n",
       "      <td>0.775805</td>\n",
       "      <td>0.000000</td>\n",
       "      <td>0.779341</td>\n",
       "      <td>0.474745</td>\n",
       "      <td>0.657225</td>\n",
       "      <td>0.701551</td>\n",
       "      <td>0</td>\n",
       "    </tr>\n",
       "    <tr>\n",
       "      <th>0</th>\n",
       "      <td>357</td>\n",
       "      <td>123</td>\n",
       "      <td>145</td>\n",
       "      <td>0.136912</td>\n",
       "      <td>0.137358</td>\n",
       "      <td>0.000000</td>\n",
       "      <td>0.165279</td>\n",
       "      <td>0.081112</td>\n",
       "      <td>0.087511</td>\n",
       "      <td>0.087477</td>\n",
       "      <td>...</td>\n",
       "      <td>0.927585</td>\n",
       "      <td>0.839028</td>\n",
       "      <td>0.314850</td>\n",
       "      <td>0.354380</td>\n",
       "      <td>0.000000</td>\n",
       "      <td>0.363154</td>\n",
       "      <td>0.073090</td>\n",
       "      <td>0.649769</td>\n",
       "      <td>0.686968</td>\n",
       "      <td>0</td>\n",
       "    </tr>\n",
       "  </tbody>\n",
       "</table>\n",
       "<p>3326 rows × 23 columns</p>\n",
       "</div>"
      ],
      "text/plain": [
       "    bud_id  candid_id  time_id    dist_0  dist_max  dist_min  dist_std   \n",
       "0        3          2        4  0.002544  0.007190  0.002556  0.004853  \\\n",
       "1        3          1        4  0.050874  0.054340  0.049625  0.004807   \n",
       "2        4          1        7  0.005688  0.005684  0.002556  0.002923   \n",
       "3        4          2        7  0.091750  0.091686  0.074515  0.015851   \n",
       "4        4          3        7  0.108070  0.107995  0.090363  0.016486   \n",
       "..     ...        ...      ...       ...       ...       ...       ...   \n",
       "0      356         73      145  0.009171  0.009165  0.000000  0.009267   \n",
       "0      357        185      145  0.005688  0.005684  0.000000  0.005870   \n",
       "0      357        145      145  0.066575  0.084955  0.000000  0.092659   \n",
       "0      357        250      145  0.066769  0.068444  0.000000  0.081495   \n",
       "0      357        123      145  0.136912  0.137358  0.000000  0.165279   \n",
       "\n",
       "    poly_fit_budcm_candidcm  poly_fit_budcm_budpt  poly_fit_expansion_vector   \n",
       "0                  0.087489              0.097102                   0.092832  \\\n",
       "1                  0.092563              0.105912                   0.097172   \n",
       "2                  0.089250              0.108150                   0.108056   \n",
       "3                  0.082546              0.105577                   0.098785   \n",
       "4                  0.099976              0.123533                   0.101175   \n",
       "..                      ...                   ...                        ...   \n",
       "0                  0.076798              0.088813                   0.081051   \n",
       "0                  0.078608              0.086707                   0.084339   \n",
       "0                  0.142596              0.154921                   0.151948   \n",
       "0                  0.095368              0.105569                   0.096892   \n",
       "0                  0.081112              0.087511                   0.087477   \n",
       "\n",
       "    ...  position_bud_last  position_bud_first  orientation_bud_std   \n",
       "0   ...           0.357119            0.297020             0.691325  \\\n",
       "1   ...           0.774330            0.659055             0.124760   \n",
       "2   ...           0.055639            0.070003             0.040899   \n",
       "3   ...           0.376977            0.320081             0.143330   \n",
       "4   ...           0.341045            0.323936             0.141430   \n",
       "..  ...                ...                 ...                  ...   \n",
       "0   ...           0.173487            0.171440             0.958294   \n",
       "0   ...           0.145781            0.112898             0.273307   \n",
       "0   ...           0.940298            0.944137             0.859222   \n",
       "0   ...           0.139952            0.215056             0.704384   \n",
       "0   ...           0.927585            0.839028             0.314850   \n",
       "\n",
       "    orientation_bud_max  orientation_bud_min  orientation_bud_last   \n",
       "0              0.876836             0.054801              0.729442  \\\n",
       "1              0.698800             0.543918              0.703294   \n",
       "2              0.971132             0.926270              0.972242   \n",
       "3              0.551005             0.375171              0.479372   \n",
       "4              0.180655             0.006729              0.111614   \n",
       "..                  ...                  ...                   ...   \n",
       "0              0.976801             0.000000              0.977840   \n",
       "0              0.303229             0.000000              0.312638   \n",
       "0              0.893218             0.000000              0.695340   \n",
       "0              0.775805             0.000000              0.779341   \n",
       "0              0.354380             0.000000              0.363154   \n",
       "\n",
       "    orientation_bud_first  orientation_bud_last_minus_first   \n",
       "0                0.053000                          0.848520  \\\n",
       "1                0.611228                          0.547894   \n",
       "2                0.911233                          0.531904   \n",
       "3                0.368505                          0.557578   \n",
       "4                0.005659                          0.555068   \n",
       "..                    ...                               ...   \n",
       "0                0.805794                          0.589026   \n",
       "0                0.043369                          0.639074   \n",
       "0                0.894634                          0.398007   \n",
       "0                0.474745                          0.657225   \n",
       "0                0.073090                          0.649769   \n",
       "\n",
       "    plyfit_orientation_bud  colony  \n",
       "0                 0.609977       1  \n",
       "1                 0.418295       1  \n",
       "2                 0.412675       1  \n",
       "3                 0.433360       1  \n",
       "4                 0.431699       1  \n",
       "..                     ...     ...  \n",
       "0                 0.568159       0  \n",
       "0                 0.666049       0  \n",
       "0                 0.194540       0  \n",
       "0                 0.701551       0  \n",
       "0                 0.686968       0  \n",
       "\n",
       "[3326 rows x 23 columns]"
      ]
     },
     "execution_count": 32,
     "metadata": {},
     "output_type": "execute_result"
    }
   ],
   "source": [
    "all_candid_features_normalized"
   ]
  },
  {
   "cell_type": "code",
   "execution_count": 26,
   "metadata": {},
   "outputs": [
    {
     "name": "stdout",
     "output_type": "stream",
     "text": [
      "config:  {'epoch_n': 200, 'patience': 10, 'lr': 0.01, 'batch_size': 256, 'layers': [64, 64, 5], 'augment': True, 'features': ['dist_0', 'dist_std', 'poly_fit_budcm_budpt', 'poly_fit_expansion_vector', 'position_bud_std', 'position_bud_max', 'position_bud_min', 'position_bud_last', 'position_bud_first', 'orientation_bud_std', 'orientation_bud_max', 'orientation_bud_min', 'orientation_bud_last', 'orientation_bud_first', 'orientation_bud_last_minus_first', 'plyfit_orientation_bud'], 'train_set': 'all', 'cv_number': 1}\n",
      "yes. I am reloaded\n"
     ]
    },
    {
     "data": {
      "text/html": [
       "Finishing last run (ID:mwl9hlfr) before initializing another..."
      ],
      "text/plain": [
       "<IPython.core.display.HTML object>"
      ]
     },
     "metadata": {},
     "output_type": "display_data"
    },
    {
     "data": {
      "text/html": [
       "Waiting for W&B process to finish... <strong style=\"color:green\">(success).</strong>"
      ],
      "text/plain": [
       "<IPython.core.display.HTML object>"
      ]
     },
     "metadata": {},
     "output_type": "display_data"
    },
    {
     "data": {
      "application/vnd.jupyter.widget-view+json": {
       "model_id": "7649379375ba4374b1d9303df15c85da",
       "version_major": 2,
       "version_minor": 0
      },
      "text/plain": [
       "VBox(children=(Label(value='0.003 MB of 0.013 MB uploaded (0.000 MB deduped)\\r'), FloatProgress(value=0.206985…"
      ]
     },
     "metadata": {},
     "output_type": "display_data"
    },
    {
     "data": {
      "text/html": [
       "<style>\n",
       "    table.wandb td:nth-child(1) { padding: 0 10px; text-align: left ; width: auto;} td:nth-child(2) {text-align: left ; width: 100%}\n",
       "    .wandb-row { display: flex; flex-direction: row; flex-wrap: wrap; justify-content: flex-start; width: 100% }\n",
       "    .wandb-col { display: flex; flex-direction: column; flex-basis: 100%; flex: 1; padding: 10px; }\n",
       "    </style>\n",
       "<div class=\"wandb-row\"><div class=\"wandb-col\"><h3>Run history:</h3><br/><table class=\"wandb\"><tr><td>best_accuracy</td><td>▁▃▃▅▅▆▆▆▆▇▇▇▇▇▇███████████████</td></tr><tr><td>epoch</td><td>▁▁▁▂▂▂▂▃▃▃▃▄▄▄▄▅▅▅▅▆▆▆▆▇▇▇▇███</td></tr><tr><td>eval_accuracy</td><td>▁▃▂▅▄▆▅▆▆▇▇▇▇▇▆█▇▆▇███▇▇▇▇▇▇█▇</td></tr><tr><td>lr</td><td>███▇▇▇▇▆▆▆▆▅▅▅▅▄▄▄▄▃▃▃▃▂▂▂▂▁▁▁</td></tr><tr><td>patience</td><td>▁▁▂▁▂▁▂▂▃▁▁▁▂▂▃▁▂▂▃▁▂▂▃▄▅▅▆▇▇█</td></tr><tr><td>train_accuracy</td><td>▁▄▅▅▆▆▇▇▇▇▇▇▇█████████████████</td></tr></table><br/></div><div class=\"wandb-col\"><h3>Run summary:</h3><br/><table class=\"wandb\"><tr><td>best_accuracy</td><td>0.84242</td></tr><tr><td>epoch</td><td>29</td></tr><tr><td>eval_accuracy</td><td>0.81818</td></tr><tr><td>lr</td><td>0.00703</td></tr><tr><td>patience</td><td>10</td></tr><tr><td>train_accuracy</td><td>0.82413</td></tr></table><br/></div></div>"
      ],
      "text/plain": [
       "<IPython.core.display.HTML object>"
      ]
     },
     "metadata": {},
     "output_type": "display_data"
    },
    {
     "data": {
      "text/html": [
       " View run <strong style=\"color:#cdcd00\">breezy-wood-524</strong> at: <a href='https://wandb.ai/f-labbaf97/lineage_tracing/runs/mwl9hlfr' target=\"_blank\">https://wandb.ai/f-labbaf97/lineage_tracing/runs/mwl9hlfr</a><br/>Synced 6 W&B file(s), 0 media file(s), 0 artifact file(s) and 0 other file(s)"
      ],
      "text/plain": [
       "<IPython.core.display.HTML object>"
      ]
     },
     "metadata": {},
     "output_type": "display_data"
    },
    {
     "data": {
      "text/html": [
       "Find logs at: <code>./wandb/run-20230526_114230-mwl9hlfr/logs</code>"
      ],
      "text/plain": [
       "<IPython.core.display.HTML object>"
      ]
     },
     "metadata": {},
     "output_type": "display_data"
    },
    {
     "data": {
      "text/html": [
       "Successfully finished last run (ID:mwl9hlfr). Initializing new run:<br/>"
      ],
      "text/plain": [
       "<IPython.core.display.HTML object>"
      ]
     },
     "metadata": {},
     "output_type": "display_data"
    },
    {
     "data": {
      "application/vnd.jupyter.widget-view+json": {
       "model_id": "0cd9f04a99e147dc9b03c7a0866c249c",
       "version_major": 2,
       "version_minor": 0
      },
      "text/plain": [
       "VBox(children=(Label(value='Waiting for wandb.init()...\\r'), FloatProgress(value=0.016669056450094408, max=1.0…"
      ]
     },
     "metadata": {},
     "output_type": "display_data"
    },
    {
     "data": {
      "text/html": [
       "Tracking run with wandb version 0.15.3"
      ],
      "text/plain": [
       "<IPython.core.display.HTML object>"
      ]
     },
     "metadata": {},
     "output_type": "display_data"
    },
    {
     "data": {
      "text/html": [
       "Run data is saved locally in <code>/home/farzaneh/Documents/Bread/bread/src/bread/tests/wandb/run-20230526_114348-vlpce3df</code>"
      ],
      "text/plain": [
       "<IPython.core.display.HTML object>"
      ]
     },
     "metadata": {},
     "output_type": "display_data"
    },
    {
     "data": {
      "text/html": [
       "Syncing run <strong><a href='https://wandb.ai/f-labbaf97/lineage_tracing/runs/vlpce3df' target=\"_blank\">generous-monkey-525</a></strong> to <a href='https://wandb.ai/f-labbaf97/lineage_tracing' target=\"_blank\">Weights & Biases</a> (<a href='https://wandb.me/run' target=\"_blank\">docs</a>)<br/>"
      ],
      "text/plain": [
       "<IPython.core.display.HTML object>"
      ]
     },
     "metadata": {},
     "output_type": "display_data"
    },
    {
     "data": {
      "text/html": [
       " View project at <a href='https://wandb.ai/f-labbaf97/lineage_tracing' target=\"_blank\">https://wandb.ai/f-labbaf97/lineage_tracing</a>"
      ],
      "text/plain": [
       "<IPython.core.display.HTML object>"
      ]
     },
     "metadata": {},
     "output_type": "display_data"
    },
    {
     "data": {
      "text/html": [
       " View run at <a href='https://wandb.ai/f-labbaf97/lineage_tracing/runs/vlpce3df' target=\"_blank\">https://wandb.ai/f-labbaf97/lineage_tracing/runs/vlpce3df</a>"
      ],
      "text/plain": [
       "<IPython.core.display.HTML object>"
      ]
     },
     "metadata": {},
     "output_type": "display_data"
    },
    {
     "name": "stdout",
     "output_type": "stream",
     "text": [
      "early stopping at  36 LR:  0.006336999999999997\n",
      "config:  {'epoch_n': 200, 'patience': 10, 'lr': 0.01, 'batch_size': 256, 'layers': [64, 64, 5], 'augment': True, 'features': ['dist_0', 'dist_std', 'poly_fit_budcm_budpt', 'poly_fit_expansion_vector', 'position_bud_std', 'position_bud_max', 'position_bud_min', 'position_bud_last', 'position_bud_first', 'orientation_bud_std', 'orientation_bud_max', 'orientation_bud_min', 'orientation_bud_last', 'orientation_bud_first', 'orientation_bud_last_minus_first', 'plyfit_orientation_bud'], 'train_set': 'all', 'cv_number': 2}\n",
      "yes. I am reloaded\n"
     ]
    },
    {
     "data": {
      "text/html": [
       "Finishing last run (ID:vlpce3df) before initializing another..."
      ],
      "text/plain": [
       "<IPython.core.display.HTML object>"
      ]
     },
     "metadata": {},
     "output_type": "display_data"
    },
    {
     "data": {
      "text/html": [
       "Waiting for W&B process to finish... <strong style=\"color:green\">(success).</strong>"
      ],
      "text/plain": [
       "<IPython.core.display.HTML object>"
      ]
     },
     "metadata": {},
     "output_type": "display_data"
    },
    {
     "data": {
      "application/vnd.jupyter.widget-view+json": {
       "model_id": "0901099598134ec1981bb3f3ecd73a41",
       "version_major": 2,
       "version_minor": 0
      },
      "text/plain": [
       "VBox(children=(Label(value='0.003 MB of 0.003 MB uploaded (0.000 MB deduped)\\r'), FloatProgress(value=1.0, max…"
      ]
     },
     "metadata": {},
     "output_type": "display_data"
    },
    {
     "data": {
      "text/html": [
       "<style>\n",
       "    table.wandb td:nth-child(1) { padding: 0 10px; text-align: left ; width: auto;} td:nth-child(2) {text-align: left ; width: 100%}\n",
       "    .wandb-row { display: flex; flex-direction: row; flex-wrap: wrap; justify-content: flex-start; width: 100% }\n",
       "    .wandb-col { display: flex; flex-direction: column; flex-basis: 100%; flex: 1; padding: 10px; }\n",
       "    </style>\n",
       "<div class=\"wandb-row\"><div class=\"wandb-col\"><h3>Run history:</h3><br/><table class=\"wandb\"><tr><td>best_accuracy</td><td>▁▄▄▄▅▅▆▆▇▇▇▇▇▇▇▇▇███████████████████</td></tr><tr><td>epoch</td><td>▁▁▁▂▂▂▂▂▃▃▃▃▃▄▄▄▄▄▅▅▅▅▅▆▆▆▆▆▇▇▇▇▇███</td></tr><tr><td>eval_accuracy</td><td>▁▄▄▃▅▅▆▆▇▇▅▆▇▇▇▇▇███▇▇█▇▇█▇█▇█▇▇▇█▇▇</td></tr><tr><td>lr</td><td>███▇▇▇▇▇▆▆▆▆▆▅▅▅▅▅▄▄▄▄▄▃▃▃▃▃▂▂▂▂▂▁▁▁</td></tr><tr><td>patience</td><td>▁▁▂▂▁▁▁▂▁▂▂▃▄▅▅▆▇▁▂▂▃▄▅▅▆▁▂▂▃▄▅▅▆▇▇█</td></tr><tr><td>train_accuracy</td><td>▁▄▅▆▆▆▇▇▇▇▇▇▇███████████████████████</td></tr></table><br/></div><div class=\"wandb-col\"><h3>Run summary:</h3><br/><table class=\"wandb\"><tr><td>best_accuracy</td><td>0.83735</td></tr><tr><td>epoch</td><td>35</td></tr><tr><td>eval_accuracy</td><td>0.81928</td></tr><tr><td>lr</td><td>0.00644</td></tr><tr><td>patience</td><td>10</td></tr><tr><td>train_accuracy</td><td>0.8303</td></tr></table><br/></div></div>"
      ],
      "text/plain": [
       "<IPython.core.display.HTML object>"
      ]
     },
     "metadata": {},
     "output_type": "display_data"
    },
    {
     "data": {
      "text/html": [
       " View run <strong style=\"color:#cdcd00\">generous-monkey-525</strong> at: <a href='https://wandb.ai/f-labbaf97/lineage_tracing/runs/vlpce3df' target=\"_blank\">https://wandb.ai/f-labbaf97/lineage_tracing/runs/vlpce3df</a><br/>Synced 6 W&B file(s), 0 media file(s), 0 artifact file(s) and 0 other file(s)"
      ],
      "text/plain": [
       "<IPython.core.display.HTML object>"
      ]
     },
     "metadata": {},
     "output_type": "display_data"
    },
    {
     "data": {
      "text/html": [
       "Find logs at: <code>./wandb/run-20230526_114348-vlpce3df/logs</code>"
      ],
      "text/plain": [
       "<IPython.core.display.HTML object>"
      ]
     },
     "metadata": {},
     "output_type": "display_data"
    },
    {
     "data": {
      "text/html": [
       "Successfully finished last run (ID:vlpce3df). Initializing new run:<br/>"
      ],
      "text/plain": [
       "<IPython.core.display.HTML object>"
      ]
     },
     "metadata": {},
     "output_type": "display_data"
    },
    {
     "data": {
      "application/vnd.jupyter.widget-view+json": {
       "model_id": "210df048a6414daaa97f817e0d166377",
       "version_major": 2,
       "version_minor": 0
      },
      "text/plain": [
       "VBox(children=(Label(value='Waiting for wandb.init()...\\r'), FloatProgress(value=0.016668500350109146, max=1.0…"
      ]
     },
     "metadata": {},
     "output_type": "display_data"
    },
    {
     "data": {
      "text/html": [
       "Tracking run with wandb version 0.15.3"
      ],
      "text/plain": [
       "<IPython.core.display.HTML object>"
      ]
     },
     "metadata": {},
     "output_type": "display_data"
    },
    {
     "data": {
      "text/html": [
       "Run data is saved locally in <code>/home/farzaneh/Documents/Bread/bread/src/bread/tests/wandb/run-20230526_114406-1tld5obu</code>"
      ],
      "text/plain": [
       "<IPython.core.display.HTML object>"
      ]
     },
     "metadata": {},
     "output_type": "display_data"
    },
    {
     "data": {
      "text/html": [
       "Syncing run <strong><a href='https://wandb.ai/f-labbaf97/lineage_tracing/runs/1tld5obu' target=\"_blank\">balmy-totem-526</a></strong> to <a href='https://wandb.ai/f-labbaf97/lineage_tracing' target=\"_blank\">Weights & Biases</a> (<a href='https://wandb.me/run' target=\"_blank\">docs</a>)<br/>"
      ],
      "text/plain": [
       "<IPython.core.display.HTML object>"
      ]
     },
     "metadata": {},
     "output_type": "display_data"
    },
    {
     "data": {
      "text/html": [
       " View project at <a href='https://wandb.ai/f-labbaf97/lineage_tracing' target=\"_blank\">https://wandb.ai/f-labbaf97/lineage_tracing</a>"
      ],
      "text/plain": [
       "<IPython.core.display.HTML object>"
      ]
     },
     "metadata": {},
     "output_type": "display_data"
    },
    {
     "data": {
      "text/html": [
       " View run at <a href='https://wandb.ai/f-labbaf97/lineage_tracing/runs/1tld5obu' target=\"_blank\">https://wandb.ai/f-labbaf97/lineage_tracing/runs/1tld5obu</a>"
      ],
      "text/plain": [
       "<IPython.core.display.HTML object>"
      ]
     },
     "metadata": {},
     "output_type": "display_data"
    },
    {
     "name": "stdout",
     "output_type": "stream",
     "text": [
      "early stopping at  26 LR:  0.007326999999999998\n",
      "config:  {'epoch_n': 200, 'patience': 10, 'lr': 0.01, 'batch_size': 256, 'layers': [64, 64, 5], 'augment': True, 'features': ['dist_0', 'dist_std', 'poly_fit_budcm_budpt', 'poly_fit_expansion_vector', 'position_bud_std', 'position_bud_max', 'position_bud_min', 'position_bud_last', 'position_bud_first', 'orientation_bud_std', 'orientation_bud_max', 'orientation_bud_min', 'orientation_bud_last', 'orientation_bud_first', 'orientation_bud_last_minus_first', 'plyfit_orientation_bud'], 'train_set': 'all', 'cv_number': 3}\n",
      "yes. I am reloaded\n"
     ]
    },
    {
     "data": {
      "text/html": [
       "Finishing last run (ID:1tld5obu) before initializing another..."
      ],
      "text/plain": [
       "<IPython.core.display.HTML object>"
      ]
     },
     "metadata": {},
     "output_type": "display_data"
    },
    {
     "data": {
      "text/html": [
       "Waiting for W&B process to finish... <strong style=\"color:green\">(success).</strong>"
      ],
      "text/plain": [
       "<IPython.core.display.HTML object>"
      ]
     },
     "metadata": {},
     "output_type": "display_data"
    },
    {
     "data": {
      "application/vnd.jupyter.widget-view+json": {
       "model_id": "c40bb77204034f9a8b20707817edd014",
       "version_major": 2,
       "version_minor": 0
      },
      "text/plain": [
       "VBox(children=(Label(value='0.003 MB of 0.003 MB uploaded (0.000 MB deduped)\\r'), FloatProgress(value=1.0, max…"
      ]
     },
     "metadata": {},
     "output_type": "display_data"
    },
    {
     "data": {
      "text/html": [
       "<style>\n",
       "    table.wandb td:nth-child(1) { padding: 0 10px; text-align: left ; width: auto;} td:nth-child(2) {text-align: left ; width: 100%}\n",
       "    .wandb-row { display: flex; flex-direction: row; flex-wrap: wrap; justify-content: flex-start; width: 100% }\n",
       "    .wandb-col { display: flex; flex-direction: column; flex-basis: 100%; flex: 1; padding: 10px; }\n",
       "    </style>\n",
       "<div class=\"wandb-row\"><div class=\"wandb-col\"><h3>Run history:</h3><br/><table class=\"wandb\"><tr><td>best_accuracy</td><td>▁▃▃▄▄▇▇▇▇▇████████████████</td></tr><tr><td>epoch</td><td>▁▁▂▂▂▂▃▃▃▄▄▄▄▅▅▅▅▆▆▆▇▇▇▇██</td></tr><tr><td>eval_accuracy</td><td>▃▅▁▅▅▇▇▇▇▇█▇█▇▇█▇▇█▇▇█▇▇██</td></tr><tr><td>lr</td><td>██▇▇▇▇▆▆▆▅▅▅▅▄▄▄▄▃▃▃▂▂▂▂▁▁</td></tr><tr><td>patience</td><td>▁▁▂▁▂▁▁▂▂▃▁▂▂▃▄▁▂▂▃▄▅▅▆▇▇█</td></tr><tr><td>train_accuracy</td><td>▁▄▅▆▆▇▇▇▇▇▇█▇█████████████</td></tr></table><br/></div><div class=\"wandb-col\"><h3>Run summary:</h3><br/><table class=\"wandb\"><tr><td>best_accuracy</td><td>0.84848</td></tr><tr><td>epoch</td><td>25</td></tr><tr><td>eval_accuracy</td><td>0.8303</td></tr><tr><td>lr</td><td>0.00743</td></tr><tr><td>patience</td><td>10</td></tr><tr><td>train_accuracy</td><td>0.82848</td></tr></table><br/></div></div>"
      ],
      "text/plain": [
       "<IPython.core.display.HTML object>"
      ]
     },
     "metadata": {},
     "output_type": "display_data"
    },
    {
     "data": {
      "text/html": [
       " View run <strong style=\"color:#cdcd00\">balmy-totem-526</strong> at: <a href='https://wandb.ai/f-labbaf97/lineage_tracing/runs/1tld5obu' target=\"_blank\">https://wandb.ai/f-labbaf97/lineage_tracing/runs/1tld5obu</a><br/>Synced 6 W&B file(s), 0 media file(s), 0 artifact file(s) and 0 other file(s)"
      ],
      "text/plain": [
       "<IPython.core.display.HTML object>"
      ]
     },
     "metadata": {},
     "output_type": "display_data"
    },
    {
     "data": {
      "text/html": [
       "Find logs at: <code>./wandb/run-20230526_114406-1tld5obu/logs</code>"
      ],
      "text/plain": [
       "<IPython.core.display.HTML object>"
      ]
     },
     "metadata": {},
     "output_type": "display_data"
    },
    {
     "data": {
      "text/html": [
       "Successfully finished last run (ID:1tld5obu). Initializing new run:<br/>"
      ],
      "text/plain": [
       "<IPython.core.display.HTML object>"
      ]
     },
     "metadata": {},
     "output_type": "display_data"
    },
    {
     "data": {
      "application/vnd.jupyter.widget-view+json": {
       "model_id": "552dbaa69bf842ac90d0defc714f8289",
       "version_major": 2,
       "version_minor": 0
      },
      "text/plain": [
       "VBox(children=(Label(value='Waiting for wandb.init()...\\r'), FloatProgress(value=0.016668569066678175, max=1.0…"
      ]
     },
     "metadata": {},
     "output_type": "display_data"
    },
    {
     "data": {
      "text/html": [
       "Tracking run with wandb version 0.15.3"
      ],
      "text/plain": [
       "<IPython.core.display.HTML object>"
      ]
     },
     "metadata": {},
     "output_type": "display_data"
    },
    {
     "data": {
      "text/html": [
       "Run data is saved locally in <code>/home/farzaneh/Documents/Bread/bread/src/bread/tests/wandb/run-20230526_114421-iff6kzsn</code>"
      ],
      "text/plain": [
       "<IPython.core.display.HTML object>"
      ]
     },
     "metadata": {},
     "output_type": "display_data"
    },
    {
     "data": {
      "text/html": [
       "Syncing run <strong><a href='https://wandb.ai/f-labbaf97/lineage_tracing/runs/iff6kzsn' target=\"_blank\">zany-firebrand-527</a></strong> to <a href='https://wandb.ai/f-labbaf97/lineage_tracing' target=\"_blank\">Weights & Biases</a> (<a href='https://wandb.me/run' target=\"_blank\">docs</a>)<br/>"
      ],
      "text/plain": [
       "<IPython.core.display.HTML object>"
      ]
     },
     "metadata": {},
     "output_type": "display_data"
    },
    {
     "data": {
      "text/html": [
       " View project at <a href='https://wandb.ai/f-labbaf97/lineage_tracing' target=\"_blank\">https://wandb.ai/f-labbaf97/lineage_tracing</a>"
      ],
      "text/plain": [
       "<IPython.core.display.HTML object>"
      ]
     },
     "metadata": {},
     "output_type": "display_data"
    },
    {
     "data": {
      "text/html": [
       " View run at <a href='https://wandb.ai/f-labbaf97/lineage_tracing/runs/iff6kzsn' target=\"_blank\">https://wandb.ai/f-labbaf97/lineage_tracing/runs/iff6kzsn</a>"
      ],
      "text/plain": [
       "<IPython.core.display.HTML object>"
      ]
     },
     "metadata": {},
     "output_type": "display_data"
    },
    {
     "name": "stdout",
     "output_type": "stream",
     "text": [
      "early stopping at  26 LR:  0.007326999999999998\n",
      "config:  {'epoch_n': 200, 'patience': 10, 'lr': 0.01, 'batch_size': 256, 'layers': [64, 64, 5], 'augment': True, 'features': ['dist_0', 'dist_std', 'poly_fit_budcm_budpt', 'poly_fit_expansion_vector', 'position_bud_std', 'position_bud_max', 'position_bud_min', 'position_bud_last', 'position_bud_first', 'orientation_bud_std', 'orientation_bud_max', 'orientation_bud_min', 'orientation_bud_last', 'orientation_bud_first', 'orientation_bud_last_minus_first', 'plyfit_orientation_bud'], 'train_set': 'all', 'cv_number': 4}\n",
      "yes. I am reloaded\n"
     ]
    },
    {
     "data": {
      "text/html": [
       "Finishing last run (ID:iff6kzsn) before initializing another..."
      ],
      "text/plain": [
       "<IPython.core.display.HTML object>"
      ]
     },
     "metadata": {},
     "output_type": "display_data"
    },
    {
     "data": {
      "text/html": [
       "Waiting for W&B process to finish... <strong style=\"color:green\">(success).</strong>"
      ],
      "text/plain": [
       "<IPython.core.display.HTML object>"
      ]
     },
     "metadata": {},
     "output_type": "display_data"
    },
    {
     "data": {
      "text/html": [
       "<style>\n",
       "    table.wandb td:nth-child(1) { padding: 0 10px; text-align: left ; width: auto;} td:nth-child(2) {text-align: left ; width: 100%}\n",
       "    .wandb-row { display: flex; flex-direction: row; flex-wrap: wrap; justify-content: flex-start; width: 100% }\n",
       "    .wandb-col { display: flex; flex-direction: column; flex-basis: 100%; flex: 1; padding: 10px; }\n",
       "    </style>\n",
       "<div class=\"wandb-row\"><div class=\"wandb-col\"><h3>Run history:</h3><br/><table class=\"wandb\"><tr><td>best_accuracy</td><td>▁▄▄▅▆▆▇▇▇▇▇███████████████</td></tr><tr><td>epoch</td><td>▁▁▂▂▂▂▃▃▃▄▄▄▄▅▅▅▅▆▆▆▇▇▇▇██</td></tr><tr><td>eval_accuracy</td><td>▁▄▄▅▆▅▇▆▅▆▇█▆▇▆█▇▇▇▇▇▇▇▇█▇</td></tr><tr><td>lr</td><td>██▇▇▇▇▆▆▆▅▅▅▅▄▄▄▄▃▃▃▂▂▂▂▁▁</td></tr><tr><td>patience</td><td>▁▁▁▁▁▂▁▂▂▃▁▁▂▂▃▁▂▂▃▄▅▅▆▇▇█</td></tr><tr><td>train_accuracy</td><td>▁▄▅▆▆▇▇▇▇▇▇███████████████</td></tr></table><br/></div><div class=\"wandb-col\"><h3>Run summary:</h3><br/><table class=\"wandb\"><tr><td>best_accuracy</td><td>0.82424</td></tr><tr><td>epoch</td><td>25</td></tr><tr><td>eval_accuracy</td><td>0.78788</td></tr><tr><td>lr</td><td>0.00743</td></tr><tr><td>patience</td><td>10</td></tr><tr><td>train_accuracy</td><td>0.83781</td></tr></table><br/></div></div>"
      ],
      "text/plain": [
       "<IPython.core.display.HTML object>"
      ]
     },
     "metadata": {},
     "output_type": "display_data"
    },
    {
     "data": {
      "text/html": [
       " View run <strong style=\"color:#cdcd00\">zany-firebrand-527</strong> at: <a href='https://wandb.ai/f-labbaf97/lineage_tracing/runs/iff6kzsn' target=\"_blank\">https://wandb.ai/f-labbaf97/lineage_tracing/runs/iff6kzsn</a><br/>Synced 6 W&B file(s), 0 media file(s), 0 artifact file(s) and 0 other file(s)"
      ],
      "text/plain": [
       "<IPython.core.display.HTML object>"
      ]
     },
     "metadata": {},
     "output_type": "display_data"
    },
    {
     "data": {
      "text/html": [
       "Find logs at: <code>./wandb/run-20230526_114421-iff6kzsn/logs</code>"
      ],
      "text/plain": [
       "<IPython.core.display.HTML object>"
      ]
     },
     "metadata": {},
     "output_type": "display_data"
    },
    {
     "data": {
      "text/html": [
       "Successfully finished last run (ID:iff6kzsn). Initializing new run:<br/>"
      ],
      "text/plain": [
       "<IPython.core.display.HTML object>"
      ]
     },
     "metadata": {},
     "output_type": "display_data"
    },
    {
     "data": {
      "application/vnd.jupyter.widget-view+json": {
       "model_id": "302dfef6cc114f32801622f092104185",
       "version_major": 2,
       "version_minor": 0
      },
      "text/plain": [
       "VBox(children=(Label(value='Waiting for wandb.init()...\\r'), FloatProgress(value=0.01666925144988151, max=1.0)…"
      ]
     },
     "metadata": {},
     "output_type": "display_data"
    },
    {
     "data": {
      "text/html": [
       "Tracking run with wandb version 0.15.3"
      ],
      "text/plain": [
       "<IPython.core.display.HTML object>"
      ]
     },
     "metadata": {},
     "output_type": "display_data"
    },
    {
     "data": {
      "text/html": [
       "Run data is saved locally in <code>/home/farzaneh/Documents/Bread/bread/src/bread/tests/wandb/run-20230526_114437-s4bxtf5h</code>"
      ],
      "text/plain": [
       "<IPython.core.display.HTML object>"
      ]
     },
     "metadata": {},
     "output_type": "display_data"
    },
    {
     "data": {
      "text/html": [
       "Syncing run <strong><a href='https://wandb.ai/f-labbaf97/lineage_tracing/runs/s4bxtf5h' target=\"_blank\">copper-violet-528</a></strong> to <a href='https://wandb.ai/f-labbaf97/lineage_tracing' target=\"_blank\">Weights & Biases</a> (<a href='https://wandb.me/run' target=\"_blank\">docs</a>)<br/>"
      ],
      "text/plain": [
       "<IPython.core.display.HTML object>"
      ]
     },
     "metadata": {},
     "output_type": "display_data"
    },
    {
     "data": {
      "text/html": [
       " View project at <a href='https://wandb.ai/f-labbaf97/lineage_tracing' target=\"_blank\">https://wandb.ai/f-labbaf97/lineage_tracing</a>"
      ],
      "text/plain": [
       "<IPython.core.display.HTML object>"
      ]
     },
     "metadata": {},
     "output_type": "display_data"
    },
    {
     "data": {
      "text/html": [
       " View run at <a href='https://wandb.ai/f-labbaf97/lineage_tracing/runs/s4bxtf5h' target=\"_blank\">https://wandb.ai/f-labbaf97/lineage_tracing/runs/s4bxtf5h</a>"
      ],
      "text/plain": [
       "<IPython.core.display.HTML object>"
      ]
     },
     "metadata": {},
     "output_type": "display_data"
    },
    {
     "name": "stdout",
     "output_type": "stream",
     "text": [
      "early stopping at  32 LR:  0.006732999999999998\n",
      "config:  {'epoch_n': 200, 'patience': 10, 'lr': 0.01, 'batch_size': 256, 'layers': [64, 64, 5], 'augment': True, 'features': ['dist_0', 'dist_std', 'poly_fit_budcm_budpt', 'poly_fit_expansion_vector', 'position_bud_std', 'position_bud_max', 'position_bud_min', 'position_bud_last', 'position_bud_first', 'orientation_bud_std', 'orientation_bud_max', 'orientation_bud_min', 'orientation_bud_last', 'orientation_bud_first', 'orientation_bud_last_minus_first', 'plyfit_orientation_bud'], 'train_set': 'all', 'cv_number': 5}\n",
      "yes. I am reloaded\n"
     ]
    },
    {
     "data": {
      "text/html": [
       "Finishing last run (ID:s4bxtf5h) before initializing another..."
      ],
      "text/plain": [
       "<IPython.core.display.HTML object>"
      ]
     },
     "metadata": {},
     "output_type": "display_data"
    },
    {
     "data": {
      "text/html": [
       "Waiting for W&B process to finish... <strong style=\"color:green\">(success).</strong>"
      ],
      "text/plain": [
       "<IPython.core.display.HTML object>"
      ]
     },
     "metadata": {},
     "output_type": "display_data"
    },
    {
     "data": {
      "text/html": [
       "<style>\n",
       "    table.wandb td:nth-child(1) { padding: 0 10px; text-align: left ; width: auto;} td:nth-child(2) {text-align: left ; width: 100%}\n",
       "    .wandb-row { display: flex; flex-direction: row; flex-wrap: wrap; justify-content: flex-start; width: 100% }\n",
       "    .wandb-col { display: flex; flex-direction: column; flex-basis: 100%; flex: 1; padding: 10px; }\n",
       "    </style>\n",
       "<div class=\"wandb-row\"><div class=\"wandb-col\"><h3>Run history:</h3><br/><table class=\"wandb\"><tr><td>best_accuracy</td><td>▁▅▅▇▇▇▇▇▇▇▇▇▇▇▇█████████████████</td></tr><tr><td>epoch</td><td>▁▁▁▂▂▂▂▃▃▃▃▃▄▄▄▄▅▅▅▅▆▆▆▆▆▇▇▇▇███</td></tr><tr><td>eval_accuracy</td><td>▁▅▅▇▇▆▇▇▇▇▇▇▇▇▇█▇█▇▇▇█████▇█████</td></tr><tr><td>lr</td><td>███▇▇▇▇▆▆▆▆▆▅▅▅▅▄▄▄▄▃▃▃▃▃▂▂▂▂▁▁▁</td></tr><tr><td>patience</td><td>▁▁▁▁▂▂▁▂▂▃▄▅▅▆▇▁▂▁▂▂▃▁▂▂▃▄▅▅▆▇▇█</td></tr><tr><td>train_accuracy</td><td>▁▃▅▅▆▆▇▇▇▇▇▇▇███████████████████</td></tr></table><br/></div><div class=\"wandb-col\"><h3>Run summary:</h3><br/><table class=\"wandb\"><tr><td>best_accuracy</td><td>0.84242</td></tr><tr><td>epoch</td><td>31</td></tr><tr><td>eval_accuracy</td><td>0.8303</td></tr><tr><td>lr</td><td>0.00683</td></tr><tr><td>patience</td><td>10</td></tr><tr><td>train_accuracy</td><td>0.83529</td></tr></table><br/></div></div>"
      ],
      "text/plain": [
       "<IPython.core.display.HTML object>"
      ]
     },
     "metadata": {},
     "output_type": "display_data"
    },
    {
     "data": {
      "text/html": [
       " View run <strong style=\"color:#cdcd00\">copper-violet-528</strong> at: <a href='https://wandb.ai/f-labbaf97/lineage_tracing/runs/s4bxtf5h' target=\"_blank\">https://wandb.ai/f-labbaf97/lineage_tracing/runs/s4bxtf5h</a><br/>Synced 6 W&B file(s), 0 media file(s), 0 artifact file(s) and 0 other file(s)"
      ],
      "text/plain": [
       "<IPython.core.display.HTML object>"
      ]
     },
     "metadata": {},
     "output_type": "display_data"
    },
    {
     "data": {
      "text/html": [
       "Find logs at: <code>./wandb/run-20230526_114437-s4bxtf5h/logs</code>"
      ],
      "text/plain": [
       "<IPython.core.display.HTML object>"
      ]
     },
     "metadata": {},
     "output_type": "display_data"
    },
    {
     "data": {
      "text/html": [
       "Successfully finished last run (ID:s4bxtf5h). Initializing new run:<br/>"
      ],
      "text/plain": [
       "<IPython.core.display.HTML object>"
      ]
     },
     "metadata": {},
     "output_type": "display_data"
    },
    {
     "data": {
      "application/vnd.jupyter.widget-view+json": {
       "model_id": "ea976e6a1119470ebb51cb5bd87d2d72",
       "version_major": 2,
       "version_minor": 0
      },
      "text/plain": [
       "VBox(children=(Label(value='Waiting for wandb.init()...\\r'), FloatProgress(value=0.01666917925006904, max=1.0)…"
      ]
     },
     "metadata": {},
     "output_type": "display_data"
    },
    {
     "data": {
      "text/html": [
       "Tracking run with wandb version 0.15.3"
      ],
      "text/plain": [
       "<IPython.core.display.HTML object>"
      ]
     },
     "metadata": {},
     "output_type": "display_data"
    },
    {
     "data": {
      "text/html": [
       "Run data is saved locally in <code>/home/farzaneh/Documents/Bread/bread/src/bread/tests/wandb/run-20230526_114455-v4ym58j9</code>"
      ],
      "text/plain": [
       "<IPython.core.display.HTML object>"
      ]
     },
     "metadata": {},
     "output_type": "display_data"
    },
    {
     "data": {
      "text/html": [
       "Syncing run <strong><a href='https://wandb.ai/f-labbaf97/lineage_tracing/runs/v4ym58j9' target=\"_blank\">zany-mountain-529</a></strong> to <a href='https://wandb.ai/f-labbaf97/lineage_tracing' target=\"_blank\">Weights & Biases</a> (<a href='https://wandb.me/run' target=\"_blank\">docs</a>)<br/>"
      ],
      "text/plain": [
       "<IPython.core.display.HTML object>"
      ]
     },
     "metadata": {},
     "output_type": "display_data"
    },
    {
     "data": {
      "text/html": [
       " View project at <a href='https://wandb.ai/f-labbaf97/lineage_tracing' target=\"_blank\">https://wandb.ai/f-labbaf97/lineage_tracing</a>"
      ],
      "text/plain": [
       "<IPython.core.display.HTML object>"
      ]
     },
     "metadata": {},
     "output_type": "display_data"
    },
    {
     "data": {
      "text/html": [
       " View run at <a href='https://wandb.ai/f-labbaf97/lineage_tracing/runs/v4ym58j9' target=\"_blank\">https://wandb.ai/f-labbaf97/lineage_tracing/runs/v4ym58j9</a>"
      ],
      "text/plain": [
       "<IPython.core.display.HTML object>"
      ]
     },
     "metadata": {},
     "output_type": "display_data"
    },
    {
     "name": "stdout",
     "output_type": "stream",
     "text": [
      "early stopping at  23 LR:  0.007623999999999997\n",
      "accuracy:  0.8389850310332237 +/- 0.008172180043855585\n"
     ]
    }
   ],
   "source": [
    "# for the normalized data with full list minus bad ones. with fillings (0.849886820007302 +/- 0.014954776486613947)(0.8425994888645493 +/- 0.012883609953286036)\n",
    "f_list = ['dist_0','dist_std','poly_fit_budcm_budpt','poly_fit_expansion_vector','position_bud_std','position_bud_max','position_bud_min','position_bud_last','position_bud_first','orientation_bud_std','orientation_bud_max','orientation_bud_min','orientation_bud_last','orientation_bud_first','orientation_bud_last_minus_first','plyfit_orientation_bud']\n",
    "\n",
    "matrix_feat_custom = get_custom_matrix_features(all_candid_features_normalized, all_gt, f_list, filling_features=[10,10,10,10,0,0,0,10,-1,-1,-1,-1,10,-1,-1,-1,-1,10,-1])\n",
    "config = {'epoch_n': 200, 'patience': 10, 'lr': 0.01, 'batch_size': 256, 'layers': [len(f_list)*4, 64, 5], 'augment': True , 'features':f_list,'train_set': 'all',}\n",
    "models, accuracies = cv_nn(matrix_feat_custom, config=config)"
   ]
  },
  {
   "cell_type": "code",
   "execution_count": 35,
   "metadata": {},
   "outputs": [
    {
     "name": "stdout",
     "output_type": "stream",
     "text": [
      "config:  {'epoch_n': 200, 'patience': 10, 'lr': 0.01, 'batch_size': 256, 'layers': [64, 64, 5], 'augment': True, 'features': ['dist_0', 'dist_std', 'poly_fit_budcm_budpt', 'poly_fit_expansion_vector', 'position_bud_std', 'position_bud_max', 'position_bud_min', 'position_bud_last', 'position_bud_first', 'orientation_bud_std', 'orientation_bud_max', 'orientation_bud_min', 'orientation_bud_last', 'orientation_bud_first', 'orientation_bud_last_minus_first', 'plyfit_orientation_bud'], 'train_set': 'all', 'cv_number': 1}\n",
      "yes. I am reloaded\n"
     ]
    },
    {
     "data": {
      "text/html": [
       "Finishing last run (ID:v4ym58j9) before initializing another..."
      ],
      "text/plain": [
       "<IPython.core.display.HTML object>"
      ]
     },
     "metadata": {},
     "output_type": "display_data"
    },
    {
     "data": {
      "text/html": [
       "Waiting for W&B process to finish... <strong style=\"color:green\">(success).</strong>"
      ],
      "text/plain": [
       "<IPython.core.display.HTML object>"
      ]
     },
     "metadata": {},
     "output_type": "display_data"
    },
    {
     "data": {
      "application/vnd.jupyter.widget-view+json": {
       "model_id": "5d4e437746044f55a53fc2f20d5c4331",
       "version_major": 2,
       "version_minor": 0
      },
      "text/plain": [
       "VBox(children=(Label(value='0.003 MB of 0.003 MB uploaded (0.000 MB deduped)\\r'), FloatProgress(value=1.0, max…"
      ]
     },
     "metadata": {},
     "output_type": "display_data"
    },
    {
     "data": {
      "text/html": [
       "<style>\n",
       "    table.wandb td:nth-child(1) { padding: 0 10px; text-align: left ; width: auto;} td:nth-child(2) {text-align: left ; width: 100%}\n",
       "    .wandb-row { display: flex; flex-direction: row; flex-wrap: wrap; justify-content: flex-start; width: 100% }\n",
       "    .wandb-col { display: flex; flex-direction: column; flex-basis: 100%; flex: 1; padding: 10px; }\n",
       "    </style>\n",
       "<div class=\"wandb-row\"><div class=\"wandb-col\"><h3>Run history:</h3><br/><table class=\"wandb\"><tr><td>best_accuracy</td><td>▁▅▅▆▇▇█████████████████</td></tr><tr><td>epoch</td><td>▁▁▂▂▂▃▃▃▄▄▄▅▅▅▅▆▆▆▇▇▇██</td></tr><tr><td>eval_accuracy</td><td>▁▅▄▆▇▇█▆▇▇▇██▇▇█████▇▇█</td></tr><tr><td>lr</td><td>██▇▇▇▆▆▆▅▅▅▅▄▄▄▃▃▃▂▂▂▁▁</td></tr><tr><td>patience</td><td>▁▁▂▁▁▂▁▂▂▃▄▁▁▂▂▃▄▅▅▆▇▇█</td></tr><tr><td>train_accuracy</td><td>▁▄▅▆▆▇▇▇▇▇▇▇███████████</td></tr></table><br/></div><div class=\"wandb-col\"><h3>Run summary:</h3><br/><table class=\"wandb\"><tr><td>best_accuracy</td><td>0.84242</td></tr><tr><td>epoch</td><td>22</td></tr><tr><td>eval_accuracy</td><td>0.8303</td></tr><tr><td>lr</td><td>0.00772</td></tr><tr><td>patience</td><td>10</td></tr><tr><td>train_accuracy</td><td>0.82476</td></tr></table><br/></div></div>"
      ],
      "text/plain": [
       "<IPython.core.display.HTML object>"
      ]
     },
     "metadata": {},
     "output_type": "display_data"
    },
    {
     "data": {
      "text/html": [
       " View run <strong style=\"color:#cdcd00\">zany-mountain-529</strong> at: <a href='https://wandb.ai/f-labbaf97/lineage_tracing/runs/v4ym58j9' target=\"_blank\">https://wandb.ai/f-labbaf97/lineage_tracing/runs/v4ym58j9</a><br/>Synced 6 W&B file(s), 0 media file(s), 0 artifact file(s) and 0 other file(s)"
      ],
      "text/plain": [
       "<IPython.core.display.HTML object>"
      ]
     },
     "metadata": {},
     "output_type": "display_data"
    },
    {
     "data": {
      "text/html": [
       "Find logs at: <code>./wandb/run-20230526_114455-v4ym58j9/logs</code>"
      ],
      "text/plain": [
       "<IPython.core.display.HTML object>"
      ]
     },
     "metadata": {},
     "output_type": "display_data"
    },
    {
     "data": {
      "text/html": [
       "Successfully finished last run (ID:v4ym58j9). Initializing new run:<br/>"
      ],
      "text/plain": [
       "<IPython.core.display.HTML object>"
      ]
     },
     "metadata": {},
     "output_type": "display_data"
    },
    {
     "data": {
      "application/vnd.jupyter.widget-view+json": {
       "model_id": "037fd412f1c341b9a96812066142eaf1",
       "version_major": 2,
       "version_minor": 0
      },
      "text/plain": [
       "VBox(children=(Label(value='Waiting for wandb.init()...\\r'), FloatProgress(value=0.016668573216641867, max=1.0…"
      ]
     },
     "metadata": {},
     "output_type": "display_data"
    },
    {
     "data": {
      "text/html": [
       "Tracking run with wandb version 0.15.3"
      ],
      "text/plain": [
       "<IPython.core.display.HTML object>"
      ]
     },
     "metadata": {},
     "output_type": "display_data"
    },
    {
     "data": {
      "text/html": [
       "Run data is saved locally in <code>/home/farzaneh/Documents/Bread/bread/src/bread/tests/wandb/run-20230526_115133-6assomjn</code>"
      ],
      "text/plain": [
       "<IPython.core.display.HTML object>"
      ]
     },
     "metadata": {},
     "output_type": "display_data"
    },
    {
     "data": {
      "text/html": [
       "Syncing run <strong><a href='https://wandb.ai/f-labbaf97/lineage_tracing/runs/6assomjn' target=\"_blank\">dulcet-puddle-530</a></strong> to <a href='https://wandb.ai/f-labbaf97/lineage_tracing' target=\"_blank\">Weights & Biases</a> (<a href='https://wandb.me/run' target=\"_blank\">docs</a>)<br/>"
      ],
      "text/plain": [
       "<IPython.core.display.HTML object>"
      ]
     },
     "metadata": {},
     "output_type": "display_data"
    },
    {
     "data": {
      "text/html": [
       " View project at <a href='https://wandb.ai/f-labbaf97/lineage_tracing' target=\"_blank\">https://wandb.ai/f-labbaf97/lineage_tracing</a>"
      ],
      "text/plain": [
       "<IPython.core.display.HTML object>"
      ]
     },
     "metadata": {},
     "output_type": "display_data"
    },
    {
     "data": {
      "text/html": [
       " View run at <a href='https://wandb.ai/f-labbaf97/lineage_tracing/runs/6assomjn' target=\"_blank\">https://wandb.ai/f-labbaf97/lineage_tracing/runs/6assomjn</a>"
      ],
      "text/plain": [
       "<IPython.core.display.HTML object>"
      ]
     },
     "metadata": {},
     "output_type": "display_data"
    },
    {
     "name": "stdout",
     "output_type": "stream",
     "text": [
      "early stopping at  29 LR:  0.007029999999999997\n",
      "config:  {'epoch_n': 200, 'patience': 10, 'lr': 0.01, 'batch_size': 256, 'layers': [64, 64, 5], 'augment': True, 'features': ['dist_0', 'dist_std', 'poly_fit_budcm_budpt', 'poly_fit_expansion_vector', 'position_bud_std', 'position_bud_max', 'position_bud_min', 'position_bud_last', 'position_bud_first', 'orientation_bud_std', 'orientation_bud_max', 'orientation_bud_min', 'orientation_bud_last', 'orientation_bud_first', 'orientation_bud_last_minus_first', 'plyfit_orientation_bud'], 'train_set': 'all', 'cv_number': 2}\n",
      "yes. I am reloaded\n"
     ]
    },
    {
     "data": {
      "text/html": [
       "Finishing last run (ID:6assomjn) before initializing another..."
      ],
      "text/plain": [
       "<IPython.core.display.HTML object>"
      ]
     },
     "metadata": {},
     "output_type": "display_data"
    },
    {
     "data": {
      "text/html": [
       "Waiting for W&B process to finish... <strong style=\"color:green\">(success).</strong>"
      ],
      "text/plain": [
       "<IPython.core.display.HTML object>"
      ]
     },
     "metadata": {},
     "output_type": "display_data"
    },
    {
     "data": {
      "application/vnd.jupyter.widget-view+json": {
       "model_id": "4fda4ea6566941d88c5ef68807b31f17",
       "version_major": 2,
       "version_minor": 0
      },
      "text/plain": [
       "VBox(children=(Label(value='0.003 MB of 0.003 MB uploaded (0.000 MB deduped)\\r'), FloatProgress(value=1.0, max…"
      ]
     },
     "metadata": {},
     "output_type": "display_data"
    },
    {
     "data": {
      "text/html": [
       "<style>\n",
       "    table.wandb td:nth-child(1) { padding: 0 10px; text-align: left ; width: auto;} td:nth-child(2) {text-align: left ; width: 100%}\n",
       "    .wandb-row { display: flex; flex-direction: row; flex-wrap: wrap; justify-content: flex-start; width: 100% }\n",
       "    .wandb-col { display: flex; flex-direction: column; flex-basis: 100%; flex: 1; padding: 10px; }\n",
       "    </style>\n",
       "<div class=\"wandb-row\"><div class=\"wandb-col\"><h3>Run history:</h3><br/><table class=\"wandb\"><tr><td>best_accuracy</td><td>▁▂▂▅▅▆▆▆▆▇▇▇█████████████████</td></tr><tr><td>epoch</td><td>▁▁▁▂▂▂▃▃▃▃▃▄▄▄▅▅▅▅▅▆▆▆▇▇▇▇▇██</td></tr><tr><td>eval_accuracy</td><td>▁▂▂▅▅▆▅▅▆▇▇▆█▇▇▇▇▆█▇▇█▇▇▇▇▇▇█</td></tr><tr><td>lr</td><td>██▇▇▇▇▆▆▆▆▅▅▅▅▅▄▄▄▄▃▃▃▂▂▂▂▂▁▁</td></tr><tr><td>patience</td><td>▁▁▂▁▂▁▂▂▁▁▂▂▁▂▂▃▄▅▁▂▂▃▄▅▅▆▇▇█</td></tr><tr><td>train_accuracy</td><td>▁▄▅▆▆▇▇▇▇▇▇▇▇█▇██████████████</td></tr></table><br/></div><div class=\"wandb-col\"><h3>Run summary:</h3><br/><table class=\"wandb\"><tr><td>best_accuracy</td><td>0.8494</td></tr><tr><td>epoch</td><td>28</td></tr><tr><td>eval_accuracy</td><td>0.84337</td></tr><tr><td>lr</td><td>0.00713</td></tr><tr><td>patience</td><td>10</td></tr><tr><td>train_accuracy</td><td>0.83617</td></tr></table><br/></div></div>"
      ],
      "text/plain": [
       "<IPython.core.display.HTML object>"
      ]
     },
     "metadata": {},
     "output_type": "display_data"
    },
    {
     "data": {
      "text/html": [
       " View run <strong style=\"color:#cdcd00\">dulcet-puddle-530</strong> at: <a href='https://wandb.ai/f-labbaf97/lineage_tracing/runs/6assomjn' target=\"_blank\">https://wandb.ai/f-labbaf97/lineage_tracing/runs/6assomjn</a><br/>Synced 6 W&B file(s), 0 media file(s), 0 artifact file(s) and 0 other file(s)"
      ],
      "text/plain": [
       "<IPython.core.display.HTML object>"
      ]
     },
     "metadata": {},
     "output_type": "display_data"
    },
    {
     "data": {
      "text/html": [
       "Find logs at: <code>./wandb/run-20230526_115133-6assomjn/logs</code>"
      ],
      "text/plain": [
       "<IPython.core.display.HTML object>"
      ]
     },
     "metadata": {},
     "output_type": "display_data"
    },
    {
     "data": {
      "text/html": [
       "Successfully finished last run (ID:6assomjn). Initializing new run:<br/>"
      ],
      "text/plain": [
       "<IPython.core.display.HTML object>"
      ]
     },
     "metadata": {},
     "output_type": "display_data"
    },
    {
     "data": {
      "application/vnd.jupyter.widget-view+json": {
       "model_id": "daf16aef6ae744409d23afaa300e8812",
       "version_major": 2,
       "version_minor": 0
      },
      "text/plain": [
       "VBox(children=(Label(value='Waiting for wandb.init()...\\r'), FloatProgress(value=0.016669261433222952, max=1.0…"
      ]
     },
     "metadata": {},
     "output_type": "display_data"
    },
    {
     "data": {
      "text/html": [
       "Tracking run with wandb version 0.15.3"
      ],
      "text/plain": [
       "<IPython.core.display.HTML object>"
      ]
     },
     "metadata": {},
     "output_type": "display_data"
    },
    {
     "data": {
      "text/html": [
       "Run data is saved locally in <code>/home/farzaneh/Documents/Bread/bread/src/bread/tests/wandb/run-20230526_115150-53r1eask</code>"
      ],
      "text/plain": [
       "<IPython.core.display.HTML object>"
      ]
     },
     "metadata": {},
     "output_type": "display_data"
    },
    {
     "data": {
      "text/html": [
       "Syncing run <strong><a href='https://wandb.ai/f-labbaf97/lineage_tracing/runs/53r1eask' target=\"_blank\">ethereal-snowflake-531</a></strong> to <a href='https://wandb.ai/f-labbaf97/lineage_tracing' target=\"_blank\">Weights & Biases</a> (<a href='https://wandb.me/run' target=\"_blank\">docs</a>)<br/>"
      ],
      "text/plain": [
       "<IPython.core.display.HTML object>"
      ]
     },
     "metadata": {},
     "output_type": "display_data"
    },
    {
     "data": {
      "text/html": [
       " View project at <a href='https://wandb.ai/f-labbaf97/lineage_tracing' target=\"_blank\">https://wandb.ai/f-labbaf97/lineage_tracing</a>"
      ],
      "text/plain": [
       "<IPython.core.display.HTML object>"
      ]
     },
     "metadata": {},
     "output_type": "display_data"
    },
    {
     "data": {
      "text/html": [
       " View run at <a href='https://wandb.ai/f-labbaf97/lineage_tracing/runs/53r1eask' target=\"_blank\">https://wandb.ai/f-labbaf97/lineage_tracing/runs/53r1eask</a>"
      ],
      "text/plain": [
       "<IPython.core.display.HTML object>"
      ]
     },
     "metadata": {},
     "output_type": "display_data"
    },
    {
     "name": "stdout",
     "output_type": "stream",
     "text": [
      "early stopping at  23 LR:  0.007623999999999997\n",
      "config:  {'epoch_n': 200, 'patience': 10, 'lr': 0.01, 'batch_size': 256, 'layers': [64, 64, 5], 'augment': True, 'features': ['dist_0', 'dist_std', 'poly_fit_budcm_budpt', 'poly_fit_expansion_vector', 'position_bud_std', 'position_bud_max', 'position_bud_min', 'position_bud_last', 'position_bud_first', 'orientation_bud_std', 'orientation_bud_max', 'orientation_bud_min', 'orientation_bud_last', 'orientation_bud_first', 'orientation_bud_last_minus_first', 'plyfit_orientation_bud'], 'train_set': 'all', 'cv_number': 3}\n",
      "yes. I am reloaded\n"
     ]
    },
    {
     "data": {
      "text/html": [
       "Finishing last run (ID:53r1eask) before initializing another..."
      ],
      "text/plain": [
       "<IPython.core.display.HTML object>"
      ]
     },
     "metadata": {},
     "output_type": "display_data"
    },
    {
     "data": {
      "text/html": [
       "Waiting for W&B process to finish... <strong style=\"color:green\">(success).</strong>"
      ],
      "text/plain": [
       "<IPython.core.display.HTML object>"
      ]
     },
     "metadata": {},
     "output_type": "display_data"
    },
    {
     "data": {
      "text/html": [
       "<style>\n",
       "    table.wandb td:nth-child(1) { padding: 0 10px; text-align: left ; width: auto;} td:nth-child(2) {text-align: left ; width: 100%}\n",
       "    .wandb-row { display: flex; flex-direction: row; flex-wrap: wrap; justify-content: flex-start; width: 100% }\n",
       "    .wandb-col { display: flex; flex-direction: column; flex-basis: 100%; flex: 1; padding: 10px; }\n",
       "    </style>\n",
       "<div class=\"wandb-row\"><div class=\"wandb-col\"><h3>Run history:</h3><br/><table class=\"wandb\"><tr><td>best_accuracy</td><td>▁▃▄▆▆▆▇▇███████████████</td></tr><tr><td>epoch</td><td>▁▁▂▂▂▃▃▃▄▄▄▅▅▅▅▆▆▆▇▇▇██</td></tr><tr><td>eval_accuracy</td><td>▁▃▄▆▆▆▇▆█▇▇██▇██▇▇██▇▇▇</td></tr><tr><td>lr</td><td>██▇▇▇▆▆▆▅▅▅▅▄▄▄▃▃▃▂▂▂▁▁</td></tr><tr><td>patience</td><td>▁▁▁▁▂▂▁▂▁▂▂▁▁▂▂▃▄▅▅▆▇▇█</td></tr><tr><td>train_accuracy</td><td>▁▄▅▆▆▇▇▇▇▇█████████████</td></tr></table><br/></div><div class=\"wandb-col\"><h3>Run summary:</h3><br/><table class=\"wandb\"><tr><td>best_accuracy</td><td>0.83636</td></tr><tr><td>epoch</td><td>22</td></tr><tr><td>eval_accuracy</td><td>0.8</td></tr><tr><td>lr</td><td>0.00772</td></tr><tr><td>patience</td><td>10</td></tr><tr><td>train_accuracy</td><td>0.82211</td></tr></table><br/></div></div>"
      ],
      "text/plain": [
       "<IPython.core.display.HTML object>"
      ]
     },
     "metadata": {},
     "output_type": "display_data"
    },
    {
     "data": {
      "text/html": [
       " View run <strong style=\"color:#cdcd00\">ethereal-snowflake-531</strong> at: <a href='https://wandb.ai/f-labbaf97/lineage_tracing/runs/53r1eask' target=\"_blank\">https://wandb.ai/f-labbaf97/lineage_tracing/runs/53r1eask</a><br/>Synced 6 W&B file(s), 0 media file(s), 0 artifact file(s) and 0 other file(s)"
      ],
      "text/plain": [
       "<IPython.core.display.HTML object>"
      ]
     },
     "metadata": {},
     "output_type": "display_data"
    },
    {
     "data": {
      "text/html": [
       "Find logs at: <code>./wandb/run-20230526_115150-53r1eask/logs</code>"
      ],
      "text/plain": [
       "<IPython.core.display.HTML object>"
      ]
     },
     "metadata": {},
     "output_type": "display_data"
    },
    {
     "data": {
      "text/html": [
       "Successfully finished last run (ID:53r1eask). Initializing new run:<br/>"
      ],
      "text/plain": [
       "<IPython.core.display.HTML object>"
      ]
     },
     "metadata": {},
     "output_type": "display_data"
    },
    {
     "data": {
      "application/vnd.jupyter.widget-view+json": {
       "model_id": "b63f05126fc14ab190334c388064a551",
       "version_major": 2,
       "version_minor": 0
      },
      "text/plain": [
       "VBox(children=(Label(value='Waiting for wandb.init()...\\r'), FloatProgress(value=0.016668579266843155, max=1.0…"
      ]
     },
     "metadata": {},
     "output_type": "display_data"
    },
    {
     "data": {
      "text/html": [
       "Tracking run with wandb version 0.15.3"
      ],
      "text/plain": [
       "<IPython.core.display.HTML object>"
      ]
     },
     "metadata": {},
     "output_type": "display_data"
    },
    {
     "data": {
      "text/html": [
       "Run data is saved locally in <code>/home/farzaneh/Documents/Bread/bread/src/bread/tests/wandb/run-20230526_115205-99etmkzr</code>"
      ],
      "text/plain": [
       "<IPython.core.display.HTML object>"
      ]
     },
     "metadata": {},
     "output_type": "display_data"
    },
    {
     "data": {
      "text/html": [
       "Syncing run <strong><a href='https://wandb.ai/f-labbaf97/lineage_tracing/runs/99etmkzr' target=\"_blank\">vibrant-bird-532</a></strong> to <a href='https://wandb.ai/f-labbaf97/lineage_tracing' target=\"_blank\">Weights & Biases</a> (<a href='https://wandb.me/run' target=\"_blank\">docs</a>)<br/>"
      ],
      "text/plain": [
       "<IPython.core.display.HTML object>"
      ]
     },
     "metadata": {},
     "output_type": "display_data"
    },
    {
     "data": {
      "text/html": [
       " View project at <a href='https://wandb.ai/f-labbaf97/lineage_tracing' target=\"_blank\">https://wandb.ai/f-labbaf97/lineage_tracing</a>"
      ],
      "text/plain": [
       "<IPython.core.display.HTML object>"
      ]
     },
     "metadata": {},
     "output_type": "display_data"
    },
    {
     "data": {
      "text/html": [
       " View run at <a href='https://wandb.ai/f-labbaf97/lineage_tracing/runs/99etmkzr' target=\"_blank\">https://wandb.ai/f-labbaf97/lineage_tracing/runs/99etmkzr</a>"
      ],
      "text/plain": [
       "<IPython.core.display.HTML object>"
      ]
     },
     "metadata": {},
     "output_type": "display_data"
    },
    {
     "name": "stdout",
     "output_type": "stream",
     "text": [
      "early stopping at  26 LR:  0.007326999999999998\n",
      "config:  {'epoch_n': 200, 'patience': 10, 'lr': 0.01, 'batch_size': 256, 'layers': [64, 64, 5], 'augment': True, 'features': ['dist_0', 'dist_std', 'poly_fit_budcm_budpt', 'poly_fit_expansion_vector', 'position_bud_std', 'position_bud_max', 'position_bud_min', 'position_bud_last', 'position_bud_first', 'orientation_bud_std', 'orientation_bud_max', 'orientation_bud_min', 'orientation_bud_last', 'orientation_bud_first', 'orientation_bud_last_minus_first', 'plyfit_orientation_bud'], 'train_set': 'all', 'cv_number': 4}\n",
      "yes. I am reloaded\n"
     ]
    },
    {
     "data": {
      "text/html": [
       "Finishing last run (ID:99etmkzr) before initializing another..."
      ],
      "text/plain": [
       "<IPython.core.display.HTML object>"
      ]
     },
     "metadata": {},
     "output_type": "display_data"
    },
    {
     "data": {
      "text/html": [
       "Waiting for W&B process to finish... <strong style=\"color:green\">(success).</strong>"
      ],
      "text/plain": [
       "<IPython.core.display.HTML object>"
      ]
     },
     "metadata": {},
     "output_type": "display_data"
    },
    {
     "data": {
      "application/vnd.jupyter.widget-view+json": {
       "model_id": "4d679f4733a34223a39ba7856074e414",
       "version_major": 2,
       "version_minor": 0
      },
      "text/plain": [
       "VBox(children=(Label(value='0.003 MB of 0.003 MB uploaded (0.000 MB deduped)\\r'), FloatProgress(value=1.0, max…"
      ]
     },
     "metadata": {},
     "output_type": "display_data"
    },
    {
     "data": {
      "text/html": [
       "<style>\n",
       "    table.wandb td:nth-child(1) { padding: 0 10px; text-align: left ; width: auto;} td:nth-child(2) {text-align: left ; width: 100%}\n",
       "    .wandb-row { display: flex; flex-direction: row; flex-wrap: wrap; justify-content: flex-start; width: 100% }\n",
       "    .wandb-col { display: flex; flex-direction: column; flex-basis: 100%; flex: 1; padding: 10px; }\n",
       "    </style>\n",
       "<div class=\"wandb-row\"><div class=\"wandb-col\"><h3>Run history:</h3><br/><table class=\"wandb\"><tr><td>best_accuracy</td><td>▁▄▅▆▆▇▇▇▇▇████████████████</td></tr><tr><td>epoch</td><td>▁▁▂▂▂▂▃▃▃▄▄▄▄▅▅▅▅▆▆▆▇▇▇▇██</td></tr><tr><td>eval_accuracy</td><td>▁▄▅▆▆▇▇▇▇▇█▇██▆█▇▇█▇▇▇█▆██</td></tr><tr><td>lr</td><td>██▇▇▇▇▆▆▆▅▅▅▅▄▄▄▄▃▃▃▂▂▂▂▁▁</td></tr><tr><td>patience</td><td>▁▁▁▁▂▁▁▂▁▂▁▂▂▁▂▁▂▂▃▄▅▅▆▇▇█</td></tr><tr><td>train_accuracy</td><td>▁▄▅▆▆▇▇▇▇█████████████████</td></tr></table><br/></div><div class=\"wandb-col\"><h3>Run summary:</h3><br/><table class=\"wandb\"><tr><td>best_accuracy</td><td>0.81818</td></tr><tr><td>epoch</td><td>25</td></tr><tr><td>eval_accuracy</td><td>0.81818</td></tr><tr><td>lr</td><td>0.00743</td></tr><tr><td>patience</td><td>10</td></tr><tr><td>train_accuracy</td><td>0.83724</td></tr></table><br/></div></div>"
      ],
      "text/plain": [
       "<IPython.core.display.HTML object>"
      ]
     },
     "metadata": {},
     "output_type": "display_data"
    },
    {
     "data": {
      "text/html": [
       " View run <strong style=\"color:#cdcd00\">vibrant-bird-532</strong> at: <a href='https://wandb.ai/f-labbaf97/lineage_tracing/runs/99etmkzr' target=\"_blank\">https://wandb.ai/f-labbaf97/lineage_tracing/runs/99etmkzr</a><br/>Synced 6 W&B file(s), 0 media file(s), 0 artifact file(s) and 0 other file(s)"
      ],
      "text/plain": [
       "<IPython.core.display.HTML object>"
      ]
     },
     "metadata": {},
     "output_type": "display_data"
    },
    {
     "data": {
      "text/html": [
       "Find logs at: <code>./wandb/run-20230526_115205-99etmkzr/logs</code>"
      ],
      "text/plain": [
       "<IPython.core.display.HTML object>"
      ]
     },
     "metadata": {},
     "output_type": "display_data"
    },
    {
     "data": {
      "text/html": [
       "Successfully finished last run (ID:99etmkzr). Initializing new run:<br/>"
      ],
      "text/plain": [
       "<IPython.core.display.HTML object>"
      ]
     },
     "metadata": {},
     "output_type": "display_data"
    },
    {
     "data": {
      "application/vnd.jupyter.widget-view+json": {
       "model_id": "2da519695f1a44c28d4231a3652cb3e2",
       "version_major": 2,
       "version_minor": 0
      },
      "text/plain": [
       "VBox(children=(Label(value='Waiting for wandb.init()...\\r'), FloatProgress(value=0.01666870296661121, max=1.0)…"
      ]
     },
     "metadata": {},
     "output_type": "display_data"
    },
    {
     "data": {
      "text/html": [
       "Tracking run with wandb version 0.15.3"
      ],
      "text/plain": [
       "<IPython.core.display.HTML object>"
      ]
     },
     "metadata": {},
     "output_type": "display_data"
    },
    {
     "data": {
      "text/html": [
       "Run data is saved locally in <code>/home/farzaneh/Documents/Bread/bread/src/bread/tests/wandb/run-20230526_115221-jkc6g7e1</code>"
      ],
      "text/plain": [
       "<IPython.core.display.HTML object>"
      ]
     },
     "metadata": {},
     "output_type": "display_data"
    },
    {
     "data": {
      "text/html": [
       "Syncing run <strong><a href='https://wandb.ai/f-labbaf97/lineage_tracing/runs/jkc6g7e1' target=\"_blank\">atomic-night-533</a></strong> to <a href='https://wandb.ai/f-labbaf97/lineage_tracing' target=\"_blank\">Weights & Biases</a> (<a href='https://wandb.me/run' target=\"_blank\">docs</a>)<br/>"
      ],
      "text/plain": [
       "<IPython.core.display.HTML object>"
      ]
     },
     "metadata": {},
     "output_type": "display_data"
    },
    {
     "data": {
      "text/html": [
       " View project at <a href='https://wandb.ai/f-labbaf97/lineage_tracing' target=\"_blank\">https://wandb.ai/f-labbaf97/lineage_tracing</a>"
      ],
      "text/plain": [
       "<IPython.core.display.HTML object>"
      ]
     },
     "metadata": {},
     "output_type": "display_data"
    },
    {
     "data": {
      "text/html": [
       " View run at <a href='https://wandb.ai/f-labbaf97/lineage_tracing/runs/jkc6g7e1' target=\"_blank\">https://wandb.ai/f-labbaf97/lineage_tracing/runs/jkc6g7e1</a>"
      ],
      "text/plain": [
       "<IPython.core.display.HTML object>"
      ]
     },
     "metadata": {},
     "output_type": "display_data"
    },
    {
     "name": "stdout",
     "output_type": "stream",
     "text": [
      "early stopping at  36 LR:  0.006336999999999997\n",
      "config:  {'epoch_n': 200, 'patience': 10, 'lr': 0.01, 'batch_size': 256, 'layers': [64, 64, 5], 'augment': True, 'features': ['dist_0', 'dist_std', 'poly_fit_budcm_budpt', 'poly_fit_expansion_vector', 'position_bud_std', 'position_bud_max', 'position_bud_min', 'position_bud_last', 'position_bud_first', 'orientation_bud_std', 'orientation_bud_max', 'orientation_bud_min', 'orientation_bud_last', 'orientation_bud_first', 'orientation_bud_last_minus_first', 'plyfit_orientation_bud'], 'train_set': 'all', 'cv_number': 5}\n",
      "yes. I am reloaded\n"
     ]
    },
    {
     "data": {
      "text/html": [
       "Finishing last run (ID:jkc6g7e1) before initializing another..."
      ],
      "text/plain": [
       "<IPython.core.display.HTML object>"
      ]
     },
     "metadata": {},
     "output_type": "display_data"
    },
    {
     "data": {
      "text/html": [
       "Waiting for W&B process to finish... <strong style=\"color:green\">(success).</strong>"
      ],
      "text/plain": [
       "<IPython.core.display.HTML object>"
      ]
     },
     "metadata": {},
     "output_type": "display_data"
    },
    {
     "data": {
      "text/html": [
       "<style>\n",
       "    table.wandb td:nth-child(1) { padding: 0 10px; text-align: left ; width: auto;} td:nth-child(2) {text-align: left ; width: 100%}\n",
       "    .wandb-row { display: flex; flex-direction: row; flex-wrap: wrap; justify-content: flex-start; width: 100% }\n",
       "    .wandb-col { display: flex; flex-direction: column; flex-basis: 100%; flex: 1; padding: 10px; }\n",
       "    </style>\n",
       "<div class=\"wandb-row\"><div class=\"wandb-col\"><h3>Run history:</h3><br/><table class=\"wandb\"><tr><td>best_accuracy</td><td>▁▄▄▅▆▆▆▇▇▇▇▇▇▇▇▇▇▇▇▇▇███████████████</td></tr><tr><td>epoch</td><td>▁▁▁▂▂▂▂▂▃▃▃▃▃▄▄▄▄▄▅▅▅▅▅▆▆▆▆▆▇▇▇▇▇███</td></tr><tr><td>eval_accuracy</td><td>▁▄▃▅▆▆▆▇▇▇▇▇▇▇▇▇▇▇▇▇▇█▇▇██▇█▇██▇▇███</td></tr><tr><td>lr</td><td>███▇▇▇▇▇▆▆▆▆▆▅▅▅▅▅▄▄▄▄▄▃▃▃▃▃▂▂▂▂▂▁▁▁</td></tr><tr><td>patience</td><td>▁▁▂▁▁▁▂▁▂▂▁▂▂▃▄▅▅▆▇▇█▁▂▂▃▁▂▂▃▄▅▅▆▇▇█</td></tr><tr><td>train_accuracy</td><td>▁▄▅▆▆▆▇▇▇▇▇▇▇███████████████████████</td></tr></table><br/></div><div class=\"wandb-col\"><h3>Run summary:</h3><br/><table class=\"wandb\"><tr><td>best_accuracy</td><td>0.84848</td></tr><tr><td>epoch</td><td>35</td></tr><tr><td>eval_accuracy</td><td>0.84848</td></tr><tr><td>lr</td><td>0.00644</td></tr><tr><td>patience</td><td>10</td></tr><tr><td>train_accuracy</td><td>0.84052</td></tr></table><br/></div></div>"
      ],
      "text/plain": [
       "<IPython.core.display.HTML object>"
      ]
     },
     "metadata": {},
     "output_type": "display_data"
    },
    {
     "data": {
      "text/html": [
       " View run <strong style=\"color:#cdcd00\">atomic-night-533</strong> at: <a href='https://wandb.ai/f-labbaf97/lineage_tracing/runs/jkc6g7e1' target=\"_blank\">https://wandb.ai/f-labbaf97/lineage_tracing/runs/jkc6g7e1</a><br/>Synced 6 W&B file(s), 0 media file(s), 0 artifact file(s) and 0 other file(s)"
      ],
      "text/plain": [
       "<IPython.core.display.HTML object>"
      ]
     },
     "metadata": {},
     "output_type": "display_data"
    },
    {
     "data": {
      "text/html": [
       "Find logs at: <code>./wandb/run-20230526_115221-jkc6g7e1/logs</code>"
      ],
      "text/plain": [
       "<IPython.core.display.HTML object>"
      ]
     },
     "metadata": {},
     "output_type": "display_data"
    },
    {
     "data": {
      "text/html": [
       "Successfully finished last run (ID:jkc6g7e1). Initializing new run:<br/>"
      ],
      "text/plain": [
       "<IPython.core.display.HTML object>"
      ]
     },
     "metadata": {},
     "output_type": "display_data"
    },
    {
     "data": {
      "application/vnd.jupyter.widget-view+json": {
       "model_id": "881b1139889741cfa5c221a96a771f09",
       "version_major": 2,
       "version_minor": 0
      },
      "text/plain": [
       "VBox(children=(Label(value='Waiting for wandb.init()...\\r'), FloatProgress(value=0.016668516150093637, max=1.0…"
      ]
     },
     "metadata": {},
     "output_type": "display_data"
    },
    {
     "data": {
      "text/html": [
       "Tracking run with wandb version 0.15.3"
      ],
      "text/plain": [
       "<IPython.core.display.HTML object>"
      ]
     },
     "metadata": {},
     "output_type": "display_data"
    },
    {
     "data": {
      "text/html": [
       "Run data is saved locally in <code>/home/farzaneh/Documents/Bread/bread/src/bread/tests/wandb/run-20230526_115239-qu8iho97</code>"
      ],
      "text/plain": [
       "<IPython.core.display.HTML object>"
      ]
     },
     "metadata": {},
     "output_type": "display_data"
    },
    {
     "data": {
      "text/html": [
       "Syncing run <strong><a href='https://wandb.ai/f-labbaf97/lineage_tracing/runs/qu8iho97' target=\"_blank\">swift-donkey-534</a></strong> to <a href='https://wandb.ai/f-labbaf97/lineage_tracing' target=\"_blank\">Weights & Biases</a> (<a href='https://wandb.me/run' target=\"_blank\">docs</a>)<br/>"
      ],
      "text/plain": [
       "<IPython.core.display.HTML object>"
      ]
     },
     "metadata": {},
     "output_type": "display_data"
    },
    {
     "data": {
      "text/html": [
       " View project at <a href='https://wandb.ai/f-labbaf97/lineage_tracing' target=\"_blank\">https://wandb.ai/f-labbaf97/lineage_tracing</a>"
      ],
      "text/plain": [
       "<IPython.core.display.HTML object>"
      ]
     },
     "metadata": {},
     "output_type": "display_data"
    },
    {
     "data": {
      "text/html": [
       " View run at <a href='https://wandb.ai/f-labbaf97/lineage_tracing/runs/qu8iho97' target=\"_blank\">https://wandb.ai/f-labbaf97/lineage_tracing/runs/qu8iho97</a>"
      ],
      "text/plain": [
       "<IPython.core.display.HTML object>"
      ]
     },
     "metadata": {},
     "output_type": "display_data"
    },
    {
     "name": "stdout",
     "output_type": "stream",
     "text": [
      "early stopping at  29 LR:  0.007029999999999997\n",
      "accuracy:  0.842606790799562 +/- 0.01442356751359885\n"
     ]
    }
   ],
   "source": [
    "# for the filtered normalized data with full list minus bad ones. with fillings (0.842606790799562 +/- 0.01442356751359885)\n",
    "f_list = ['dist_0','dist_std','poly_fit_budcm_budpt','poly_fit_expansion_vector','position_bud_std','position_bud_max','position_bud_min','position_bud_last','position_bud_first','orientation_bud_std','orientation_bud_max','orientation_bud_min','orientation_bud_last','orientation_bud_first','orientation_bud_last_minus_first','plyfit_orientation_bud']\n",
    "\n",
    "matrix_feat_custom = get_custom_matrix_features(all_candid_features_normalized, all_gt, f_list, filling_features=[10,10,10,10,0,0,0,10,-1,-1,-1,-1,10,-1,-1,-1,-1,10,-1])\n",
    "config = {'epoch_n': 200, 'patience': 10, 'lr': 0.01, 'batch_size': 256, 'layers': [len(f_list)*4, 64, 5], 'augment': True , 'features':f_list,'train_set': 'all',}\n",
    "models, accuracies = cv_nn(matrix_feat_custom, config=config)"
   ]
  }
 ],
 "metadata": {
  "kernelspec": {
   "display_name": "lineage_tracing",
   "language": "python",
   "name": "python3"
  },
  "language_info": {
   "codemirror_mode": {
    "name": "ipython",
    "version": 3
   },
   "file_extension": ".py",
   "mimetype": "text/x-python",
   "name": "python",
   "nbconvert_exporter": "python",
   "pygments_lexer": "ipython3",
   "version": "3.9.0"
  },
  "orig_nbformat": 4
 },
 "nbformat": 4,
 "nbformat_minor": 2
}
