{
 "cells": [
  {
   "cell_type": "code",
   "execution_count": 1,
   "metadata": {},
   "outputs": [],
   "source": [
    "from sklearn.model_selection import StratifiedKFold\n",
    "from sklearn.metrics import accuracy_score\n",
    "import numpy as np\n",
    "import pandas as pd\n",
    "import os\n",
    "# read in data\n",
    "from utils import get_matrix_features, generate_all_permutations, flatten_3d_array, get_custom_matrix_features\n",
    "path_to_data = os.path.abspath('data')\n",
    "path_to_colonies = os.path.abspath('data/colonies')\n"
   ]
  },
  {
   "cell_type": "code",
   "execution_count": 2,
   "metadata": {},
   "outputs": [],
   "source": [
    "# read data and save in matrix form\n",
    "threshold_mode = 'count'\n",
    "num_nn = 4\n",
    "colony0_lineage_GT_path = '/home/farzaneh/Documents/Bread/bread/src/bread/tests/data/V2022_09_19_HTB2_mCh_MYO1-GFP_50_ms/FOV0_lineage_T0_to_T146.csv'\n",
    "\n",
    "colony0_features = pd.read_csv(os.path.join(\n",
    "    path_to_data, 'colony0_candidate_features_{}_{}_nn.csv'.format(threshold_mode, num_nn)))\n",
    "colony0_lineage_gt = pd.read_csv(colony0_lineage_GT_path).rename(\n",
    "    columns={'parent_id': 'parent_GT'})\n",
    "colony0_lineage_gt['colony'] = [0 for i in range(len(colony0_lineage_gt))]\n",
    "\n",
    "\n",
    "# other colonies\n",
    "colonies_gt = pd.DataFrame()\n",
    "for i in [1, 2, 3, 4, 5]:\n",
    "    temp_colony = pd.read_csv(os.path.join(\n",
    "        path_to_colonies, 'colony00{}_lineage.csv'.format(i)))\n",
    "    temp_colony['colony'] = i\n",
    "    colonies_gt = pd.concat([colonies_gt, temp_colony])\n",
    "colonies_gt = colonies_gt.reset_index(drop=True)\n",
    "colonies_gt.rename(columns={'# parent_id': 'parent_GT'}, inplace=True)\n",
    "\n",
    "colonies_features = pd.DataFrame()\n",
    "for i in [1, 2, 3, 4, 5]:\n",
    "    colonies_features = pd.concat([pd.read_csv(os.path.join(\n",
    "        path_to_colonies, 'colony00{}_candidate_features_{}_{}_nn.csv'.format(i, threshold_mode, num_nn))), colonies_features], ignore_index=True)"
   ]
  },
  {
   "cell_type": "code",
   "execution_count": 3,
   "metadata": {},
   "outputs": [],
   "source": [
    "def get_age_related_features(candidate_features, lineage_gt):\n",
    "    ages = []\n",
    "    last_division_ages = []\n",
    "\n",
    "    for index, row in candidate_features.iterrows():\n",
    "        bud_id = row['bud_id']\n",
    "        colony_id = row['colony']\n",
    "        time_id = row['time_id']\n",
    "        candidate_id = row['candid_id']\n",
    "        \n",
    "        candidate_birth_time = lineage_gt.loc[(lineage_gt['bud_id'] == candidate_id) & (\n",
    "            lineage_gt['colony'] == colony_id), 'time_index'].values[0]\n",
    "\n",
    "        candidate_age = row['time_id'] - candidate_birth_time\n",
    "\n",
    "        candidate_divisions = lineage_gt.loc[\n",
    "            (lineage_gt['parent_GT'] == candidate_id) & (lineage_gt['colony'] == colony_id) & (\n",
    "                    lineage_gt['time_index'] < time_id), \"time_index\"].values\n",
    "\n",
    "        if candidate_divisions.shape[0] == 0:\n",
    "            candidate_last_division = candidate_birth_time\n",
    "        else:\n",
    "            candidate_last_division = np.max(candidate_divisions)\n",
    "\n",
    "        candidate_last_division_age = time_id - candidate_last_division\n",
    "\n",
    "        ages.append(candidate_age)\n",
    "        last_division_ages.append(candidate_last_division_age)\n",
    "\n",
    "    candidate_features['age'] = ages\n",
    "    candidate_features['last_division_age'] = last_division_ages\n",
    "    return candidate_features"
   ]
  },
  {
   "cell_type": "code",
   "execution_count": 4,
   "metadata": {},
   "outputs": [],
   "source": [
    "colonies_features = get_age_related_features(colonies_features, colonies_gt)\n",
    "colonies_features['age'] = colonies_features['age']*5\n",
    "colonies_features['last_division_age'] = colonies_features['last_division_age']*5\n",
    "colony0_features = get_age_related_features(colony0_features, colony0_lineage_gt)\n",
    "colony0_features['age'] = colony0_features['age']*5\n",
    "colony0_features['last_division_age'] = colony0_features['last_division_age']*5"
   ]
  },
  {
   "cell_type": "code",
   "execution_count": 5,
   "metadata": {},
   "outputs": [
    {
     "data": {
      "text/plain": [
       "(4, 12)"
      ]
     },
     "execution_count": 5,
     "metadata": {},
     "output_type": "execute_result"
    }
   ],
   "source": [
    "feature_list = ['feature1', 'feature2', 'feature3', 'feature4', 'feature5',\n",
    "                             'feature6', 'feature7', 'feature8', 'feature9', 'feature10' , 'age', \n",
    "                             'last_division_age']\n",
    "# get matrix features\n",
    "colony0_matrix_features = get_custom_matrix_features(\n",
    "    colony0_features, colony0_lineage_gt, feature_list)\n",
    "colonies_matrix_features = get_custom_matrix_features(colonies_features, colonies_gt, feature_list).reset_index(drop=True)\n",
    "# read in data for colonies 1 to 5 and colony 0 and combine their matrices\n",
    "\n",
    "# combine all data to make a single dataframe for all colonies\n",
    "all_matrix_features = pd.concat(\n",
    "    [colony0_matrix_features, colonies_matrix_features]).reset_index(drop=True)\n",
    "all_matrix_features\n",
    "\n",
    "colonies_matrix_features['features'][1].shape"
   ]
  },
  {
   "attachments": {},
   "cell_type": "markdown",
   "metadata": {},
   "source": [
    "# Train NN for more than 10 features\n"
   ]
  },
  {
   "cell_type": "code",
   "execution_count": 6,
   "metadata": {},
   "outputs": [
    {
     "name": "stderr",
     "output_type": "stream",
     "text": [
      "/home/farzaneh/miniconda3/envs/lineage_tracing/lib/python3.9/site-packages/tqdm/auto.py:21: TqdmWarning: IProgress not found. Please update jupyter and ipywidgets. See https://ipywidgets.readthedocs.io/en/stable/user_install.html\n",
      "  from .autonotebook import tqdm as notebook_tqdm\n"
     ]
    }
   ],
   "source": [
    "from nn import BudDataset, LineageNN, train_nn, test_nn, cv_nn\n"
   ]
  },
  {
   "cell_type": "code",
   "execution_count": null,
   "metadata": {},
   "outputs": [],
   "source": [
    "config = {'epoch_n': 100, 'patience': 10, 'lr': 0.01, 'batch_size': 256, 'layers': [48, 64, 5], 'augment': True, 'save_path': 'bst_nn_01_256_[40,64,5].pth'}\n",
    "models, accuracies = cv_nn(all_matrix_features, config=config)\n",
    "print('accuracy for all with 10 + age + division_age : ', np.mean(accuracies), '+/-', np.std(accuracies))"
   ]
  },
  {
   "cell_type": "code",
   "execution_count": null,
   "metadata": {},
   "outputs": [],
   "source": [
    "# save best model with 12 features\n",
    "import torch\n",
    "test_accuracies =[]\n",
    "best_accuracy = 0\n",
    "best_model = models[0]\n",
    "for model in models:\n",
    "    _ , accuracy = test_nn(model, all_matrix_features)\n",
    "    test_accuracies.append(accuracy)\n",
    "    if accuracy > best_accuracy:\n",
    "        best_accuracy = accuracy\n",
    "        best_model = model\n",
    "        print('new best accuracy: ', accuracy)\n",
    "# save the best model\n",
    "torch.save(best_model.state_dict(), 'bst_nn_all_4frames_12features_[48,64,5].pth')\n",
    "print('average test accuracy on same data (all):' , np.mean(test_accuracies), '+/-', np.std(test_accuracies))\n",
    "print(\"This model has been saved: \", best_accuracy)"
   ]
  },
  {
   "cell_type": "code",
   "execution_count": null,
   "metadata": {},
   "outputs": [],
   "source": [
    "# feature_list = ['feature1', 'feature2', 'feature3', 'feature4', 'feature5',\n",
    "#                              'feature6', 'feature7', 'feature8', 'feature9', 'feature10' , 'age', \n",
    "#                              'last_division_age']\n",
    "# # get matrix features\n",
    "# colony0_matrix_features = get_custom_matrix_features(\n",
    "#     colony0_features, colony0_lineage_gt, feature_list, filling_features = [-1 for i in range(12)])\n",
    "# colonies_matrix_features = get_custom_matrix_features(colonies_features, colonies_gt, feature_list, filling_features = [-1 for i in range(12)]).reset_index(drop=True)\n",
    "# # read in data for colonies 1 to 5 and colony 0 and combine their matrices\n",
    "\n",
    "# # combine all data to make a single dataframe for all colonies\n",
    "# all_matrix_features = pd.concat(\n",
    "#     [colony0_matrix_features, colonies_matrix_features]).reset_index(drop=True)\n",
    "# all_matrix_features\n",
    "\n",
    "# colonies_matrix_features['features'][1].shape\n",
    "# config = {'epoch_n': 100, 'patience': 10, 'lr': 0.01, 'batch_size': 256, 'layers': [48, 64, 5], 'augment': True, 'save_path': 'bst_nn_01_256_[40,64,5].pth'}\n",
    "# models, accuracies = cv_nn(all_matrix_features, config=config)\n",
    "# print('accuracy for all with 10 + age + division_age : ', np.mean(accuracies), '+/-', np.std(accuracies))"
   ]
  },
  {
   "cell_type": "code",
   "execution_count": null,
   "metadata": {},
   "outputs": [],
   "source": []
  },
  {
   "attachments": {},
   "cell_type": "markdown",
   "metadata": {},
   "source": [
    "## Train on colonies and test on colony 0\n"
   ]
  },
  {
   "cell_type": "code",
   "execution_count": null,
   "metadata": {},
   "outputs": [],
   "source": [
    "# train on colonies and test of colony 0\n",
    "train_df = colonies_matrix_features\n",
    "test_df = colony0_matrix_features\n",
    "config = {'epoch_n': 100, 'patience': 10, 'lr': 0.01, 'batch_size': 256, 'layers': [48, 64, 5], 'augment': True, 'save_path': 'bst_nn_01_256_[40,64,5].pth'}\n",
    "models, accuracies = cv_nn(train_df, config=config)\n",
    "test_accuracies = []\n",
    "for model in models:\n",
    "    _ , accuracy = test_nn(model, test_df)\n",
    "    test_accuracies.append(accuracy)\n",
    "print('train on colony 1-5 and test on colony0\\n ','accuracy: ', np.mean(test_accuracies), '+/-', np.std(test_accuracies))\n"
   ]
  },
  {
   "cell_type": "code",
   "execution_count": null,
   "metadata": {},
   "outputs": [],
   "source": [
    "feature_list_age = ['feature1', 'feature2', 'feature3', 'feature4', 'feature5',\n",
    "                             'feature6', 'feature7', 'feature8', 'feature9', 'feature10' , 'age']\n",
    "# get matrix features\n",
    "colony0_matrix_features_age = get_custom_matrix_features(\n",
    "    colony0_features, colony0_lineage_gt, feature_list_age)\n",
    "colonies_matrix_features_age = get_custom_matrix_features(colonies_features, colonies_gt, feature_list_age)\n",
    "\n",
    "all_matrix_features_age = pd.concat([colonies_matrix_features_age, colony0_matrix_features_age]).reset_index(drop=True)\n",
    "config = {'epoch_n': 100, 'patience': 10, 'lr': 0.01, 'batch_size': 256, 'layers': [44, 64, 5], 'augment': True, 'save_path': 'bst_nn_01_256_[40,64,5].pth'}\n",
    "models, accuracies = cv_nn(all_matrix_features_age, config=config)\n",
    "print('accuracy nn with 10+age as features: ', np.mean(accuracies), '+/-', np.std(accuracies))"
   ]
  },
  {
   "cell_type": "code",
   "execution_count": null,
   "metadata": {},
   "outputs": [],
   "source": [
    "all_matrix_features_age['features'][5].shape\n"
   ]
  },
  {
   "attachments": {},
   "cell_type": "markdown",
   "metadata": {},
   "source": [
    "## train and test for 11 features and save best model\n"
   ]
  },
  {
   "cell_type": "code",
   "execution_count": null,
   "metadata": {},
   "outputs": [],
   "source": [
    "feature_list_last_division = ['feature1', 'feature2', 'feature3', 'feature4', 'feature5',\n",
    "                             'feature6', 'feature7', 'feature8', 'feature9', 'feature10' , 'last_division_age']\n",
    "# get matrix features\n",
    "colony0_matrix_features_last_division = get_custom_matrix_features(\n",
    "    colony0_features, colony0_lineage_gt, feature_list_last_division)\n",
    "colonies_matrix_features_last_division = get_custom_matrix_features(colonies_features, colonies_gt, feature_list_last_division)\n",
    "\n",
    "all_matrix_features_last_division = pd.concat([colonies_matrix_features_last_division, colony0_matrix_features_last_division]).reset_index(drop=True)\n",
    "config = {'epoch_n': 100, 'patience': 10, 'lr': 0.01, 'batch_size': 256, 'layers': [44, 64, 5], 'augment': True, 'save_path': 'bst_nn_01_256_[40,64,5].pth'}\n",
    "models, accuracies = cv_nn(all_matrix_features_last_division, config=config)\n",
    "print('accuracy for nn with 10+last_division: ', np.mean(accuracies), '+/-', np.std(accuracies))\n"
   ]
  },
  {
   "cell_type": "code",
   "execution_count": null,
   "metadata": {},
   "outputs": [],
   "source": [
    "\n",
    "# save best model with 11 features\n",
    "import torch\n",
    "test_accuracies =[]\n",
    "best_accuracy = 0\n",
    "best_model = models[0]\n",
    "for model in models:\n",
    "    _ , accuracy = test_nn(model, all_matrix_features_last_division)\n",
    "    test_accuracies.append(accuracy)\n",
    "    if accuracy > best_accuracy:\n",
    "        best_accuracy = accuracy\n",
    "        best_model = model\n",
    "        print('new best accuracy: ', accuracy)\n",
    "# save the best model\n",
    "torch.save(best_model.state_dict(), 'bst_nn_all_4frames_11features_[44,64,5].pth')\n",
    "print('average test accuracy on same data (all):' , np.mean(test_accuracies), '+/-', np.std(test_accuracies))\n",
    "print(\"This model has been saved: \", best_accuracy)"
   ]
  },
  {
   "attachments": {},
   "cell_type": "markdown",
   "metadata": {},
   "source": [
    "# train and test XGBoost with age and age_division\n"
   ]
  },
  {
   "cell_type": "code",
   "execution_count": null,
   "metadata": {},
   "outputs": [],
   "source": [
    "from model_xgboost import run_xgboost, cv_xgboost\n"
   ]
  },
  {
   "cell_type": "code",
   "execution_count": null,
   "metadata": {},
   "outputs": [],
   "source": [
    "# train and test for all colonies\n",
    "mean_score, std_score, models_all = cv_xgboost(all_matrix_features['features'].to_numpy(),\n",
    "                                               all_matrix_features['parent_index_in_candidates'].to_numpy())\n",
    "print('accuracy for all with 10 + age + division_age : ', mean_score, '+/-', std_score)"
   ]
  },
  {
   "cell_type": "code",
   "execution_count": null,
   "metadata": {},
   "outputs": [],
   "source": [
    "feature_list_last_division = ['feature1', 'feature2', 'feature3', 'feature4', 'feature5',\n",
    "                             'feature6', 'feature7', 'feature8', 'feature9', 'feature10' , 'last_division_age']\n",
    "# get matrix features\n",
    "colony0_matrix_features_last_division = get_custom_matrix_features(\n",
    "    colony0_features, colony0_lineage_gt, feature_list_last_division,filling_features = [-1 for i in range(12)])\n",
    "colonies_matrix_features_last_division = get_custom_matrix_features(colonies_features, colonies_gt, feature_list_last_division,filling_features = [-1 for i in range(12)])\n",
    "\n",
    "all_matrix_features_last_division = pd.concat([colonies_matrix_features_last_division, colony0_matrix_features_last_division]).reset_index(drop=True)\n",
    "config = {'epoch_n': 100, 'patience': 10, 'lr': 0.01, 'batch_size': 256, 'layers': [44, 64, 5], 'augment': True, 'save_path': 'bst_nn_01_256_[40,64,5].pth'}\n",
    "mean_score, std_score, models_all = cv_xgboost(all_matrix_features_last_division['features'].to_numpy(),\n",
    "                                               all_matrix_features_last_division['parent_index_in_candidates'].to_numpy())\n",
    "print('accuracy for all with 10+last_division : ', mean_score, '+/-', std_score)"
   ]
  },
  {
   "cell_type": "code",
   "execution_count": null,
   "metadata": {},
   "outputs": [],
   "source": [
    "feature_list_last_division = ['feature1', 'feature2', 'feature3', 'feature4', 'feature5',\n",
    "                             'feature6', 'feature7', 'feature8', 'feature9', 'feature10' , 'age']\n",
    "# get matrix features\n",
    "colony0_matrix_features_age = get_custom_matrix_features(\n",
    "    colony0_features, colony0_lineage_gt, feature_list_age)\n",
    "colonies_matrix_features_age = get_custom_matrix_features(colonies_features, colonies_gt, feature_list_age)\n",
    "\n",
    "all_matrix_features_age = pd.concat([colonies_matrix_features_age, colony0_matrix_features_age]).reset_index(drop=True)\n",
    "config = {'epoch_n': 100, 'patience': 10, 'lr': 0.01, 'batch_size': 256, 'layers': [44, 64, 5], 'augment': True, 'save_path': 'bst_nn_01_256_[40,64,5].pth'}\n",
    "mean_score, std_score, models_all = cv_xgboost(all_matrix_features_age['features'].to_numpy(),\n",
    "                                               all_matrix_features_age['parent_index_in_candidates'].to_numpy())\n",
    "print('accuracy for all with 10 + age : ', mean_score, '+/-', std_score)"
   ]
  },
  {
   "cell_type": "code",
   "execution_count": null,
   "metadata": {},
   "outputs": [],
   "source": [
    "# xgboost with 10 features\n",
    "feature_list = ['feature1', 'feature2', 'feature3', 'feature4', 'feature5',\n",
    "                             'feature6', 'feature7', 'feature8', 'feature9', 'feature10']\n",
    "# get matrix features\n",
    "colony0_matrix_features = get_custom_matrix_features(\n",
    "    colony0_features, colony0_lineage_gt, feature_list,filling_features = [-1 for i in range(12)])\n",
    "colonies_matrix_features = get_custom_matrix_features(colonies_features, colonies_gt, feature_list,filling_features = [-1 for i in range(12)])\n",
    "\n",
    "all_matrix_features = pd.concat([colonies_matrix_features, colony0_matrix_features]).reset_index(drop=True)\n",
    "config = {'epoch_n': 100, 'patience': 10, 'lr': 0.01, 'batch_size': 256, 'layers': [44, 64, 5], 'augment': True, 'save_path': 'bst_nn_01_256_[40,64,5].pth'}\n",
    "mean_score, std_score, models_all = cv_xgboost(all_matrix_features['features'].to_numpy(),\n",
    "                                               all_matrix_features['parent_index_in_candidates'].to_numpy())\n",
    "print('accuracy for all with 10: ', mean_score, '+/-', std_score)"
   ]
  },
  {
   "attachments": {},
   "cell_type": "markdown",
   "metadata": {},
   "source": [
    "# test on external subset\n"
   ]
  },
  {
   "cell_type": "code",
   "execution_count": 7,
   "metadata": {},
   "outputs": [],
   "source": [
    "external_subset_lineage_GT_path_edited = '/home/farzaneh/Documents/TrackerTestDataset_SCerevisiae_7/subset/lineage/lineage_budlum_edited_by_code.csv'\n",
    "external_subset_features_path = '/home/farzaneh/Documents/TrackerTestDataset_SCerevisiae_7/subset/features/features.csv'\n",
    "threshold_mode = 'count'\n",
    "num_nn = 4\n",
    "path_to_features = '/home/farzaneh/Documents/TrackerTestDataset_SCerevisiae_7/subset/lineage/'\n",
    "\n",
    "external_subset_features = pd.read_csv(os.path.join(\n",
    "    path_to_features, 'external_subset_candidate_features_{}_{}_nn.csv'.format(threshold_mode, num_nn)))\n",
    "external_subset_lineage_gt= pd.read_csv(external_subset_lineage_GT_path_edited)\n",
    "\n",
    "\n",
    "frame_length = 5\n",
    "external_subset_features = get_age_related_features(external_subset_features, external_subset_lineage_gt)\n",
    "external_subset_features['age'] = external_subset_features['age']*frame_length\n",
    "external_subset_features['last_division_age'] = external_subset_features['last_division_age']*frame_length\n",
    "\n",
    "\n"
   ]
  },
  {
   "cell_type": "code",
   "execution_count": null,
   "metadata": {},
   "outputs": [
    {
     "name": "stdout",
     "output_type": "stream",
     "text": [
      "test accuracy 0.8440677966101695\n"
     ]
    },
    {
     "data": {
      "text/plain": [
       "(     Unnamed: 0  parent_GT  bud_id  time_index  colony   \n",
       " 3             3          1       4           6      10  \\\n",
       " 4             4          2       5           8      10   \n",
       " 5             5          3       6           9      10   \n",
       " 6             6          1       7          18      10   \n",
       " 7             7          2       8          21      10   \n",
       " ..          ...        ...     ...         ...     ...   \n",
       " 298         298         30     299         118      10   \n",
       " 300         300        160     301         118      10   \n",
       " 301         301         27     302         118      10   \n",
       " 304         304         26     305         118      10   \n",
       " 307         307         96     308         118      10   \n",
       " \n",
       "                                               features           candidates   \n",
       " 3    [[1.0, 4.0, 1.4643841598820833, 1.533490694990...        [1, 2, 3, -3]  \\\n",
       " 4    [[1.0, 2.8284271247461903, 1.8341048520519745,...         [2, 3, 1, 4]   \n",
       " 5    [[2.0, 2.23606797749979, 0.9843862591629124, 1...         [3, 5, 2, 1]   \n",
       " 6    [[1.0, 2.8284271247461903, 1.7695565443728838,...         [1, 4, 2, 3]   \n",
       " 7    [[1.0, 2.0, 1.8103577502210595, 1.819063025188...         [1, 2, 5, 3]   \n",
       " ..                                                 ...                  ...   \n",
       " 298  [[1.0, 2.0, 2.091631799518852, 2.0103411040176...   [30, 52, 198, 239]   \n",
       " 300  [[1.0, 2.0, 0.5943675582008001, 0.662130820442...    [38, 160, 27, 90]   \n",
       " 301  [[1.0, 4.0, 4.516708573096808, 4.5093907953453...    [27, 90, 160, 38]   \n",
       " 304  [[1.0, 2.23606797749979, 0.9151683004515564, 1...  [26, 158, 237, 108]   \n",
       " 307  [[1.0, 2.0, 1.1767734129242469, 1.102854831353...    [96, 166, 165, 8]   \n",
       " \n",
       "      parent_index_in_candidates  predicted  \n",
       " 3                             0          0  \n",
       " 4                             0          0  \n",
       " 5                             0          0  \n",
       " 6                             0          0  \n",
       " 7                             1          1  \n",
       " ..                          ...        ...  \n",
       " 298                           0          1  \n",
       " 300                           1          1  \n",
       " 301                           0          0  \n",
       " 304                           0          1  \n",
       " 307                           0          0  \n",
       " \n",
       " [295 rows x 9 columns],\n",
       " 0.8440677966101695)"
      ]
     },
     "execution_count": 8,
     "metadata": {},
     "output_type": "execute_result"
    }
   ],
   "source": [
    "# get matrix features for external subset with 11 features\n",
    "feature_list = ['feature1', 'feature2', 'feature3', 'feature4', 'feature5',\n",
    "                             'feature6', 'feature7', 'feature8', 'feature9', 'feature10' , \n",
    "                             'last_division_age']\n",
    "# get matrix features\n",
    "external_subset_matrix_features = get_custom_matrix_features(\n",
    "    external_subset_features, external_subset_lineage_gt, feature_list)\n",
    "\n",
    "# test external subset on the best model with 11 featuers\n",
    "import torch\n",
    "model_path = '/home/farzaneh/Documents/Bread/bread/src/bread/algo/lineage/saved_models/bst_nn_all_4frames_11features_[44,64,5].pth'\n",
    "model = LineageNN([44, 64, 5])\n",
    "model.load_state_dict(torch.load(model_path))\n",
    "test_df, accuracy = test_nn(model, external_subset_matrix_features)\n",
    "print ('accuracy on external subset with 11 features: ', accuracy)"
   ]
  },
  {
   "cell_type": "code",
   "execution_count": null,
   "metadata": {},
   "outputs": [],
   "source": []
  }
 ],
 "metadata": {
  "kernelspec": {
   "display_name": "new_env",
   "language": "python",
   "name": "python3"
  },
  "language_info": {
   "codemirror_mode": {
    "name": "ipython",
    "version": 3
   },
   "file_extension": ".py",
   "mimetype": "text/x-python",
   "name": "python",
   "nbconvert_exporter": "python",
   "pygments_lexer": "ipython3",
   "version": "3.9.0"
  },
  "orig_nbformat": 4
 },
 "nbformat": 4,
 "nbformat_minor": 2
}
