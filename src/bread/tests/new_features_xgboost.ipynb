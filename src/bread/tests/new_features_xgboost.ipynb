{
 "cells": [
  {
   "cell_type": "code",
   "execution_count": null,
   "metadata": {},
   "outputs": [],
   "source": [
    "from utils import extract_all_features_for_count_threshold, extract_features_for_dist_threshold, get_custom_matrix_features\n",
    "import xgboost as xgb\n",
    "from sklearn.model_selection import StratifiedKFold\n",
    "from sklearn.metrics import accuracy_score\n",
    "import numpy as np\n",
    "import pandas as pd\n",
    "import os\n",
    "# read in data\n",
    "from utils import get_matrix_features\n",
    "path_to_data = os.path.abspath('data')\n",
    "path_to_colonies = os.path.abspath('data/colonies')"
   ]
  },
  {
   "cell_type": "code",
   "execution_count": null,
   "metadata": {},
   "outputs": [],
   "source": [
    "\n",
    "import pandas as pd\n",
    "feature_list = ['']\n",
    "threshold_mode = 'count'\n",
    "num_nn = 4\n",
    "# colony 0\n",
    "colony0_segmentation_path = '/home/farzaneh/Documents/Bread/bread/src/bread/tests/data/V2022_09_19_HTB2_mCh_MYO1-GFP_50_ms/FOV0_segmentation_T0_to_T146_trimmed.h5'\n",
    "colony0_lineage_GT_path = '/home/farzaneh/Documents/Bread/bread/src/bread/tests/data/V2022_09_19_HTB2_mCh_MYO1-GFP_50_ms/FOV0_lineage_T0_to_T146.csv'\n",
    "colony0_lineage_gt = pd.read_csv(colony0_lineage_GT_path).rename(\n",
    "    columns={'parent_id': 'parent_GT'})\n",
    "colony0_lineage_gt['colony'] = [0 for i in range(len(colony0_lineage_gt))]\n",
    "\n",
    "# colony0_features, f_list = extract_all_features_for_count_threshold(\n",
    "#     colony0_segmentation_path, num_nn=num_nn)\n",
    "# colony0_features['colony'] = [0 for i in range(len(colony0_features))]\n",
    "\n",
    "# colony0_matrix_features = get_custom_matrix_features(\n",
    "#     colony0_features, colony0_lineage_gt, f_list)\n",
    "\n",
    "# colony 1 to 5\n",
    "# load the 5 colony ground truth\n",
    "colonies_gt = pd.DataFrame()\n",
    "for i in [1, 2, 3, 4, 5]:\n",
    "    temp_colony = pd.read_csv(os.path.join(\n",
    "        path_to_colonies, 'colony00{}_lineage.csv'.format(i)))\n",
    "    temp_colony['colony'] = i\n",
    "    colonies_gt = pd.concat([colonies_gt, temp_colony])\n",
    "colonies_gt = colonies_gt.reset_index(drop=True)\n",
    "colonies_gt.rename(columns={'# parent_id': 'parent_GT'}, inplace=True)\n",
    "\n",
    "\n",
    "# extract features for each colony and save them to a csv file. This takes a while. But after this, we only need to load the csv files. every time.\n",
    "    # save to csv\n",
    "    # colony_candidate_features[i-1].to_csv(os.path.join(\n",
    "    #     path_to_colonies, 'colony00{}_candidate_features_19_{}_{}_nn_{}_threshold.csv'.format(i, threshold_mode, num_nn, 10)), index=False)\n",
    "    # colony_candidate_features[i-1] = pd.read_csv(os.path.join(path_to_colonies, 'colony00{}_candidate_features_{}_{}_nn.csv'.format(i, threshold_mode, num_nn)))\n",
    "\n"
   ]
  },
  {
   "cell_type": "code",
   "execution_count": null,
   "metadata": {},
   "outputs": [],
   "source": [
    "\n",
    "_19_f_list = ['dist_0','dist_max','dist_min','dist_std','poly_fit_budcm_candidcm','poly_fit_budcm_budpt','poly_fit_expansion_vector','position_bud_std','position_bud_max','position_bud_min','position_bud_last','position_bud_first','orientation_bud_std','orientation_bud_max','orientation_bud_min','orientation_bud_last','orientation_bud_first','orientation_bud_last_minus_first','plyfit_orientation_bud']\n",
    "# merge colonies features and colony0 features and save in one csv file\n",
    "all_candidate_features = pd.read_csv(os.path.join(path_to_data, 'all_candidate_features_19_{}_{}_nn_{}_thresh.csv'.format(threshold_mode, num_nn, 10)))\n",
    "all_gt = pd.concat([colony0_lineage_gt,colonies_gt]).reset_index()\n",
    "# all_candidate_features.to_csv(os.path.join(path_to_data, 'all_candidate_features_19_{}_{}_nn_{}_thresh.csv'.format(threshold_mode, num_nn, 10)), index=False)\n",
    "all_matrix_features = get_custom_matrix_features(all_candidate_features, all_gt, _19_f_list)\n",
    "all_matrix_features"
   ]
  },
  {
   "attachments": {},
   "cell_type": "markdown",
   "metadata": {},
   "source": [
    "## external data\n"
   ]
  },
  {
   "cell_type": "code",
   "execution_count": null,
   "metadata": {},
   "outputs": [],
   "source": [
    "f_list = ['dist_0','dist_std','poly_fit_budcm_budpt','poly_fit_expansion_vector','position_bud_std','position_bud_max','position_bud_min','position_bud_last','position_bud_first','orientation_bud_std','orientation_bud_max','orientation_bud_min','orientation_bud_last','orientation_bud_first','orientation_bud_last_minus_first','plyfit_orientation_bud']\n",
    "external_subset_lineage_GT_path_edited = '/home/farzaneh/Documents/TrackerTestDataset_SCerevisiae_7/subset/lineage/lineage_budlum_edited_by_code.csv'\n",
    "external_subset_features_path = '/home/farzaneh/Documents/TrackerTestDataset_SCerevisiae_7/subset/features/features_19.csv'\n",
    "external_subset_segmentation_path = '/home/farzaneh/Documents/TrackerTestDataset_SCerevisiae_7/subset/segmentation2/stacked/mask_stack _edited.h5'\n",
    "threshold_mode = 'count'\n",
    "num_nn = 4\n",
    "path_to_features = '/home/farzaneh/Documents/TrackerTestDataset_SCerevisiae_7/subset/lineage/'\n",
    "\n",
    "external_subset_features ,_ =  extract_all_features_for_count_threshold(\n",
    "    external_subset_segmentation_path, num_nn=num_nn)\n",
    "external_subset_features['colony'] = 10\n",
    "external_subset_lineage_gt = pd.read_csv(external_subset_lineage_GT_path_edited)\n",
    "external_subset_lineage_gt['colony'] = 10\n",
    "path_to_features = '/home/farzaneh/Documents/TrackerTestDataset_SCerevisiae_7/subset/lineage/'\n",
    "\n",
    "external_subset_features.to_csv(os.path.join(\n",
    "    path_to_features, 'external_subset_candidate_features_{}_{}_nn_{}_features.csv'.format(threshold_mode, num_nn, 19)))\n",
    "# create matrix features for the external subset\n",
    "external_subset_matrix_features = get_custom_matrix_features(\n",
    "    external_subset_features, external_subset_lineage_gt, f_list)"
   ]
  },
  {
   "attachments": {},
   "cell_type": "markdown",
   "metadata": {},
   "source": [
    "# Train XGboost with new model\n"
   ]
  },
  {
   "cell_type": "code",
   "execution_count": null,
   "metadata": {},
   "outputs": [],
   "source": [
    "from model_xgboost import plot_feature_importance, run_xgboost, cv_xgboost"
   ]
  },
  {
   "cell_type": "code",
   "execution_count": null,
   "metadata": {},
   "outputs": [],
   "source": [
    "# train and test for all colonies\n",
    "f_list = _19_f_list\n",
    "all_matrix_features = get_custom_matrix_features(all_candidate_features, all_gt, f_list)\n",
    "mean_score, std_score, models_all = cv_xgboost(all_matrix_features['features'].to_numpy(),\n",
    "                                               all_matrix_features['parent_index_in_candidates'].to_numpy())"
   ]
  },
  {
   "cell_type": "code",
   "execution_count": null,
   "metadata": {},
   "outputs": [],
   "source": [
    "for model in models_all:\n",
    "    plot_feature_importance(model, figsize=(15,5) ,title='custom model')\n"
   ]
  },
  {
   "cell_type": "code",
   "execution_count": null,
   "metadata": {},
   "outputs": [],
   "source": [
    "eliminate_result={}\n",
    "param = {'objective': 'multi:softmax', 'num_class': 4, 'max_depth': 5, 'min_child_weight': 2, 'eval_metric': 'merror'}\n",
    "for each in _19_f_list:\n",
    "    f_list = list(set(_19_f_list)-set([each]))\n",
    "    custom_matrix = get_custom_matrix_features(all_candidate_features, all_gt, f_list)\n",
    "    mean_score, std_score, models_all = cv_xgboost(custom_matrix['features'].to_numpy(),\n",
    "                                               custom_matrix['parent_index_in_candidates'].to_numpy())\n",
    "    eliminate_result[each] = mean_score\n"
   ]
  },
  {
   "cell_type": "code",
   "execution_count": null,
   "metadata": {},
   "outputs": [],
   "source": [
    "\n",
    "# Sort the keys based on the values in descending order\n",
    "sorted_keys = sorted(eliminate_result, key=eliminate_result.get, reverse=True)\n",
    "\n",
    "# Create a new dictionary with the sorted keys and values\n",
    "sorted_dict = {k: eliminate_result[k] for k in sorted_keys}\n",
    "\n",
    "sorted_dict"
   ]
  },
  {
   "cell_type": "code",
   "execution_count": null,
   "metadata": {},
   "outputs": [],
   "source": [
    "# train for only first 10 features\n",
    "# train and test for all colonies\n",
    "f_list = ['position_bud_std','poly_fit_budcm_budpt','poly_fit_expansion_vector', 'orientation_bud_last_minus_first','position_bud_first', 'dist_std', 'poly_fit_budcm_candidcm', 'position_bud_max', 'orientation_bud_max', 'orientation_bud_min']\n",
    "all_matrix_features = get_custom_matrix_features(all_candidate_features, all_gt, f_list)\n",
    "mean_score, std_score, models_all = cv_xgboost(all_matrix_features['features'].to_numpy(),\n",
    "                                               all_matrix_features['parent_index_in_candidates'].to_numpy())"
   ]
  },
  {
   "cell_type": "code",
   "execution_count": null,
   "metadata": {},
   "outputs": [],
   "source": [
    "# train for only first 18 features\n",
    "# train and test for all colonies\n",
    "f_list = ['dist_max','dist_0','orientation_bud_first','dist_min','position_bud_std','orientation_bud_std','position_bud_min','position_bud_last','orientation_bud_last','poly_fit_budcm_budpt','poly_fit_expansion_vector', 'orientation_bud_last_minus_first','position_bud_first', 'dist_std', 'poly_fit_budcm_candidcm', 'position_bud_max', 'orientation_bud_max', 'orientation_bud_min']\n",
    "all_matrix_features = get_custom_matrix_features(all_candidate_features, all_gt, f_list)\n",
    "mean_score, std_score, models_all = cv_xgboost(all_matrix_features['features'].to_numpy(),\n",
    "                                               all_matrix_features['parent_index_in_candidates'].to_numpy())"
   ]
  },
  {
   "cell_type": "code",
   "execution_count": null,
   "metadata": {},
   "outputs": [],
   "source": [
    "# train for only meaningfull features\n",
    "# train and test for all colonies\n",
    "f_list = ['dist_max','dist_0','orientation_bud_first','position_bud_std','orientation_bud_std','poly_fit_expansion_vector', 'orientation_bud_last_minus_first', 'dist_std', 'poly_fit_budcm_candidcm',]\n",
    "all_matrix_features = get_custom_matrix_features(all_candidate_features, all_gt, f_list)\n",
    "mean_score, std_score, models_all = cv_xgboost(all_matrix_features['features'].to_numpy(),\n",
    "                                               all_matrix_features['parent_index_in_candidates'].to_numpy())"
   ]
  }
 ],
 "metadata": {
  "kernelspec": {
   "display_name": "lineage_tracing",
   "language": "python",
   "name": "python3"
  },
  "language_info": {
   "codemirror_mode": {
    "name": "ipython",
    "version": 3
   },
   "file_extension": ".py",
   "mimetype": "text/x-python",
   "name": "python",
   "nbconvert_exporter": "python",
   "pygments_lexer": "ipython3",
   "version": "3.9.0"
  },
  "orig_nbformat": 4
 },
 "nbformat": 4,
 "nbformat_minor": 2
}
