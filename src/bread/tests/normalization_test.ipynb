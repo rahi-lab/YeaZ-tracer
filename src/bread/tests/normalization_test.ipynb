{
 "cells": [
  {
   "cell_type": "code",
   "execution_count": 1,
   "metadata": {},
   "outputs": [],
   "source": [
    "from utils import extract_all_features_for_count_threshold, extract_features_for_dist_threshold, get_custom_matrix_features\n",
    "import xgboost as xgb\n",
    "from sklearn.model_selection import StratifiedKFold\n",
    "from sklearn.metrics import accuracy_score\n",
    "import numpy as np\n",
    "import pandas as pd\n",
    "import os\n",
    "# read in data\n",
    "from utils import get_matrix_features\n",
    "path_to_data = os.path.abspath('data')\n",
    "path_to_colonies = os.path.abspath('data/colonies')"
   ]
  },
  {
   "cell_type": "code",
   "execution_count": 3,
   "metadata": {},
   "outputs": [
    {
     "data": {
      "text/html": [
       "<div>\n",
       "<style scoped>\n",
       "    .dataframe tbody tr th:only-of-type {\n",
       "        vertical-align: middle;\n",
       "    }\n",
       "\n",
       "    .dataframe tbody tr th {\n",
       "        vertical-align: top;\n",
       "    }\n",
       "\n",
       "    .dataframe thead th {\n",
       "        text-align: right;\n",
       "    }\n",
       "</style>\n",
       "<table border=\"1\" class=\"dataframe\">\n",
       "  <thead>\n",
       "    <tr style=\"text-align: right;\">\n",
       "      <th></th>\n",
       "      <th>index</th>\n",
       "      <th>parent_GT</th>\n",
       "      <th>bud_id</th>\n",
       "      <th>time_index</th>\n",
       "      <th>colony</th>\n",
       "      <th>features</th>\n",
       "      <th>candidates</th>\n",
       "      <th>parent_index_in_candidates</th>\n",
       "    </tr>\n",
       "  </thead>\n",
       "  <tbody>\n",
       "    <tr>\n",
       "      <th>4</th>\n",
       "      <td>4</td>\n",
       "      <td>1</td>\n",
       "      <td>5</td>\n",
       "      <td>18</td>\n",
       "      <td>0</td>\n",
       "      <td>[[2.23606797749979, 2.8284271247461903, 2.0, 0...</td>\n",
       "      <td>[1, 3, 2, 4]</td>\n",
       "      <td>0</td>\n",
       "    </tr>\n",
       "    <tr>\n",
       "      <th>5</th>\n",
       "      <td>5</td>\n",
       "      <td>3</td>\n",
       "      <td>6</td>\n",
       "      <td>18</td>\n",
       "      <td>0</td>\n",
       "      <td>[[1.0, 3.0, 1.0, 0.7071067811865476, 3.1110787...</td>\n",
       "      <td>[3, 4, 2, 1]</td>\n",
       "      <td>0</td>\n",
       "    </tr>\n",
       "    <tr>\n",
       "      <th>6</th>\n",
       "      <td>6</td>\n",
       "      <td>2</td>\n",
       "      <td>7</td>\n",
       "      <td>20</td>\n",
       "      <td>0</td>\n",
       "      <td>[[1.0, 3.0, 1.0, 0.7512255508302275, 0.9423480...</td>\n",
       "      <td>[2, 3, 4, 6]</td>\n",
       "      <td>0</td>\n",
       "    </tr>\n",
       "    <tr>\n",
       "      <th>7</th>\n",
       "      <td>7</td>\n",
       "      <td>4</td>\n",
       "      <td>8</td>\n",
       "      <td>22</td>\n",
       "      <td>0</td>\n",
       "      <td>[[1.0, 2.0, 1.0, 0.5, 2.107542585550348, 2.122...</td>\n",
       "      <td>[4, 7, 6, 2]</td>\n",
       "      <td>0</td>\n",
       "    </tr>\n",
       "    <tr>\n",
       "      <th>8</th>\n",
       "      <td>8</td>\n",
       "      <td>1</td>\n",
       "      <td>9</td>\n",
       "      <td>32</td>\n",
       "      <td>0</td>\n",
       "      <td>[[2.0, 2.0, 1.0, 0.4330127018922193, 1.7589301...</td>\n",
       "      <td>[1, 5, 3, 2]</td>\n",
       "      <td>0</td>\n",
       "    </tr>\n",
       "    <tr>\n",
       "      <th>...</th>\n",
       "      <td>...</td>\n",
       "      <td>...</td>\n",
       "      <td>...</td>\n",
       "      <td>...</td>\n",
       "      <td>...</td>\n",
       "      <td>...</td>\n",
       "      <td>...</td>\n",
       "      <td>...</td>\n",
       "    </tr>\n",
       "    <tr>\n",
       "      <th>867</th>\n",
       "      <td>499</td>\n",
       "      <td>22</td>\n",
       "      <td>34</td>\n",
       "      <td>164</td>\n",
       "      <td>5</td>\n",
       "      <td>[[2.0, 3.0, 2.0, 0.4330127018922193, 1.1800917...</td>\n",
       "      <td>[22, 25, 8, 11]</td>\n",
       "      <td>0</td>\n",
       "    </tr>\n",
       "    <tr>\n",
       "      <th>868</th>\n",
       "      <td>500</td>\n",
       "      <td>13</td>\n",
       "      <td>35</td>\n",
       "      <td>166</td>\n",
       "      <td>5</td>\n",
       "      <td>[[2.0, 3.0, 2.0, 0.4611141570664294, 0.8067932...</td>\n",
       "      <td>[13, 16, 10, 4]</td>\n",
       "      <td>0</td>\n",
       "    </tr>\n",
       "    <tr>\n",
       "      <th>869</th>\n",
       "      <td>501</td>\n",
       "      <td>18</td>\n",
       "      <td>36</td>\n",
       "      <td>169</td>\n",
       "      <td>5</td>\n",
       "      <td>[[2.23606797749979, 4.123105625617661, 2.23606...</td>\n",
       "      <td>[18, 9, 2, 32]</td>\n",
       "      <td>0</td>\n",
       "    </tr>\n",
       "    <tr>\n",
       "      <th>870</th>\n",
       "      <td>502</td>\n",
       "      <td>3</td>\n",
       "      <td>37</td>\n",
       "      <td>175</td>\n",
       "      <td>5</td>\n",
       "      <td>[[2.0, 2.23606797749979, 2.0, 0.10222043276741...</td>\n",
       "      <td>[18, 26, 3, 27]</td>\n",
       "      <td>2</td>\n",
       "    </tr>\n",
       "    <tr>\n",
       "      <th>871</th>\n",
       "      <td>503</td>\n",
       "      <td>23</td>\n",
       "      <td>38</td>\n",
       "      <td>178</td>\n",
       "      <td>5</td>\n",
       "      <td>[[1.4142135623730951, 2.8284271247461903, 0.0,...</td>\n",
       "      <td>[14, 23, 9, 32]</td>\n",
       "      <td>1</td>\n",
       "    </tr>\n",
       "  </tbody>\n",
       "</table>\n",
       "<p>826 rows × 8 columns</p>\n",
       "</div>"
      ],
      "text/plain": [
       "     index  parent_GT  bud_id  time_index  colony   \n",
       "4        4          1       5          18       0  \\\n",
       "5        5          3       6          18       0   \n",
       "6        6          2       7          20       0   \n",
       "7        7          4       8          22       0   \n",
       "8        8          1       9          32       0   \n",
       "..     ...        ...     ...         ...     ...   \n",
       "867    499         22      34         164       5   \n",
       "868    500         13      35         166       5   \n",
       "869    501         18      36         169       5   \n",
       "870    502          3      37         175       5   \n",
       "871    503         23      38         178       5   \n",
       "\n",
       "                                              features       candidates   \n",
       "4    [[2.23606797749979, 2.8284271247461903, 2.0, 0...     [1, 3, 2, 4]  \\\n",
       "5    [[1.0, 3.0, 1.0, 0.7071067811865476, 3.1110787...     [3, 4, 2, 1]   \n",
       "6    [[1.0, 3.0, 1.0, 0.7512255508302275, 0.9423480...     [2, 3, 4, 6]   \n",
       "7    [[1.0, 2.0, 1.0, 0.5, 2.107542585550348, 2.122...     [4, 7, 6, 2]   \n",
       "8    [[2.0, 2.0, 1.0, 0.4330127018922193, 1.7589301...     [1, 5, 3, 2]   \n",
       "..                                                 ...              ...   \n",
       "867  [[2.0, 3.0, 2.0, 0.4330127018922193, 1.1800917...  [22, 25, 8, 11]   \n",
       "868  [[2.0, 3.0, 2.0, 0.4611141570664294, 0.8067932...  [13, 16, 10, 4]   \n",
       "869  [[2.23606797749979, 4.123105625617661, 2.23606...   [18, 9, 2, 32]   \n",
       "870  [[2.0, 2.23606797749979, 2.0, 0.10222043276741...  [18, 26, 3, 27]   \n",
       "871  [[1.4142135623730951, 2.8284271247461903, 0.0,...  [14, 23, 9, 32]   \n",
       "\n",
       "     parent_index_in_candidates  \n",
       "4                             0  \n",
       "5                             0  \n",
       "6                             0  \n",
       "7                             0  \n",
       "8                             0  \n",
       "..                          ...  \n",
       "867                           0  \n",
       "868                           0  \n",
       "869                           0  \n",
       "870                           2  \n",
       "871                           1  \n",
       "\n",
       "[826 rows x 8 columns]"
      ]
     },
     "execution_count": 3,
     "metadata": {},
     "output_type": "execute_result"
    }
   ],
   "source": [
    "import pandas as pd\n",
    "feature_list = ['']\n",
    "threshold_mode = 'count'\n",
    "num_nn = 4\n",
    "# colony 0\n",
    "\n",
    "_19_f_list = ['dist_0','dist_max','dist_min','dist_std','poly_fit_budcm_candidcm','poly_fit_budcm_budpt','poly_fit_expansion_vector','position_bud_std','position_bud_max','position_bud_min','position_bud_last','position_bud_first','orientation_bud_std','orientation_bud_max','orientation_bud_min','orientation_bud_last','orientation_bud_first','orientation_bud_last_minus_first','plyfit_orientation_bud']\n",
    "colonies_gt = pd.DataFrame()\n",
    "for i in [1, 2, 3, 4, 5]:\n",
    "    temp_colony = pd.read_csv(os.path.join(\n",
    "        path_to_colonies, 'colony00{}_lineage.csv'.format(i)))\n",
    "    temp_colony['colony'] = i\n",
    "    colonies_gt = pd.concat([colonies_gt, temp_colony])\n",
    "colonies_gt = colonies_gt.reset_index(drop=True)\n",
    "colonies_gt.rename(columns={'# parent_id': 'parent_GT'}, inplace=True)\n",
    "colony0_lineage_GT_path = '/home/farzaneh/Documents/Bread/bread/src/bread/tests/data/V2022_09_19_HTB2_mCh_MYO1-GFP_50_ms/FOV0_lineage_T0_to_T146.csv'\n",
    "colony0_lineage_gt = pd.read_csv(colony0_lineage_GT_path).rename(\n",
    "    columns={'parent_id': 'parent_GT'})\n",
    "colony0_lineage_gt['colony'] = [0 for i in range(len(colony0_lineage_gt))]\n",
    "\n",
    "\n",
    "all_candidate_features = pd.read_csv(os.path.join(path_to_data, 'all_candidate_features_19_{}_{}_nn_{}_thresh.csv'.format(threshold_mode, num_nn, 10)))\n",
    "all_gt = pd.concat([colony0_lineage_gt,colonies_gt]).reset_index()\n",
    "# all_candidate_features.to_csv(os.path.join(path_to_data, 'all_candidate_features_19_{}_{}_nn_{}_thresh.csv'.format(threshold_mode, num_nn, 10)), index=False)\n",
    "all_matrix_features = get_custom_matrix_features(all_candidate_features, all_gt, _19_f_list)\n",
    "all_matrix_features"
   ]
  },
  {
   "attachments": {},
   "cell_type": "markdown",
   "metadata": {},
   "source": [
    "## Apply min-max normalization on all data\n"
   ]
  },
  {
   "cell_type": "code",
   "execution_count": 6,
   "metadata": {},
   "outputs": [
    {
     "data": {
      "text/html": [
       "<div>\n",
       "<style scoped>\n",
       "    .dataframe tbody tr th:only-of-type {\n",
       "        vertical-align: middle;\n",
       "    }\n",
       "\n",
       "    .dataframe tbody tr th {\n",
       "        vertical-align: top;\n",
       "    }\n",
       "\n",
       "    .dataframe thead th {\n",
       "        text-align: right;\n",
       "    }\n",
       "</style>\n",
       "<table border=\"1\" class=\"dataframe\">\n",
       "  <thead>\n",
       "    <tr style=\"text-align: right;\">\n",
       "      <th></th>\n",
       "      <th>index</th>\n",
       "      <th>parent_GT</th>\n",
       "      <th>bud_id</th>\n",
       "      <th>time_index</th>\n",
       "      <th>colony</th>\n",
       "      <th>features</th>\n",
       "      <th>candidates</th>\n",
       "      <th>parent_index_in_candidates</th>\n",
       "    </tr>\n",
       "  </thead>\n",
       "  <tbody>\n",
       "    <tr>\n",
       "      <th>4</th>\n",
       "      <td>4</td>\n",
       "      <td>1</td>\n",
       "      <td>5</td>\n",
       "      <td>18</td>\n",
       "      <td>0</td>\n",
       "      <td>[[0.0056879177484625105, 0.007189664377899039,...</td>\n",
       "      <td>[1, 3, 2, 4]</td>\n",
       "      <td>0</td>\n",
       "    </tr>\n",
       "    <tr>\n",
       "      <th>5</th>\n",
       "      <td>5</td>\n",
       "      <td>3</td>\n",
       "      <td>6</td>\n",
       "      <td>18</td>\n",
       "      <td>0</td>\n",
       "      <td>[[0.0025437141471979447, 0.007625790654101655,...</td>\n",
       "      <td>[3, 4, 2, 1]</td>\n",
       "      <td>0</td>\n",
       "    </tr>\n",
       "    <tr>\n",
       "      <th>6</th>\n",
       "      <td>6</td>\n",
       "      <td>2</td>\n",
       "      <td>7</td>\n",
       "      <td>20</td>\n",
       "      <td>0</td>\n",
       "      <td>[[0.0025437141471979447, 0.007625790654101655,...</td>\n",
       "      <td>[2, 3, 4, 6]</td>\n",
       "      <td>0</td>\n",
       "    </tr>\n",
       "    <tr>\n",
       "      <th>7</th>\n",
       "      <td>7</td>\n",
       "      <td>4</td>\n",
       "      <td>8</td>\n",
       "      <td>22</td>\n",
       "      <td>0</td>\n",
       "      <td>[[0.0025437141471979447, 0.00508386043606777, ...</td>\n",
       "      <td>[4, 7, 6, 2]</td>\n",
       "      <td>0</td>\n",
       "    </tr>\n",
       "    <tr>\n",
       "      <th>8</th>\n",
       "      <td>8</td>\n",
       "      <td>1</td>\n",
       "      <td>9</td>\n",
       "      <td>32</td>\n",
       "      <td>0</td>\n",
       "      <td>[[0.005087428294395889, 0.00508386043606777, 0...</td>\n",
       "      <td>[1, 5, 3, 2]</td>\n",
       "      <td>0</td>\n",
       "    </tr>\n",
       "    <tr>\n",
       "      <th>...</th>\n",
       "      <td>...</td>\n",
       "      <td>...</td>\n",
       "      <td>...</td>\n",
       "      <td>...</td>\n",
       "      <td>...</td>\n",
       "      <td>...</td>\n",
       "      <td>...</td>\n",
       "      <td>...</td>\n",
       "    </tr>\n",
       "    <tr>\n",
       "      <th>867</th>\n",
       "      <td>499</td>\n",
       "      <td>22</td>\n",
       "      <td>34</td>\n",
       "      <td>164</td>\n",
       "      <td>5</td>\n",
       "      <td>[[0.005087428294395889, 0.007625790654101655, ...</td>\n",
       "      <td>[22, 25, 8, 11]</td>\n",
       "      <td>0</td>\n",
       "    </tr>\n",
       "    <tr>\n",
       "      <th>868</th>\n",
       "      <td>500</td>\n",
       "      <td>13</td>\n",
       "      <td>35</td>\n",
       "      <td>166</td>\n",
       "      <td>5</td>\n",
       "      <td>[[0.005087428294395889, 0.007625790654101655, ...</td>\n",
       "      <td>[13, 16, 10, 4]</td>\n",
       "      <td>0</td>\n",
       "    </tr>\n",
       "    <tr>\n",
       "      <th>869</th>\n",
       "      <td>501</td>\n",
       "      <td>18</td>\n",
       "      <td>36</td>\n",
       "      <td>169</td>\n",
       "      <td>5</td>\n",
       "      <td>[[0.0056879177484625105, 0.010480646781903039,...</td>\n",
       "      <td>[18, 9, 2, 32]</td>\n",
       "      <td>0</td>\n",
       "    </tr>\n",
       "    <tr>\n",
       "      <th>870</th>\n",
       "      <td>502</td>\n",
       "      <td>3</td>\n",
       "      <td>37</td>\n",
       "      <td>175</td>\n",
       "      <td>5</td>\n",
       "      <td>[[0.005087428294395889, 0.005683928761584629, ...</td>\n",
       "      <td>[18, 26, 3, 27]</td>\n",
       "      <td>2</td>\n",
       "    </tr>\n",
       "    <tr>\n",
       "      <th>871</th>\n",
       "      <td>503</td>\n",
       "      <td>23</td>\n",
       "      <td>38</td>\n",
       "      <td>178</td>\n",
       "      <td>5</td>\n",
       "      <td>[[0.003597355045767645, 0.007189664377899039, ...</td>\n",
       "      <td>[14, 23, 9, 32]</td>\n",
       "      <td>1</td>\n",
       "    </tr>\n",
       "  </tbody>\n",
       "</table>\n",
       "<p>826 rows × 8 columns</p>\n",
       "</div>"
      ],
      "text/plain": [
       "     index  parent_GT  bud_id  time_index  colony   \n",
       "4        4          1       5          18       0  \\\n",
       "5        5          3       6          18       0   \n",
       "6        6          2       7          20       0   \n",
       "7        7          4       8          22       0   \n",
       "8        8          1       9          32       0   \n",
       "..     ...        ...     ...         ...     ...   \n",
       "867    499         22      34         164       5   \n",
       "868    500         13      35         166       5   \n",
       "869    501         18      36         169       5   \n",
       "870    502          3      37         175       5   \n",
       "871    503         23      38         178       5   \n",
       "\n",
       "                                              features       candidates   \n",
       "4    [[0.0056879177484625105, 0.007189664377899039,...     [1, 3, 2, 4]  \\\n",
       "5    [[0.0025437141471979447, 0.007625790654101655,...     [3, 4, 2, 1]   \n",
       "6    [[0.0025437141471979447, 0.007625790654101655,...     [2, 3, 4, 6]   \n",
       "7    [[0.0025437141471979447, 0.00508386043606777, ...     [4, 7, 6, 2]   \n",
       "8    [[0.005087428294395889, 0.00508386043606777, 0...     [1, 5, 3, 2]   \n",
       "..                                                 ...              ...   \n",
       "867  [[0.005087428294395889, 0.007625790654101655, ...  [22, 25, 8, 11]   \n",
       "868  [[0.005087428294395889, 0.007625790654101655, ...  [13, 16, 10, 4]   \n",
       "869  [[0.0056879177484625105, 0.010480646781903039,...   [18, 9, 2, 32]   \n",
       "870  [[0.005087428294395889, 0.005683928761584629, ...  [18, 26, 3, 27]   \n",
       "871  [[0.003597355045767645, 0.007189664377899039, ...  [14, 23, 9, 32]   \n",
       "\n",
       "     parent_index_in_candidates  \n",
       "4                             0  \n",
       "5                             0  \n",
       "6                             0  \n",
       "7                             0  \n",
       "8                             0  \n",
       "..                          ...  \n",
       "867                           0  \n",
       "868                           0  \n",
       "869                           0  \n",
       "870                           2  \n",
       "871                           1  \n",
       "\n",
       "[826 rows x 8 columns]"
      ]
     },
     "execution_count": 6,
     "metadata": {},
     "output_type": "execute_result"
    }
   ],
   "source": [
    "# Import necessary libraries\n",
    "import pandas as pd\n",
    "from sklearn.preprocessing import MinMaxScaler\n",
    "\n",
    "_19_f_list = ['dist_0','dist_max','dist_min','dist_std','poly_fit_budcm_candidcm','poly_fit_budcm_budpt','poly_fit_expansion_vector','position_bud_std','position_bud_max','position_bud_min','position_bud_last','position_bud_first','orientation_bud_std','orientation_bud_max','orientation_bud_min','orientation_bud_last','orientation_bud_first','orientation_bud_last_minus_first','plyfit_orientation_bud']\n",
    "\n",
    "# Extract the subset of features to be normalized as a separate DataFrame\n",
    "X = all_candidate_features[_19_f_list]\n",
    "\n",
    "# Apply min-max normalization to the subset of features\n",
    "scaler = MinMaxScaler()\n",
    "X_norm = scaler.fit_transform(X)\n",
    "\n",
    "# Replace the original features with the normalized features in the dataframe\n",
    "all_candidate_features_normalized = all_candidate_features.copy()\n",
    "all_candidate_features_normalized[_19_f_list] = X_norm\n",
    "\n",
    "all_matrix_features_normalized = get_custom_matrix_features(all_candidate_features_normalized, all_gt, _19_f_list)\n",
    "all_matrix_features_normalized"
   ]
  },
  {
   "cell_type": "code",
   "execution_count": 7,
   "metadata": {},
   "outputs": [
    {
     "data": {
      "text/html": [
       "<div>\n",
       "<style scoped>\n",
       "    .dataframe tbody tr th:only-of-type {\n",
       "        vertical-align: middle;\n",
       "    }\n",
       "\n",
       "    .dataframe tbody tr th {\n",
       "        vertical-align: top;\n",
       "    }\n",
       "\n",
       "    .dataframe thead th {\n",
       "        text-align: right;\n",
       "    }\n",
       "</style>\n",
       "<table border=\"1\" class=\"dataframe\">\n",
       "  <thead>\n",
       "    <tr style=\"text-align: right;\">\n",
       "      <th></th>\n",
       "      <th>index</th>\n",
       "      <th>bud_id</th>\n",
       "      <th>candid_id</th>\n",
       "      <th>time_id</th>\n",
       "      <th>dist_0</th>\n",
       "      <th>dist_max</th>\n",
       "      <th>dist_min</th>\n",
       "      <th>dist_std</th>\n",
       "      <th>poly_fit_budcm_candidcm</th>\n",
       "      <th>poly_fit_budcm_budpt</th>\n",
       "      <th>...</th>\n",
       "      <th>position_bud_last</th>\n",
       "      <th>position_bud_first</th>\n",
       "      <th>orientation_bud_std</th>\n",
       "      <th>orientation_bud_max</th>\n",
       "      <th>orientation_bud_min</th>\n",
       "      <th>orientation_bud_last</th>\n",
       "      <th>orientation_bud_first</th>\n",
       "      <th>orientation_bud_last_minus_first</th>\n",
       "      <th>plyfit_orientation_bud</th>\n",
       "      <th>colony</th>\n",
       "    </tr>\n",
       "  </thead>\n",
       "  <tbody>\n",
       "    <tr>\n",
       "      <th>0</th>\n",
       "      <td>0</td>\n",
       "      <td>1</td>\n",
       "      <td>1</td>\n",
       "      <td>0</td>\n",
       "      <td>0.000000</td>\n",
       "      <td>0.000000</td>\n",
       "      <td>0.000000</td>\n",
       "      <td>0.000000</td>\n",
       "      <td>0.073362</td>\n",
       "      <td>0.071509</td>\n",
       "      <td>...</td>\n",
       "      <td>0.119632</td>\n",
       "      <td>0.573714</td>\n",
       "      <td>0.703661</td>\n",
       "      <td>0.913176</td>\n",
       "      <td>0.122687</td>\n",
       "      <td>0.119740</td>\n",
       "      <td>0.573706</td>\n",
       "      <td>0.267876</td>\n",
       "      <td>0.192929</td>\n",
       "      <td>0</td>\n",
       "    </tr>\n",
       "    <tr>\n",
       "      <th>1</th>\n",
       "      <td>0</td>\n",
       "      <td>1</td>\n",
       "      <td>3</td>\n",
       "      <td>0</td>\n",
       "      <td>0.003597</td>\n",
       "      <td>0.007190</td>\n",
       "      <td>0.003615</td>\n",
       "      <td>0.003659</td>\n",
       "      <td>0.083730</td>\n",
       "      <td>0.080355</td>\n",
       "      <td>...</td>\n",
       "      <td>0.390902</td>\n",
       "      <td>0.335416</td>\n",
       "      <td>0.466070</td>\n",
       "      <td>0.530134</td>\n",
       "      <td>0.011596</td>\n",
       "      <td>0.011273</td>\n",
       "      <td>0.042056</td>\n",
       "      <td>0.483463</td>\n",
       "      <td>0.344369</td>\n",
       "      <td>0</td>\n",
       "    </tr>\n",
       "    <tr>\n",
       "      <th>2</th>\n",
       "      <td>0</td>\n",
       "      <td>1</td>\n",
       "      <td>2</td>\n",
       "      <td>0</td>\n",
       "      <td>0.106866</td>\n",
       "      <td>0.106791</td>\n",
       "      <td>0.099809</td>\n",
       "      <td>0.006598</td>\n",
       "      <td>0.081782</td>\n",
       "      <td>0.082196</td>\n",
       "      <td>...</td>\n",
       "      <td>0.620064</td>\n",
       "      <td>0.823480</td>\n",
       "      <td>0.236400</td>\n",
       "      <td>0.432822</td>\n",
       "      <td>0.144278</td>\n",
       "      <td>0.373099</td>\n",
       "      <td>0.441327</td>\n",
       "      <td>0.464459</td>\n",
       "      <td>0.403358</td>\n",
       "      <td>0</td>\n",
       "    </tr>\n",
       "    <tr>\n",
       "      <th>3</th>\n",
       "      <td>0</td>\n",
       "      <td>1</td>\n",
       "      <td>4</td>\n",
       "      <td>0</td>\n",
       "      <td>0.138790</td>\n",
       "      <td>0.138902</td>\n",
       "      <td>0.137636</td>\n",
       "      <td>0.001930</td>\n",
       "      <td>0.092440</td>\n",
       "      <td>0.095096</td>\n",
       "      <td>...</td>\n",
       "      <td>0.743815</td>\n",
       "      <td>0.559642</td>\n",
       "      <td>0.245244</td>\n",
       "      <td>0.381482</td>\n",
       "      <td>0.101471</td>\n",
       "      <td>0.111525</td>\n",
       "      <td>0.198176</td>\n",
       "      <td>0.455019</td>\n",
       "      <td>0.348444</td>\n",
       "      <td>0</td>\n",
       "    </tr>\n",
       "    <tr>\n",
       "      <th>4</th>\n",
       "      <td>0</td>\n",
       "      <td>2</td>\n",
       "      <td>2</td>\n",
       "      <td>0</td>\n",
       "      <td>0.000000</td>\n",
       "      <td>0.000000</td>\n",
       "      <td>0.000000</td>\n",
       "      <td>0.000000</td>\n",
       "      <td>0.073362</td>\n",
       "      <td>0.071161</td>\n",
       "      <td>...</td>\n",
       "      <td>0.788922</td>\n",
       "      <td>0.281963</td>\n",
       "      <td>0.456605</td>\n",
       "      <td>0.785605</td>\n",
       "      <td>0.288792</td>\n",
       "      <td>0.788822</td>\n",
       "      <td>0.281852</td>\n",
       "      <td>0.757603</td>\n",
       "      <td>0.519523</td>\n",
       "      <td>0</td>\n",
       "    </tr>\n",
       "    <tr>\n",
       "      <th>...</th>\n",
       "      <td>...</td>\n",
       "      <td>...</td>\n",
       "      <td>...</td>\n",
       "      <td>...</td>\n",
       "      <td>...</td>\n",
       "      <td>...</td>\n",
       "      <td>...</td>\n",
       "      <td>...</td>\n",
       "      <td>...</td>\n",
       "      <td>...</td>\n",
       "      <td>...</td>\n",
       "      <td>...</td>\n",
       "      <td>...</td>\n",
       "      <td>...</td>\n",
       "      <td>...</td>\n",
       "      <td>...</td>\n",
       "      <td>...</td>\n",
       "      <td>...</td>\n",
       "      <td>...</td>\n",
       "      <td>...</td>\n",
       "      <td>...</td>\n",
       "    </tr>\n",
       "    <tr>\n",
       "      <th>3321</th>\n",
       "      <td>1899</td>\n",
       "      <td>37</td>\n",
       "      <td>27</td>\n",
       "      <td>175</td>\n",
       "      <td>0.043243</td>\n",
       "      <td>0.057965</td>\n",
       "      <td>0.043449</td>\n",
       "      <td>0.012929</td>\n",
       "      <td>0.104544</td>\n",
       "      <td>0.103660</td>\n",
       "      <td>...</td>\n",
       "      <td>0.018067</td>\n",
       "      <td>0.454703</td>\n",
       "      <td>0.067581</td>\n",
       "      <td>0.428907</td>\n",
       "      <td>0.356060</td>\n",
       "      <td>0.367833</td>\n",
       "      <td>0.392445</td>\n",
       "      <td>0.486680</td>\n",
       "      <td>0.386434</td>\n",
       "      <td>5</td>\n",
       "    </tr>\n",
       "    <tr>\n",
       "      <th>3322</th>\n",
       "      <td>1900</td>\n",
       "      <td>38</td>\n",
       "      <td>14</td>\n",
       "      <td>178</td>\n",
       "      <td>0.003597</td>\n",
       "      <td>0.007190</td>\n",
       "      <td>0.000000</td>\n",
       "      <td>0.006506</td>\n",
       "      <td>0.086753</td>\n",
       "      <td>0.084061</td>\n",
       "      <td>...</td>\n",
       "      <td>0.758748</td>\n",
       "      <td>0.749670</td>\n",
       "      <td>0.813786</td>\n",
       "      <td>0.933794</td>\n",
       "      <td>0.000000</td>\n",
       "      <td>0.852345</td>\n",
       "      <td>0.934979</td>\n",
       "      <td>0.457216</td>\n",
       "      <td>0.362123</td>\n",
       "      <td>5</td>\n",
       "    </tr>\n",
       "    <tr>\n",
       "      <th>3323</th>\n",
       "      <td>1901</td>\n",
       "      <td>38</td>\n",
       "      <td>23</td>\n",
       "      <td>178</td>\n",
       "      <td>0.007195</td>\n",
       "      <td>0.007626</td>\n",
       "      <td>0.000000</td>\n",
       "      <td>0.007303</td>\n",
       "      <td>0.086081</td>\n",
       "      <td>0.084252</td>\n",
       "      <td>...</td>\n",
       "      <td>0.594385</td>\n",
       "      <td>0.632859</td>\n",
       "      <td>0.294459</td>\n",
       "      <td>0.357327</td>\n",
       "      <td>0.000000</td>\n",
       "      <td>0.286631</td>\n",
       "      <td>0.366935</td>\n",
       "      <td>0.458288</td>\n",
       "      <td>0.363152</td>\n",
       "      <td>5</td>\n",
       "    </tr>\n",
       "    <tr>\n",
       "      <th>3324</th>\n",
       "      <td>1902</td>\n",
       "      <td>38</td>\n",
       "      <td>9</td>\n",
       "      <td>178</td>\n",
       "      <td>0.007631</td>\n",
       "      <td>0.007626</td>\n",
       "      <td>0.000000</td>\n",
       "      <td>0.006679</td>\n",
       "      <td>0.078768</td>\n",
       "      <td>0.076036</td>\n",
       "      <td>...</td>\n",
       "      <td>0.516339</td>\n",
       "      <td>0.592513</td>\n",
       "      <td>0.604685</td>\n",
       "      <td>0.725806</td>\n",
       "      <td>0.000000</td>\n",
       "      <td>0.729920</td>\n",
       "      <td>0.540636</td>\n",
       "      <td>0.595732</td>\n",
       "      <td>0.495094</td>\n",
       "      <td>5</td>\n",
       "    </tr>\n",
       "    <tr>\n",
       "      <th>3325</th>\n",
       "      <td>1903</td>\n",
       "      <td>38</td>\n",
       "      <td>32</td>\n",
       "      <td>178</td>\n",
       "      <td>0.086636</td>\n",
       "      <td>0.086575</td>\n",
       "      <td>0.000000</td>\n",
       "      <td>0.080714</td>\n",
       "      <td>0.062913</td>\n",
       "      <td>0.059990</td>\n",
       "      <td>...</td>\n",
       "      <td>0.001411</td>\n",
       "      <td>0.025822</td>\n",
       "      <td>0.129044</td>\n",
       "      <td>0.145434</td>\n",
       "      <td>0.000000</td>\n",
       "      <td>0.158256</td>\n",
       "      <td>0.017575</td>\n",
       "      <td>0.570853</td>\n",
       "      <td>0.471210</td>\n",
       "      <td>5</td>\n",
       "    </tr>\n",
       "  </tbody>\n",
       "</table>\n",
       "<p>3326 rows × 24 columns</p>\n",
       "</div>"
      ],
      "text/plain": [
       "      index  bud_id  candid_id  time_id    dist_0  dist_max  dist_min   \n",
       "0         0       1          1        0  0.000000  0.000000  0.000000  \\\n",
       "1         0       1          3        0  0.003597  0.007190  0.003615   \n",
       "2         0       1          2        0  0.106866  0.106791  0.099809   \n",
       "3         0       1          4        0  0.138790  0.138902  0.137636   \n",
       "4         0       2          2        0  0.000000  0.000000  0.000000   \n",
       "...     ...     ...        ...      ...       ...       ...       ...   \n",
       "3321   1899      37         27      175  0.043243  0.057965  0.043449   \n",
       "3322   1900      38         14      178  0.003597  0.007190  0.000000   \n",
       "3323   1901      38         23      178  0.007195  0.007626  0.000000   \n",
       "3324   1902      38          9      178  0.007631  0.007626  0.000000   \n",
       "3325   1903      38         32      178  0.086636  0.086575  0.000000   \n",
       "\n",
       "      dist_std  poly_fit_budcm_candidcm  poly_fit_budcm_budpt  ...   \n",
       "0     0.000000                 0.073362              0.071509  ...  \\\n",
       "1     0.003659                 0.083730              0.080355  ...   \n",
       "2     0.006598                 0.081782              0.082196  ...   \n",
       "3     0.001930                 0.092440              0.095096  ...   \n",
       "4     0.000000                 0.073362              0.071161  ...   \n",
       "...        ...                      ...                   ...  ...   \n",
       "3321  0.012929                 0.104544              0.103660  ...   \n",
       "3322  0.006506                 0.086753              0.084061  ...   \n",
       "3323  0.007303                 0.086081              0.084252  ...   \n",
       "3324  0.006679                 0.078768              0.076036  ...   \n",
       "3325  0.080714                 0.062913              0.059990  ...   \n",
       "\n",
       "      position_bud_last  position_bud_first  orientation_bud_std   \n",
       "0              0.119632            0.573714             0.703661  \\\n",
       "1              0.390902            0.335416             0.466070   \n",
       "2              0.620064            0.823480             0.236400   \n",
       "3              0.743815            0.559642             0.245244   \n",
       "4              0.788922            0.281963             0.456605   \n",
       "...                 ...                 ...                  ...   \n",
       "3321           0.018067            0.454703             0.067581   \n",
       "3322           0.758748            0.749670             0.813786   \n",
       "3323           0.594385            0.632859             0.294459   \n",
       "3324           0.516339            0.592513             0.604685   \n",
       "3325           0.001411            0.025822             0.129044   \n",
       "\n",
       "      orientation_bud_max  orientation_bud_min  orientation_bud_last   \n",
       "0                0.913176             0.122687              0.119740  \\\n",
       "1                0.530134             0.011596              0.011273   \n",
       "2                0.432822             0.144278              0.373099   \n",
       "3                0.381482             0.101471              0.111525   \n",
       "4                0.785605             0.288792              0.788822   \n",
       "...                   ...                  ...                   ...   \n",
       "3321             0.428907             0.356060              0.367833   \n",
       "3322             0.933794             0.000000              0.852345   \n",
       "3323             0.357327             0.000000              0.286631   \n",
       "3324             0.725806             0.000000              0.729920   \n",
       "3325             0.145434             0.000000              0.158256   \n",
       "\n",
       "      orientation_bud_first  orientation_bud_last_minus_first   \n",
       "0                  0.573706                          0.267876  \\\n",
       "1                  0.042056                          0.483463   \n",
       "2                  0.441327                          0.464459   \n",
       "3                  0.198176                          0.455019   \n",
       "4                  0.281852                          0.757603   \n",
       "...                     ...                               ...   \n",
       "3321               0.392445                          0.486680   \n",
       "3322               0.934979                          0.457216   \n",
       "3323               0.366935                          0.458288   \n",
       "3324               0.540636                          0.595732   \n",
       "3325               0.017575                          0.570853   \n",
       "\n",
       "      plyfit_orientation_bud  colony  \n",
       "0                   0.192929       0  \n",
       "1                   0.344369       0  \n",
       "2                   0.403358       0  \n",
       "3                   0.348444       0  \n",
       "4                   0.519523       0  \n",
       "...                      ...     ...  \n",
       "3321                0.386434       5  \n",
       "3322                0.362123       5  \n",
       "3323                0.363152       5  \n",
       "3324                0.495094       5  \n",
       "3325                0.471210       5  \n",
       "\n",
       "[3326 rows x 24 columns]"
      ]
     },
     "execution_count": 7,
     "metadata": {},
     "output_type": "execute_result"
    }
   ],
   "source": [
    "all_candidate_features_normalized"
   ]
  },
  {
   "attachments": {},
   "cell_type": "markdown",
   "metadata": {},
   "source": [
    "## Train NN on normalized features\n"
   ]
  },
  {
   "cell_type": "code",
   "execution_count": 12,
   "metadata": {},
   "outputs": [],
   "source": [
    "from nn_model import BudDataset, LineageNN, train_nn, test_nn, cv_nn\n"
   ]
  },
  {
   "cell_type": "code",
   "execution_count": 13,
   "metadata": {},
   "outputs": [
    {
     "name": "stdout",
     "output_type": "stream",
     "text": [
      "config:  {'epoch_n': 200, 'patience': 10, 'lr': 0.01, 'batch_size': 256, 'layers': [76, 64, 5], 'augment': True, 'features': ['dist_0', 'dist_max', 'dist_min', 'dist_std', 'poly_fit_budcm_candidcm', 'poly_fit_budcm_budpt', 'poly_fit_expansion_vector', 'position_bud_std', 'position_bud_max', 'position_bud_min', 'position_bud_last', 'position_bud_first', 'orientation_bud_std', 'orientation_bud_max', 'orientation_bud_min', 'orientation_bud_last', 'orientation_bud_first', 'orientation_bud_last_minus_first', 'plyfit_orientation_bud'], 'train_set': 'all', 'Group': 'normalized', 'cv_number': 1}\n",
      "yes. I am reloaded\n"
     ]
    },
    {
     "name": "stderr",
     "output_type": "stream",
     "text": [
      "Failed to detect the name of this notebook, you can set it manually with the WANDB_NOTEBOOK_NAME environment variable to enable code saving.\n",
      "\u001b[34m\u001b[1mwandb\u001b[0m: Currently logged in as: \u001b[33mf-labbaf97\u001b[0m. Use \u001b[1m`wandb login --relogin`\u001b[0m to force relogin\n"
     ]
    },
    {
     "data": {
      "text/html": [
       "Tracking run with wandb version 0.15.3"
      ],
      "text/plain": [
       "<IPython.core.display.HTML object>"
      ]
     },
     "metadata": {},
     "output_type": "display_data"
    },
    {
     "data": {
      "text/html": [
       "Run data is saved locally in <code>/home/farzaneh/Documents/Bread/bread/src/bread/tests/wandb/run-20230525_173500-6ujkjuqd</code>"
      ],
      "text/plain": [
       "<IPython.core.display.HTML object>"
      ]
     },
     "metadata": {},
     "output_type": "display_data"
    },
    {
     "data": {
      "text/html": [
       "Syncing run <strong><a href='https://wandb.ai/f-labbaf97/lineage_tracing/runs/6ujkjuqd' target=\"_blank\">vital-wildflower-470</a></strong> to <a href='https://wandb.ai/f-labbaf97/lineage_tracing' target=\"_blank\">Weights & Biases</a> (<a href='https://wandb.me/run' target=\"_blank\">docs</a>)<br/>"
      ],
      "text/plain": [
       "<IPython.core.display.HTML object>"
      ]
     },
     "metadata": {},
     "output_type": "display_data"
    },
    {
     "data": {
      "text/html": [
       " View project at <a href='https://wandb.ai/f-labbaf97/lineage_tracing' target=\"_blank\">https://wandb.ai/f-labbaf97/lineage_tracing</a>"
      ],
      "text/plain": [
       "<IPython.core.display.HTML object>"
      ]
     },
     "metadata": {},
     "output_type": "display_data"
    },
    {
     "data": {
      "text/html": [
       " View run at <a href='https://wandb.ai/f-labbaf97/lineage_tracing/runs/6ujkjuqd' target=\"_blank\">https://wandb.ai/f-labbaf97/lineage_tracing/runs/6ujkjuqd</a>"
      ],
      "text/plain": [
       "<IPython.core.display.HTML object>"
      ]
     },
     "metadata": {},
     "output_type": "display_data"
    },
    {
     "name": "stdout",
     "output_type": "stream",
     "text": [
      "early stopping at  28 LR:  0.007128999999999997\n",
      "config:  {'epoch_n': 200, 'patience': 10, 'lr': 0.01, 'batch_size': 256, 'layers': [76, 64, 5], 'augment': True, 'features': ['dist_0', 'dist_max', 'dist_min', 'dist_std', 'poly_fit_budcm_candidcm', 'poly_fit_budcm_budpt', 'poly_fit_expansion_vector', 'position_bud_std', 'position_bud_max', 'position_bud_min', 'position_bud_last', 'position_bud_first', 'orientation_bud_std', 'orientation_bud_max', 'orientation_bud_min', 'orientation_bud_last', 'orientation_bud_first', 'orientation_bud_last_minus_first', 'plyfit_orientation_bud'], 'train_set': 'all', 'Group': 'normalized', 'cv_number': 2}\n",
      "yes. I am reloaded\n"
     ]
    },
    {
     "data": {
      "text/html": [
       "Finishing last run (ID:6ujkjuqd) before initializing another..."
      ],
      "text/plain": [
       "<IPython.core.display.HTML object>"
      ]
     },
     "metadata": {},
     "output_type": "display_data"
    },
    {
     "data": {
      "text/html": [
       "Waiting for W&B process to finish... <strong style=\"color:green\">(success).</strong>"
      ],
      "text/plain": [
       "<IPython.core.display.HTML object>"
      ]
     },
     "metadata": {},
     "output_type": "display_data"
    },
    {
     "data": {
      "application/vnd.jupyter.widget-view+json": {
       "model_id": "c23ff816e21d44eb8ffad841573af403",
       "version_major": 2,
       "version_minor": 0
      },
      "text/plain": [
       "VBox(children=(Label(value='0.003 MB of 0.003 MB uploaded (0.000 MB deduped)\\r'), FloatProgress(value=1.0, max…"
      ]
     },
     "metadata": {},
     "output_type": "display_data"
    },
    {
     "data": {
      "text/html": [
       "<style>\n",
       "    table.wandb td:nth-child(1) { padding: 0 10px; text-align: left ; width: auto;} td:nth-child(2) {text-align: left ; width: 100%}\n",
       "    .wandb-row { display: flex; flex-direction: row; flex-wrap: wrap; justify-content: flex-start; width: 100% }\n",
       "    .wandb-col { display: flex; flex-direction: column; flex-basis: 100%; flex: 1; padding: 10px; }\n",
       "    </style>\n",
       "<div class=\"wandb-row\"><div class=\"wandb-col\"><h3>Run history:</h3><br/><table class=\"wandb\"><tr><td>best_accuracy</td><td>▁▅▅▅▆▇▇▇▇███████████████████</td></tr><tr><td>epoch</td><td>▁▁▂▂▂▂▃▃▃▃▄▄▄▄▅▅▅▅▆▆▆▆▇▇▇▇██</td></tr><tr><td>eval_accuracy</td><td>▁▅▄▄▆▇▇▃▇██▇▇▇█▅▇███▇██▆██▇▇</td></tr><tr><td>lr</td><td>██▇▇▇▇▆▆▆▆▅▅▅▅▄▄▄▄▃▃▃▃▂▂▂▂▁▁</td></tr><tr><td>patience</td><td>▁▁▂▂▁▁▂▂▃▁▂▂▃▄▅▅▆▁▂▂▃▄▅▅▆▇▇█</td></tr><tr><td>train_accuracy</td><td>▁▅▆▇▇▇▇▇▇███████████████████</td></tr></table><br/></div><div class=\"wandb-col\"><h3>Run summary:</h3><br/><table class=\"wandb\"><tr><td>best_accuracy</td><td>0.8494</td></tr><tr><td>epoch</td><td>27</td></tr><tr><td>eval_accuracy</td><td>0.83133</td></tr><tr><td>lr</td><td>0.00723</td></tr><tr><td>patience</td><td>10</td></tr><tr><td>train_accuracy</td><td>0.82999</td></tr></table><br/></div></div>"
      ],
      "text/plain": [
       "<IPython.core.display.HTML object>"
      ]
     },
     "metadata": {},
     "output_type": "display_data"
    },
    {
     "data": {
      "text/html": [
       " View run <strong style=\"color:#cdcd00\">vital-wildflower-470</strong> at: <a href='https://wandb.ai/f-labbaf97/lineage_tracing/runs/6ujkjuqd' target=\"_blank\">https://wandb.ai/f-labbaf97/lineage_tracing/runs/6ujkjuqd</a><br/>Synced 6 W&B file(s), 0 media file(s), 0 artifact file(s) and 0 other file(s)"
      ],
      "text/plain": [
       "<IPython.core.display.HTML object>"
      ]
     },
     "metadata": {},
     "output_type": "display_data"
    },
    {
     "data": {
      "text/html": [
       "Find logs at: <code>./wandb/run-20230525_173500-6ujkjuqd/logs</code>"
      ],
      "text/plain": [
       "<IPython.core.display.HTML object>"
      ]
     },
     "metadata": {},
     "output_type": "display_data"
    },
    {
     "data": {
      "text/html": [
       "Successfully finished last run (ID:6ujkjuqd). Initializing new run:<br/>"
      ],
      "text/plain": [
       "<IPython.core.display.HTML object>"
      ]
     },
     "metadata": {},
     "output_type": "display_data"
    },
    {
     "data": {
      "application/vnd.jupyter.widget-view+json": {
       "model_id": "0bfb56d551d24528a3c3d9aa5af29ed3",
       "version_major": 2,
       "version_minor": 0
      },
      "text/plain": [
       "VBox(children=(Label(value='Waiting for wandb.init()...\\r'), FloatProgress(value=0.016668882733453454, max=1.0…"
      ]
     },
     "metadata": {},
     "output_type": "display_data"
    },
    {
     "data": {
      "text/html": [
       "Tracking run with wandb version 0.15.3"
      ],
      "text/plain": [
       "<IPython.core.display.HTML object>"
      ]
     },
     "metadata": {},
     "output_type": "display_data"
    },
    {
     "data": {
      "text/html": [
       "Run data is saved locally in <code>/home/farzaneh/Documents/Bread/bread/src/bread/tests/wandb/run-20230525_173511-td7r1ucm</code>"
      ],
      "text/plain": [
       "<IPython.core.display.HTML object>"
      ]
     },
     "metadata": {},
     "output_type": "display_data"
    },
    {
     "data": {
      "text/html": [
       "Syncing run <strong><a href='https://wandb.ai/f-labbaf97/lineage_tracing/runs/td7r1ucm' target=\"_blank\">trim-frog-471</a></strong> to <a href='https://wandb.ai/f-labbaf97/lineage_tracing' target=\"_blank\">Weights & Biases</a> (<a href='https://wandb.me/run' target=\"_blank\">docs</a>)<br/>"
      ],
      "text/plain": [
       "<IPython.core.display.HTML object>"
      ]
     },
     "metadata": {},
     "output_type": "display_data"
    },
    {
     "data": {
      "text/html": [
       " View project at <a href='https://wandb.ai/f-labbaf97/lineage_tracing' target=\"_blank\">https://wandb.ai/f-labbaf97/lineage_tracing</a>"
      ],
      "text/plain": [
       "<IPython.core.display.HTML object>"
      ]
     },
     "metadata": {},
     "output_type": "display_data"
    },
    {
     "data": {
      "text/html": [
       " View run at <a href='https://wandb.ai/f-labbaf97/lineage_tracing/runs/td7r1ucm' target=\"_blank\">https://wandb.ai/f-labbaf97/lineage_tracing/runs/td7r1ucm</a>"
      ],
      "text/plain": [
       "<IPython.core.display.HTML object>"
      ]
     },
     "metadata": {},
     "output_type": "display_data"
    },
    {
     "name": "stdout",
     "output_type": "stream",
     "text": [
      "early stopping at  25 LR:  0.007425999999999997\n",
      "config:  {'epoch_n': 200, 'patience': 10, 'lr': 0.01, 'batch_size': 256, 'layers': [76, 64, 5], 'augment': True, 'features': ['dist_0', 'dist_max', 'dist_min', 'dist_std', 'poly_fit_budcm_candidcm', 'poly_fit_budcm_budpt', 'poly_fit_expansion_vector', 'position_bud_std', 'position_bud_max', 'position_bud_min', 'position_bud_last', 'position_bud_first', 'orientation_bud_std', 'orientation_bud_max', 'orientation_bud_min', 'orientation_bud_last', 'orientation_bud_first', 'orientation_bud_last_minus_first', 'plyfit_orientation_bud'], 'train_set': 'all', 'Group': 'normalized', 'cv_number': 3}\n",
      "yes. I am reloaded\n"
     ]
    },
    {
     "data": {
      "text/html": [
       "Finishing last run (ID:td7r1ucm) before initializing another..."
      ],
      "text/plain": [
       "<IPython.core.display.HTML object>"
      ]
     },
     "metadata": {},
     "output_type": "display_data"
    },
    {
     "data": {
      "text/html": [
       "Waiting for W&B process to finish... <strong style=\"color:green\">(success).</strong>"
      ],
      "text/plain": [
       "<IPython.core.display.HTML object>"
      ]
     },
     "metadata": {},
     "output_type": "display_data"
    },
    {
     "data": {
      "text/html": [
       "<style>\n",
       "    table.wandb td:nth-child(1) { padding: 0 10px; text-align: left ; width: auto;} td:nth-child(2) {text-align: left ; width: 100%}\n",
       "    .wandb-row { display: flex; flex-direction: row; flex-wrap: wrap; justify-content: flex-start; width: 100% }\n",
       "    .wandb-col { display: flex; flex-direction: column; flex-basis: 100%; flex: 1; padding: 10px; }\n",
       "    </style>\n",
       "<div class=\"wandb-row\"><div class=\"wandb-col\"><h3>Run history:</h3><br/><table class=\"wandb\"><tr><td>best_accuracy</td><td>▁▄▆▇▇▇▇▇▇▇▇▇▇▇███████████</td></tr><tr><td>epoch</td><td>▁▁▂▂▂▂▃▃▃▄▄▄▅▅▅▅▆▆▆▇▇▇▇██</td></tr><tr><td>eval_accuracy</td><td>▁▄▆▇▇▇▆▇▇▇▇▇▆▇█▇▆▇▆█▇█▆█▆</td></tr><tr><td>lr</td><td>██▇▇▇▇▆▆▆▅▅▅▅▄▄▄▃▃▃▂▂▂▂▁▁</td></tr><tr><td>patience</td><td>▁▁▁▁▁▂▂▃▄▅▅▆▇▇▁▂▂▃▄▅▅▆▇▇█</td></tr><tr><td>train_accuracy</td><td>▁▆▆▇▇▇▇▇▇█▇▇▇████████████</td></tr></table><br/></div><div class=\"wandb-col\"><h3>Run summary:</h3><br/><table class=\"wandb\"><tr><td>best_accuracy</td><td>0.83636</td></tr><tr><td>epoch</td><td>24</td></tr><tr><td>eval_accuracy</td><td>0.80606</td></tr><tr><td>lr</td><td>0.00752</td></tr><tr><td>patience</td><td>10</td></tr><tr><td>train_accuracy</td><td>0.82337</td></tr></table><br/></div></div>"
      ],
      "text/plain": [
       "<IPython.core.display.HTML object>"
      ]
     },
     "metadata": {},
     "output_type": "display_data"
    },
    {
     "data": {
      "text/html": [
       " View run <strong style=\"color:#cdcd00\">trim-frog-471</strong> at: <a href='https://wandb.ai/f-labbaf97/lineage_tracing/runs/td7r1ucm' target=\"_blank\">https://wandb.ai/f-labbaf97/lineage_tracing/runs/td7r1ucm</a><br/>Synced 6 W&B file(s), 0 media file(s), 0 artifact file(s) and 0 other file(s)"
      ],
      "text/plain": [
       "<IPython.core.display.HTML object>"
      ]
     },
     "metadata": {},
     "output_type": "display_data"
    },
    {
     "data": {
      "text/html": [
       "Find logs at: <code>./wandb/run-20230525_173511-td7r1ucm/logs</code>"
      ],
      "text/plain": [
       "<IPython.core.display.HTML object>"
      ]
     },
     "metadata": {},
     "output_type": "display_data"
    },
    {
     "data": {
      "text/html": [
       "Successfully finished last run (ID:td7r1ucm). Initializing new run:<br/>"
      ],
      "text/plain": [
       "<IPython.core.display.HTML object>"
      ]
     },
     "metadata": {},
     "output_type": "display_data"
    },
    {
     "data": {
      "application/vnd.jupyter.widget-view+json": {
       "model_id": "e20f3def6df04411902ff0f564ac21c2",
       "version_major": 2,
       "version_minor": 0
      },
      "text/plain": [
       "VBox(children=(Label(value='Waiting for wandb.init()...\\r'), FloatProgress(value=0.016669782150226336, max=1.0…"
      ]
     },
     "metadata": {},
     "output_type": "display_data"
    },
    {
     "data": {
      "text/html": [
       "Tracking run with wandb version 0.15.3"
      ],
      "text/plain": [
       "<IPython.core.display.HTML object>"
      ]
     },
     "metadata": {},
     "output_type": "display_data"
    },
    {
     "data": {
      "text/html": [
       "Run data is saved locally in <code>/home/farzaneh/Documents/Bread/bread/src/bread/tests/wandb/run-20230525_173527-pgb905ti</code>"
      ],
      "text/plain": [
       "<IPython.core.display.HTML object>"
      ]
     },
     "metadata": {},
     "output_type": "display_data"
    },
    {
     "data": {
      "text/html": [
       "Syncing run <strong><a href='https://wandb.ai/f-labbaf97/lineage_tracing/runs/pgb905ti' target=\"_blank\">sweet-resonance-472</a></strong> to <a href='https://wandb.ai/f-labbaf97/lineage_tracing' target=\"_blank\">Weights & Biases</a> (<a href='https://wandb.me/run' target=\"_blank\">docs</a>)<br/>"
      ],
      "text/plain": [
       "<IPython.core.display.HTML object>"
      ]
     },
     "metadata": {},
     "output_type": "display_data"
    },
    {
     "data": {
      "text/html": [
       " View project at <a href='https://wandb.ai/f-labbaf97/lineage_tracing' target=\"_blank\">https://wandb.ai/f-labbaf97/lineage_tracing</a>"
      ],
      "text/plain": [
       "<IPython.core.display.HTML object>"
      ]
     },
     "metadata": {},
     "output_type": "display_data"
    },
    {
     "data": {
      "text/html": [
       " View run at <a href='https://wandb.ai/f-labbaf97/lineage_tracing/runs/pgb905ti' target=\"_blank\">https://wandb.ai/f-labbaf97/lineage_tracing/runs/pgb905ti</a>"
      ],
      "text/plain": [
       "<IPython.core.display.HTML object>"
      ]
     },
     "metadata": {},
     "output_type": "display_data"
    },
    {
     "name": "stdout",
     "output_type": "stream",
     "text": [
      "early stopping at  35 LR:  0.006435999999999997\n",
      "config:  {'epoch_n': 200, 'patience': 10, 'lr': 0.01, 'batch_size': 256, 'layers': [76, 64, 5], 'augment': True, 'features': ['dist_0', 'dist_max', 'dist_min', 'dist_std', 'poly_fit_budcm_candidcm', 'poly_fit_budcm_budpt', 'poly_fit_expansion_vector', 'position_bud_std', 'position_bud_max', 'position_bud_min', 'position_bud_last', 'position_bud_first', 'orientation_bud_std', 'orientation_bud_max', 'orientation_bud_min', 'orientation_bud_last', 'orientation_bud_first', 'orientation_bud_last_minus_first', 'plyfit_orientation_bud'], 'train_set': 'all', 'Group': 'normalized', 'cv_number': 4}\n",
      "yes. I am reloaded\n"
     ]
    },
    {
     "data": {
      "text/html": [
       "Finishing last run (ID:pgb905ti) before initializing another..."
      ],
      "text/plain": [
       "<IPython.core.display.HTML object>"
      ]
     },
     "metadata": {},
     "output_type": "display_data"
    },
    {
     "data": {
      "text/html": [
       "Waiting for W&B process to finish... <strong style=\"color:green\">(success).</strong>"
      ],
      "text/plain": [
       "<IPython.core.display.HTML object>"
      ]
     },
     "metadata": {},
     "output_type": "display_data"
    },
    {
     "data": {
      "text/html": [
       "<style>\n",
       "    table.wandb td:nth-child(1) { padding: 0 10px; text-align: left ; width: auto;} td:nth-child(2) {text-align: left ; width: 100%}\n",
       "    .wandb-row { display: flex; flex-direction: row; flex-wrap: wrap; justify-content: flex-start; width: 100% }\n",
       "    .wandb-col { display: flex; flex-direction: column; flex-basis: 100%; flex: 1; padding: 10px; }\n",
       "    </style>\n",
       "<div class=\"wandb-row\"><div class=\"wandb-col\"><h3>Run history:</h3><br/><table class=\"wandb\"><tr><td>best_accuracy</td><td>▁▄▆▇▇▇▇▇▇▇▇▇▇▇█████████████████████</td></tr><tr><td>epoch</td><td>▁▁▁▂▂▂▂▂▃▃▃▃▃▄▄▄▄▅▅▅▅▅▆▆▆▆▆▇▇▇▇▇███</td></tr><tr><td>eval_accuracy</td><td>▁▄▆▇▇▇▇▇▇▆▆▇▇▇████▇█▆▇▇▇█▇██▇▇███▇█</td></tr><tr><td>lr</td><td>███▇▇▇▇▇▆▆▆▆▆▅▅▅▅▄▄▄▄▄▃▃▃▃▃▂▂▂▂▂▁▁▁</td></tr><tr><td>patience</td><td>▁▁▁▁▁▂▂▃▄▅▅▆▇▇▁▂▁▂▂▃▄▅▅▆▁▂▂▃▄▅▅▆▇▇█</td></tr><tr><td>train_accuracy</td><td>▁▅▆▇▇▇▇▇▇▇▇▇▇██████████████████████</td></tr></table><br/></div><div class=\"wandb-col\"><h3>Run summary:</h3><br/><table class=\"wandb\"><tr><td>best_accuracy</td><td>0.86061</td></tr><tr><td>epoch</td><td>34</td></tr><tr><td>eval_accuracy</td><td>0.84848</td></tr><tr><td>lr</td><td>0.00653</td></tr><tr><td>patience</td><td>10</td></tr><tr><td>train_accuracy</td><td>0.83359</td></tr></table><br/></div></div>"
      ],
      "text/plain": [
       "<IPython.core.display.HTML object>"
      ]
     },
     "metadata": {},
     "output_type": "display_data"
    },
    {
     "data": {
      "text/html": [
       " View run <strong style=\"color:#cdcd00\">sweet-resonance-472</strong> at: <a href='https://wandb.ai/f-labbaf97/lineage_tracing/runs/pgb905ti' target=\"_blank\">https://wandb.ai/f-labbaf97/lineage_tracing/runs/pgb905ti</a><br/>Synced 6 W&B file(s), 0 media file(s), 0 artifact file(s) and 0 other file(s)"
      ],
      "text/plain": [
       "<IPython.core.display.HTML object>"
      ]
     },
     "metadata": {},
     "output_type": "display_data"
    },
    {
     "data": {
      "text/html": [
       "Find logs at: <code>./wandb/run-20230525_173527-pgb905ti/logs</code>"
      ],
      "text/plain": [
       "<IPython.core.display.HTML object>"
      ]
     },
     "metadata": {},
     "output_type": "display_data"
    },
    {
     "data": {
      "text/html": [
       "Successfully finished last run (ID:pgb905ti). Initializing new run:<br/>"
      ],
      "text/plain": [
       "<IPython.core.display.HTML object>"
      ]
     },
     "metadata": {},
     "output_type": "display_data"
    },
    {
     "data": {
      "application/vnd.jupyter.widget-view+json": {
       "model_id": "15459bb5371f41299b52c1d0c2a00415",
       "version_major": 2,
       "version_minor": 0
      },
      "text/plain": [
       "VBox(children=(Label(value='Waiting for wandb.init()...\\r'), FloatProgress(value=0.016669161233342795, max=1.0…"
      ]
     },
     "metadata": {},
     "output_type": "display_data"
    },
    {
     "data": {
      "text/html": [
       "Tracking run with wandb version 0.15.3"
      ],
      "text/plain": [
       "<IPython.core.display.HTML object>"
      ]
     },
     "metadata": {},
     "output_type": "display_data"
    },
    {
     "data": {
      "text/html": [
       "Run data is saved locally in <code>/home/farzaneh/Documents/Bread/bread/src/bread/tests/wandb/run-20230525_173546-8oqsh7gn</code>"
      ],
      "text/plain": [
       "<IPython.core.display.HTML object>"
      ]
     },
     "metadata": {},
     "output_type": "display_data"
    },
    {
     "data": {
      "text/html": [
       "Syncing run <strong><a href='https://wandb.ai/f-labbaf97/lineage_tracing/runs/8oqsh7gn' target=\"_blank\">vital-dragon-473</a></strong> to <a href='https://wandb.ai/f-labbaf97/lineage_tracing' target=\"_blank\">Weights & Biases</a> (<a href='https://wandb.me/run' target=\"_blank\">docs</a>)<br/>"
      ],
      "text/plain": [
       "<IPython.core.display.HTML object>"
      ]
     },
     "metadata": {},
     "output_type": "display_data"
    },
    {
     "data": {
      "text/html": [
       " View project at <a href='https://wandb.ai/f-labbaf97/lineage_tracing' target=\"_blank\">https://wandb.ai/f-labbaf97/lineage_tracing</a>"
      ],
      "text/plain": [
       "<IPython.core.display.HTML object>"
      ]
     },
     "metadata": {},
     "output_type": "display_data"
    },
    {
     "data": {
      "text/html": [
       " View run at <a href='https://wandb.ai/f-labbaf97/lineage_tracing/runs/8oqsh7gn' target=\"_blank\">https://wandb.ai/f-labbaf97/lineage_tracing/runs/8oqsh7gn</a>"
      ],
      "text/plain": [
       "<IPython.core.display.HTML object>"
      ]
     },
     "metadata": {},
     "output_type": "display_data"
    },
    {
     "name": "stdout",
     "output_type": "stream",
     "text": [
      "early stopping at  28 LR:  0.007128999999999997\n",
      "config:  {'epoch_n': 200, 'patience': 10, 'lr': 0.01, 'batch_size': 256, 'layers': [76, 64, 5], 'augment': True, 'features': ['dist_0', 'dist_max', 'dist_min', 'dist_std', 'poly_fit_budcm_candidcm', 'poly_fit_budcm_budpt', 'poly_fit_expansion_vector', 'position_bud_std', 'position_bud_max', 'position_bud_min', 'position_bud_last', 'position_bud_first', 'orientation_bud_std', 'orientation_bud_max', 'orientation_bud_min', 'orientation_bud_last', 'orientation_bud_first', 'orientation_bud_last_minus_first', 'plyfit_orientation_bud'], 'train_set': 'all', 'Group': 'normalized', 'cv_number': 5}\n",
      "yes. I am reloaded\n"
     ]
    },
    {
     "data": {
      "text/html": [
       "Finishing last run (ID:8oqsh7gn) before initializing another..."
      ],
      "text/plain": [
       "<IPython.core.display.HTML object>"
      ]
     },
     "metadata": {},
     "output_type": "display_data"
    },
    {
     "data": {
      "text/html": [
       "Waiting for W&B process to finish... <strong style=\"color:green\">(success).</strong>"
      ],
      "text/plain": [
       "<IPython.core.display.HTML object>"
      ]
     },
     "metadata": {},
     "output_type": "display_data"
    },
    {
     "data": {
      "text/html": [
       "<style>\n",
       "    table.wandb td:nth-child(1) { padding: 0 10px; text-align: left ; width: auto;} td:nth-child(2) {text-align: left ; width: 100%}\n",
       "    .wandb-row { display: flex; flex-direction: row; flex-wrap: wrap; justify-content: flex-start; width: 100% }\n",
       "    .wandb-col { display: flex; flex-direction: column; flex-basis: 100%; flex: 1; padding: 10px; }\n",
       "    </style>\n",
       "<div class=\"wandb-row\"><div class=\"wandb-col\"><h3>Run history:</h3><br/><table class=\"wandb\"><tr><td>best_accuracy</td><td>▁▃▆▆▇▇▇▇▇▇▇▇▇▇▇█████████████</td></tr><tr><td>epoch</td><td>▁▁▂▂▂▂▃▃▃▃▄▄▄▄▅▅▅▅▆▆▆▆▇▇▇▇██</td></tr><tr><td>eval_accuracy</td><td>▁▃▆▆▇▇▇▇▅▇▇▇▇▇▇█▇█▇▇▇▇█▆▆▆▅▆</td></tr><tr><td>lr</td><td>██▇▇▇▇▆▆▆▆▅▅▅▅▄▄▄▄▃▃▃▃▂▂▂▂▁▁</td></tr><tr><td>patience</td><td>▁▁▁▂▁▂▂▁▂▂▁▂▂▃▄▁▂▁▂▂▃▄▅▅▆▇▇█</td></tr><tr><td>train_accuracy</td><td>▁▅▆▇▇▇▇▇████▇███████████████</td></tr></table><br/></div><div class=\"wandb-col\"><h3>Run summary:</h3><br/><table class=\"wandb\"><tr><td>best_accuracy</td><td>0.81818</td></tr><tr><td>epoch</td><td>27</td></tr><tr><td>eval_accuracy</td><td>0.78788</td></tr><tr><td>lr</td><td>0.00723</td></tr><tr><td>patience</td><td>10</td></tr><tr><td>train_accuracy</td><td>0.83724</td></tr></table><br/></div></div>"
      ],
      "text/plain": [
       "<IPython.core.display.HTML object>"
      ]
     },
     "metadata": {},
     "output_type": "display_data"
    },
    {
     "data": {
      "text/html": [
       " View run <strong style=\"color:#cdcd00\">vital-dragon-473</strong> at: <a href='https://wandb.ai/f-labbaf97/lineage_tracing/runs/8oqsh7gn' target=\"_blank\">https://wandb.ai/f-labbaf97/lineage_tracing/runs/8oqsh7gn</a><br/>Synced 6 W&B file(s), 0 media file(s), 0 artifact file(s) and 0 other file(s)"
      ],
      "text/plain": [
       "<IPython.core.display.HTML object>"
      ]
     },
     "metadata": {},
     "output_type": "display_data"
    },
    {
     "data": {
      "text/html": [
       "Find logs at: <code>./wandb/run-20230525_173546-8oqsh7gn/logs</code>"
      ],
      "text/plain": [
       "<IPython.core.display.HTML object>"
      ]
     },
     "metadata": {},
     "output_type": "display_data"
    },
    {
     "data": {
      "text/html": [
       "Successfully finished last run (ID:8oqsh7gn). Initializing new run:<br/>"
      ],
      "text/plain": [
       "<IPython.core.display.HTML object>"
      ]
     },
     "metadata": {},
     "output_type": "display_data"
    },
    {
     "data": {
      "application/vnd.jupyter.widget-view+json": {
       "model_id": "5fb82e154a5c492587f4992e0bba625c",
       "version_major": 2,
       "version_minor": 0
      },
      "text/plain": [
       "VBox(children=(Label(value='Waiting for wandb.init()...\\r'), FloatProgress(value=0.016669673899984142, max=1.0…"
      ]
     },
     "metadata": {},
     "output_type": "display_data"
    },
    {
     "data": {
      "text/html": [
       "Tracking run with wandb version 0.15.3"
      ],
      "text/plain": [
       "<IPython.core.display.HTML object>"
      ]
     },
     "metadata": {},
     "output_type": "display_data"
    },
    {
     "data": {
      "text/html": [
       "Run data is saved locally in <code>/home/farzaneh/Documents/Bread/bread/src/bread/tests/wandb/run-20230525_173603-4hdyxdun</code>"
      ],
      "text/plain": [
       "<IPython.core.display.HTML object>"
      ]
     },
     "metadata": {},
     "output_type": "display_data"
    },
    {
     "data": {
      "text/html": [
       "Syncing run <strong><a href='https://wandb.ai/f-labbaf97/lineage_tracing/runs/4hdyxdun' target=\"_blank\">whole-wildflower-474</a></strong> to <a href='https://wandb.ai/f-labbaf97/lineage_tracing' target=\"_blank\">Weights & Biases</a> (<a href='https://wandb.me/run' target=\"_blank\">docs</a>)<br/>"
      ],
      "text/plain": [
       "<IPython.core.display.HTML object>"
      ]
     },
     "metadata": {},
     "output_type": "display_data"
    },
    {
     "data": {
      "text/html": [
       " View project at <a href='https://wandb.ai/f-labbaf97/lineage_tracing' target=\"_blank\">https://wandb.ai/f-labbaf97/lineage_tracing</a>"
      ],
      "text/plain": [
       "<IPython.core.display.HTML object>"
      ]
     },
     "metadata": {},
     "output_type": "display_data"
    },
    {
     "data": {
      "text/html": [
       " View run at <a href='https://wandb.ai/f-labbaf97/lineage_tracing/runs/4hdyxdun' target=\"_blank\">https://wandb.ai/f-labbaf97/lineage_tracing/runs/4hdyxdun</a>"
      ],
      "text/plain": [
       "<IPython.core.display.HTML object>"
      ]
     },
     "metadata": {},
     "output_type": "display_data"
    },
    {
     "name": "stdout",
     "output_type": "stream",
     "text": [
      "early stopping at  17 LR:  0.008217999999999998\n",
      "accuracy:  0.8377583059510771 +/- 0.015654749243345572\n",
      "config:  {'epoch_n': 200, 'patience': 10, 'lr': 0.01, 'batch_size': 256, 'layers': [76, 64, 5], 'augment': True, 'features': ['dist_0', 'dist_max', 'dist_min', 'dist_std', 'poly_fit_budcm_candidcm', 'poly_fit_budcm_budpt', 'poly_fit_expansion_vector', 'position_bud_std', 'position_bud_max', 'position_bud_min', 'position_bud_last', 'position_bud_first', 'orientation_bud_std', 'orientation_bud_max', 'orientation_bud_min', 'orientation_bud_last', 'orientation_bud_first', 'orientation_bud_last_minus_first', 'plyfit_orientation_bud'], 'train_set': 'all', 'Group': 'normalized', 'cv_number': 1}\n",
      "yes. I am reloaded\n"
     ]
    },
    {
     "data": {
      "text/html": [
       "Finishing last run (ID:4hdyxdun) before initializing another..."
      ],
      "text/plain": [
       "<IPython.core.display.HTML object>"
      ]
     },
     "metadata": {},
     "output_type": "display_data"
    },
    {
     "data": {
      "text/html": [
       "Waiting for W&B process to finish... <strong style=\"color:green\">(success).</strong>"
      ],
      "text/plain": [
       "<IPython.core.display.HTML object>"
      ]
     },
     "metadata": {},
     "output_type": "display_data"
    },
    {
     "data": {
      "application/vnd.jupyter.widget-view+json": {
       "model_id": "d0de4fae36f54c45b74766bb4b6bb228",
       "version_major": 2,
       "version_minor": 0
      },
      "text/plain": [
       "VBox(children=(Label(value='0.003 MB of 0.010 MB uploaded (0.000 MB deduped)\\r'), FloatProgress(value=0.278222…"
      ]
     },
     "metadata": {},
     "output_type": "display_data"
    },
    {
     "data": {
      "text/html": [
       "<style>\n",
       "    table.wandb td:nth-child(1) { padding: 0 10px; text-align: left ; width: auto;} td:nth-child(2) {text-align: left ; width: 100%}\n",
       "    .wandb-row { display: flex; flex-direction: row; flex-wrap: wrap; justify-content: flex-start; width: 100% }\n",
       "    .wandb-col { display: flex; flex-direction: column; flex-basis: 100%; flex: 1; padding: 10px; }\n",
       "    </style>\n",
       "<div class=\"wandb-row\"><div class=\"wandb-col\"><h3>Run history:</h3><br/><table class=\"wandb\"><tr><td>best_accuracy</td><td>▁▄▅▅▅▇███████████</td></tr><tr><td>epoch</td><td>▁▁▂▂▃▃▄▄▅▅▅▆▆▇▇██</td></tr><tr><td>eval_accuracy</td><td>▁▄▅▄▄▇█▆█▅█▆▅▆▆██</td></tr><tr><td>lr</td><td>██▇▇▆▆▅▅▄▄▄▃▃▂▂▁▁</td></tr><tr><td>patience</td><td>▁▁▁▂▂▁▁▂▂▃▄▅▅▆▇▇█</td></tr><tr><td>train_accuracy</td><td>▁▅▆▇▇▇▇▇█████████</td></tr></table><br/></div><div class=\"wandb-col\"><h3>Run summary:</h3><br/><table class=\"wandb\"><tr><td>best_accuracy</td><td>0.82424</td></tr><tr><td>epoch</td><td>16</td></tr><tr><td>eval_accuracy</td><td>0.81818</td></tr><tr><td>lr</td><td>0.00832</td></tr><tr><td>patience</td><td>10</td></tr><tr><td>train_accuracy</td><td>0.83031</td></tr></table><br/></div></div>"
      ],
      "text/plain": [
       "<IPython.core.display.HTML object>"
      ]
     },
     "metadata": {},
     "output_type": "display_data"
    },
    {
     "data": {
      "text/html": [
       " View run <strong style=\"color:#cdcd00\">whole-wildflower-474</strong> at: <a href='https://wandb.ai/f-labbaf97/lineage_tracing/runs/4hdyxdun' target=\"_blank\">https://wandb.ai/f-labbaf97/lineage_tracing/runs/4hdyxdun</a><br/>Synced 6 W&B file(s), 0 media file(s), 0 artifact file(s) and 0 other file(s)"
      ],
      "text/plain": [
       "<IPython.core.display.HTML object>"
      ]
     },
     "metadata": {},
     "output_type": "display_data"
    },
    {
     "data": {
      "text/html": [
       "Find logs at: <code>./wandb/run-20230525_173603-4hdyxdun/logs</code>"
      ],
      "text/plain": [
       "<IPython.core.display.HTML object>"
      ]
     },
     "metadata": {},
     "output_type": "display_data"
    },
    {
     "data": {
      "text/html": [
       "Successfully finished last run (ID:4hdyxdun). Initializing new run:<br/>"
      ],
      "text/plain": [
       "<IPython.core.display.HTML object>"
      ]
     },
     "metadata": {},
     "output_type": "display_data"
    },
    {
     "data": {
      "application/vnd.jupyter.widget-view+json": {
       "model_id": "ca54f0a423924f46bd4564544270db70",
       "version_major": 2,
       "version_minor": 0
      },
      "text/plain": [
       "VBox(children=(Label(value='Waiting for wandb.init()...\\r'), FloatProgress(value=0.0166700554334966, max=1.0))…"
      ]
     },
     "metadata": {},
     "output_type": "display_data"
    },
    {
     "data": {
      "text/html": [
       "Tracking run with wandb version 0.15.3"
      ],
      "text/plain": [
       "<IPython.core.display.HTML object>"
      ]
     },
     "metadata": {},
     "output_type": "display_data"
    },
    {
     "data": {
      "text/html": [
       "Run data is saved locally in <code>/home/farzaneh/Documents/Bread/bread/src/bread/tests/wandb/run-20230525_173618-f5s32llq</code>"
      ],
      "text/plain": [
       "<IPython.core.display.HTML object>"
      ]
     },
     "metadata": {},
     "output_type": "display_data"
    },
    {
     "data": {
      "text/html": [
       "Syncing run <strong><a href='https://wandb.ai/f-labbaf97/lineage_tracing/runs/f5s32llq' target=\"_blank\">vital-snowball-475</a></strong> to <a href='https://wandb.ai/f-labbaf97/lineage_tracing' target=\"_blank\">Weights & Biases</a> (<a href='https://wandb.me/run' target=\"_blank\">docs</a>)<br/>"
      ],
      "text/plain": [
       "<IPython.core.display.HTML object>"
      ]
     },
     "metadata": {},
     "output_type": "display_data"
    },
    {
     "data": {
      "text/html": [
       " View project at <a href='https://wandb.ai/f-labbaf97/lineage_tracing' target=\"_blank\">https://wandb.ai/f-labbaf97/lineage_tracing</a>"
      ],
      "text/plain": [
       "<IPython.core.display.HTML object>"
      ]
     },
     "metadata": {},
     "output_type": "display_data"
    },
    {
     "data": {
      "text/html": [
       " View run at <a href='https://wandb.ai/f-labbaf97/lineage_tracing/runs/f5s32llq' target=\"_blank\">https://wandb.ai/f-labbaf97/lineage_tracing/runs/f5s32llq</a>"
      ],
      "text/plain": [
       "<IPython.core.display.HTML object>"
      ]
     },
     "metadata": {},
     "output_type": "display_data"
    },
    {
     "name": "stdout",
     "output_type": "stream",
     "text": [
      "early stopping at  17 LR:  0.008217999999999998\n",
      "config:  {'epoch_n': 200, 'patience': 10, 'lr': 0.01, 'batch_size': 256, 'layers': [76, 64, 5], 'augment': True, 'features': ['dist_0', 'dist_max', 'dist_min', 'dist_std', 'poly_fit_budcm_candidcm', 'poly_fit_budcm_budpt', 'poly_fit_expansion_vector', 'position_bud_std', 'position_bud_max', 'position_bud_min', 'position_bud_last', 'position_bud_first', 'orientation_bud_std', 'orientation_bud_max', 'orientation_bud_min', 'orientation_bud_last', 'orientation_bud_first', 'orientation_bud_last_minus_first', 'plyfit_orientation_bud'], 'train_set': 'all', 'Group': 'normalized', 'cv_number': 2}\n",
      "yes. I am reloaded\n"
     ]
    },
    {
     "data": {
      "text/html": [
       "Finishing last run (ID:f5s32llq) before initializing another..."
      ],
      "text/plain": [
       "<IPython.core.display.HTML object>"
      ]
     },
     "metadata": {},
     "output_type": "display_data"
    },
    {
     "data": {
      "text/html": [
       "Waiting for W&B process to finish... <strong style=\"color:green\">(success).</strong>"
      ],
      "text/plain": [
       "<IPython.core.display.HTML object>"
      ]
     },
     "metadata": {},
     "output_type": "display_data"
    },
    {
     "data": {
      "text/html": [
       "<style>\n",
       "    table.wandb td:nth-child(1) { padding: 0 10px; text-align: left ; width: auto;} td:nth-child(2) {text-align: left ; width: 100%}\n",
       "    .wandb-row { display: flex; flex-direction: row; flex-wrap: wrap; justify-content: flex-start; width: 100% }\n",
       "    .wandb-col { display: flex; flex-direction: column; flex-basis: 100%; flex: 1; padding: 10px; }\n",
       "    </style>\n",
       "<div class=\"wandb-row\"><div class=\"wandb-col\"><h3>Run history:</h3><br/><table class=\"wandb\"><tr><td>best_accuracy</td><td>▁▃▄▆▆▆███████████</td></tr><tr><td>epoch</td><td>▁▁▂▂▃▃▄▄▅▅▅▆▆▇▇██</td></tr><tr><td>eval_accuracy</td><td>▂▃▄▇▆▄█▁▅▅▅█▆▄▇▅█</td></tr><tr><td>lr</td><td>██▇▇▆▆▅▅▄▄▄▃▃▂▂▁▁</td></tr><tr><td>patience</td><td>▁▁▁▁▂▂▁▂▂▃▄▅▅▆▇▇█</td></tr><tr><td>train_accuracy</td><td>▁▅▅▆▆▆▆▇▇▇▇██████</td></tr></table><br/></div><div class=\"wandb-col\"><h3>Run summary:</h3><br/><table class=\"wandb\"><tr><td>best_accuracy</td><td>0.84337</td></tr><tr><td>epoch</td><td>16</td></tr><tr><td>eval_accuracy</td><td>0.83735</td></tr><tr><td>lr</td><td>0.00832</td></tr><tr><td>patience</td><td>10</td></tr><tr><td>train_accuracy</td><td>0.84205</td></tr></table><br/></div></div>"
      ],
      "text/plain": [
       "<IPython.core.display.HTML object>"
      ]
     },
     "metadata": {},
     "output_type": "display_data"
    },
    {
     "data": {
      "text/html": [
       " View run <strong style=\"color:#cdcd00\">vital-snowball-475</strong> at: <a href='https://wandb.ai/f-labbaf97/lineage_tracing/runs/f5s32llq' target=\"_blank\">https://wandb.ai/f-labbaf97/lineage_tracing/runs/f5s32llq</a><br/>Synced 6 W&B file(s), 0 media file(s), 0 artifact file(s) and 0 other file(s)"
      ],
      "text/plain": [
       "<IPython.core.display.HTML object>"
      ]
     },
     "metadata": {},
     "output_type": "display_data"
    },
    {
     "data": {
      "text/html": [
       "Find logs at: <code>./wandb/run-20230525_173618-f5s32llq/logs</code>"
      ],
      "text/plain": [
       "<IPython.core.display.HTML object>"
      ]
     },
     "metadata": {},
     "output_type": "display_data"
    },
    {
     "data": {
      "text/html": [
       "Successfully finished last run (ID:f5s32llq). Initializing new run:<br/>"
      ],
      "text/plain": [
       "<IPython.core.display.HTML object>"
      ]
     },
     "metadata": {},
     "output_type": "display_data"
    },
    {
     "data": {
      "application/vnd.jupyter.widget-view+json": {
       "model_id": "2f07ab1d6a21482bb79d8fd1b8b4c1a5",
       "version_major": 2,
       "version_minor": 0
      },
      "text/plain": [
       "VBox(children=(Label(value='Waiting for wandb.init()...\\r'), FloatProgress(value=0.016669258250234027, max=1.0…"
      ]
     },
     "metadata": {},
     "output_type": "display_data"
    },
    {
     "data": {
      "text/html": [
       "Tracking run with wandb version 0.15.3"
      ],
      "text/plain": [
       "<IPython.core.display.HTML object>"
      ]
     },
     "metadata": {},
     "output_type": "display_data"
    },
    {
     "data": {
      "text/html": [
       "Run data is saved locally in <code>/home/farzaneh/Documents/Bread/bread/src/bread/tests/wandb/run-20230525_173631-d0w2t8or</code>"
      ],
      "text/plain": [
       "<IPython.core.display.HTML object>"
      ]
     },
     "metadata": {},
     "output_type": "display_data"
    },
    {
     "data": {
      "text/html": [
       "Syncing run <strong><a href='https://wandb.ai/f-labbaf97/lineage_tracing/runs/d0w2t8or' target=\"_blank\">lunar-meadow-476</a></strong> to <a href='https://wandb.ai/f-labbaf97/lineage_tracing' target=\"_blank\">Weights & Biases</a> (<a href='https://wandb.me/run' target=\"_blank\">docs</a>)<br/>"
      ],
      "text/plain": [
       "<IPython.core.display.HTML object>"
      ]
     },
     "metadata": {},
     "output_type": "display_data"
    },
    {
     "data": {
      "text/html": [
       " View project at <a href='https://wandb.ai/f-labbaf97/lineage_tracing' target=\"_blank\">https://wandb.ai/f-labbaf97/lineage_tracing</a>"
      ],
      "text/plain": [
       "<IPython.core.display.HTML object>"
      ]
     },
     "metadata": {},
     "output_type": "display_data"
    },
    {
     "data": {
      "text/html": [
       " View run at <a href='https://wandb.ai/f-labbaf97/lineage_tracing/runs/d0w2t8or' target=\"_blank\">https://wandb.ai/f-labbaf97/lineage_tracing/runs/d0w2t8or</a>"
      ],
      "text/plain": [
       "<IPython.core.display.HTML object>"
      ]
     },
     "metadata": {},
     "output_type": "display_data"
    },
    {
     "name": "stdout",
     "output_type": "stream",
     "text": [
      "early stopping at  23 LR:  0.007623999999999997\n",
      "config:  {'epoch_n': 200, 'patience': 10, 'lr': 0.01, 'batch_size': 256, 'layers': [76, 64, 5], 'augment': True, 'features': ['dist_0', 'dist_max', 'dist_min', 'dist_std', 'poly_fit_budcm_candidcm', 'poly_fit_budcm_budpt', 'poly_fit_expansion_vector', 'position_bud_std', 'position_bud_max', 'position_bud_min', 'position_bud_last', 'position_bud_first', 'orientation_bud_std', 'orientation_bud_max', 'orientation_bud_min', 'orientation_bud_last', 'orientation_bud_first', 'orientation_bud_last_minus_first', 'plyfit_orientation_bud'], 'train_set': 'all', 'Group': 'normalized', 'cv_number': 3}\n",
      "yes. I am reloaded\n"
     ]
    },
    {
     "data": {
      "text/html": [
       "Finishing last run (ID:d0w2t8or) before initializing another..."
      ],
      "text/plain": [
       "<IPython.core.display.HTML object>"
      ]
     },
     "metadata": {},
     "output_type": "display_data"
    },
    {
     "data": {
      "text/html": [
       "Waiting for W&B process to finish... <strong style=\"color:green\">(success).</strong>"
      ],
      "text/plain": [
       "<IPython.core.display.HTML object>"
      ]
     },
     "metadata": {},
     "output_type": "display_data"
    },
    {
     "data": {
      "application/vnd.jupyter.widget-view+json": {
       "model_id": "6c9a7f8fa98645f98c647a36162eaa0b",
       "version_major": 2,
       "version_minor": 0
      },
      "text/plain": [
       "VBox(children=(Label(value='0.003 MB of 0.003 MB uploaded (0.000 MB deduped)\\r'), FloatProgress(value=1.0, max…"
      ]
     },
     "metadata": {},
     "output_type": "display_data"
    },
    {
     "data": {
      "text/html": [
       "<style>\n",
       "    table.wandb td:nth-child(1) { padding: 0 10px; text-align: left ; width: auto;} td:nth-child(2) {text-align: left ; width: 100%}\n",
       "    .wandb-row { display: flex; flex-direction: row; flex-wrap: wrap; justify-content: flex-start; width: 100% }\n",
       "    .wandb-col { display: flex; flex-direction: column; flex-basis: 100%; flex: 1; padding: 10px; }\n",
       "    </style>\n",
       "<div class=\"wandb-row\"><div class=\"wandb-col\"><h3>Run history:</h3><br/><table class=\"wandb\"><tr><td>best_accuracy</td><td>▁▁▂▃▄▅▆▇▇▇▇▇███████████</td></tr><tr><td>epoch</td><td>▁▁▂▂▂▃▃▃▄▄▄▅▅▅▅▆▆▆▇▇▇██</td></tr><tr><td>eval_accuracy</td><td>▁▁▂▃▄▅▆▇▆▇▇▇█▆▅▆▄▆▄▆█▅▆</td></tr><tr><td>lr</td><td>██▇▇▇▆▆▆▅▅▅▅▄▄▄▃▃▃▂▂▂▁▁</td></tr><tr><td>patience</td><td>▁▂▁▁▁▁▁▁▂▂▁▂▁▂▂▃▄▅▅▆▇▇█</td></tr><tr><td>train_accuracy</td><td>▁▅▅▆▆▆▆▇▇▇▇▇▇▇████▇████</td></tr></table><br/></div><div class=\"wandb-col\"><h3>Run summary:</h3><br/><table class=\"wandb\"><tr><td>best_accuracy</td><td>0.85455</td></tr><tr><td>epoch</td><td>22</td></tr><tr><td>eval_accuracy</td><td>0.82424</td></tr><tr><td>lr</td><td>0.00772</td></tr><tr><td>patience</td><td>10</td></tr><tr><td>train_accuracy</td><td>0.84222</td></tr></table><br/></div></div>"
      ],
      "text/plain": [
       "<IPython.core.display.HTML object>"
      ]
     },
     "metadata": {},
     "output_type": "display_data"
    },
    {
     "data": {
      "text/html": [
       " View run <strong style=\"color:#cdcd00\">lunar-meadow-476</strong> at: <a href='https://wandb.ai/f-labbaf97/lineage_tracing/runs/d0w2t8or' target=\"_blank\">https://wandb.ai/f-labbaf97/lineage_tracing/runs/d0w2t8or</a><br/>Synced 6 W&B file(s), 0 media file(s), 0 artifact file(s) and 0 other file(s)"
      ],
      "text/plain": [
       "<IPython.core.display.HTML object>"
      ]
     },
     "metadata": {},
     "output_type": "display_data"
    },
    {
     "data": {
      "text/html": [
       "Find logs at: <code>./wandb/run-20230525_173631-d0w2t8or/logs</code>"
      ],
      "text/plain": [
       "<IPython.core.display.HTML object>"
      ]
     },
     "metadata": {},
     "output_type": "display_data"
    },
    {
     "data": {
      "text/html": [
       "Successfully finished last run (ID:d0w2t8or). Initializing new run:<br/>"
      ],
      "text/plain": [
       "<IPython.core.display.HTML object>"
      ]
     },
     "metadata": {},
     "output_type": "display_data"
    },
    {
     "data": {
      "application/vnd.jupyter.widget-view+json": {
       "model_id": "f1885e8451c24e73904f4df427ba0007",
       "version_major": 2,
       "version_minor": 0
      },
      "text/plain": [
       "VBox(children=(Label(value='Waiting for wandb.init()...\\r'), FloatProgress(value=0.016669540949806105, max=1.0…"
      ]
     },
     "metadata": {},
     "output_type": "display_data"
    },
    {
     "data": {
      "text/html": [
       "Tracking run with wandb version 0.15.3"
      ],
      "text/plain": [
       "<IPython.core.display.HTML object>"
      ]
     },
     "metadata": {},
     "output_type": "display_data"
    },
    {
     "data": {
      "text/html": [
       "Run data is saved locally in <code>/home/farzaneh/Documents/Bread/bread/src/bread/tests/wandb/run-20230525_173646-w6kk3ntk</code>"
      ],
      "text/plain": [
       "<IPython.core.display.HTML object>"
      ]
     },
     "metadata": {},
     "output_type": "display_data"
    },
    {
     "data": {
      "text/html": [
       "Syncing run <strong><a href='https://wandb.ai/f-labbaf97/lineage_tracing/runs/w6kk3ntk' target=\"_blank\">smooth-yogurt-477</a></strong> to <a href='https://wandb.ai/f-labbaf97/lineage_tracing' target=\"_blank\">Weights & Biases</a> (<a href='https://wandb.me/run' target=\"_blank\">docs</a>)<br/>"
      ],
      "text/plain": [
       "<IPython.core.display.HTML object>"
      ]
     },
     "metadata": {},
     "output_type": "display_data"
    },
    {
     "data": {
      "text/html": [
       " View project at <a href='https://wandb.ai/f-labbaf97/lineage_tracing' target=\"_blank\">https://wandb.ai/f-labbaf97/lineage_tracing</a>"
      ],
      "text/plain": [
       "<IPython.core.display.HTML object>"
      ]
     },
     "metadata": {},
     "output_type": "display_data"
    },
    {
     "data": {
      "text/html": [
       " View run at <a href='https://wandb.ai/f-labbaf97/lineage_tracing/runs/w6kk3ntk' target=\"_blank\">https://wandb.ai/f-labbaf97/lineage_tracing/runs/w6kk3ntk</a>"
      ],
      "text/plain": [
       "<IPython.core.display.HTML object>"
      ]
     },
     "metadata": {},
     "output_type": "display_data"
    },
    {
     "name": "stdout",
     "output_type": "stream",
     "text": [
      "early stopping at  34 LR:  0.006534999999999997\n",
      "config:  {'epoch_n': 200, 'patience': 10, 'lr': 0.01, 'batch_size': 256, 'layers': [76, 64, 5], 'augment': True, 'features': ['dist_0', 'dist_max', 'dist_min', 'dist_std', 'poly_fit_budcm_candidcm', 'poly_fit_budcm_budpt', 'poly_fit_expansion_vector', 'position_bud_std', 'position_bud_max', 'position_bud_min', 'position_bud_last', 'position_bud_first', 'orientation_bud_std', 'orientation_bud_max', 'orientation_bud_min', 'orientation_bud_last', 'orientation_bud_first', 'orientation_bud_last_minus_first', 'plyfit_orientation_bud'], 'train_set': 'all', 'Group': 'normalized', 'cv_number': 4}\n",
      "yes. I am reloaded\n"
     ]
    },
    {
     "data": {
      "text/html": [
       "Finishing last run (ID:w6kk3ntk) before initializing another..."
      ],
      "text/plain": [
       "<IPython.core.display.HTML object>"
      ]
     },
     "metadata": {},
     "output_type": "display_data"
    },
    {
     "data": {
      "text/html": [
       "Waiting for W&B process to finish... <strong style=\"color:green\">(success).</strong>"
      ],
      "text/plain": [
       "<IPython.core.display.HTML object>"
      ]
     },
     "metadata": {},
     "output_type": "display_data"
    },
    {
     "data": {
      "application/vnd.jupyter.widget-view+json": {
       "model_id": "d10da3f20a9a415dadf15f6d9e40963a",
       "version_major": 2,
       "version_minor": 0
      },
      "text/plain": [
       "VBox(children=(Label(value='0.003 MB of 0.003 MB uploaded (0.000 MB deduped)\\r'), FloatProgress(value=1.0, max…"
      ]
     },
     "metadata": {},
     "output_type": "display_data"
    },
    {
     "data": {
      "text/html": [
       "<style>\n",
       "    table.wandb td:nth-child(1) { padding: 0 10px; text-align: left ; width: auto;} td:nth-child(2) {text-align: left ; width: 100%}\n",
       "    .wandb-row { display: flex; flex-direction: row; flex-wrap: wrap; justify-content: flex-start; width: 100% }\n",
       "    .wandb-col { display: flex; flex-direction: column; flex-basis: 100%; flex: 1; padding: 10px; }\n",
       "    </style>\n",
       "<div class=\"wandb-row\"><div class=\"wandb-col\"><h3>Run history:</h3><br/><table class=\"wandb\"><tr><td>best_accuracy</td><td>▁▃▄▄▄▅▅▅▅▆▆▆▆▇▇▇▇▇▇▇██████████████</td></tr><tr><td>epoch</td><td>▁▁▁▂▂▂▂▂▃▃▃▃▄▄▄▄▄▅▅▅▅▅▆▆▆▆▇▇▇▇▇███</td></tr><tr><td>eval_accuracy</td><td>▁▃▄▄▃▅▅▅▄▆▂▅▆▇▄▅▆▆▇▆█▆▇█▆▆▆▆▆▅▇▇▇▇</td></tr><tr><td>lr</td><td>███▇▇▇▇▇▆▆▆▆▅▅▅▅▅▄▄▄▄▄▃▃▃▃▂▂▂▂▂▁▁▁</td></tr><tr><td>patience</td><td>▁▁▁▁▂▁▂▂▃▁▂▂▃▁▂▂▃▄▅▅▁▂▂▁▂▂▃▄▅▅▆▇▇█</td></tr><tr><td>train_accuracy</td><td>▁▅▅▅▅▆▆▆▆▆▆▆▇▇▇▇▇▇▇▇▇▇▇▇██████████</td></tr></table><br/></div><div class=\"wandb-col\"><h3>Run summary:</h3><br/><table class=\"wandb\"><tr><td>best_accuracy</td><td>0.87879</td></tr><tr><td>epoch</td><td>33</td></tr><tr><td>eval_accuracy</td><td>0.85455</td></tr><tr><td>lr</td><td>0.00663</td></tr><tr><td>patience</td><td>10</td></tr><tr><td>train_accuracy</td><td>0.85874</td></tr></table><br/></div></div>"
      ],
      "text/plain": [
       "<IPython.core.display.HTML object>"
      ]
     },
     "metadata": {},
     "output_type": "display_data"
    },
    {
     "data": {
      "text/html": [
       " View run <strong style=\"color:#cdcd00\">smooth-yogurt-477</strong> at: <a href='https://wandb.ai/f-labbaf97/lineage_tracing/runs/w6kk3ntk' target=\"_blank\">https://wandb.ai/f-labbaf97/lineage_tracing/runs/w6kk3ntk</a><br/>Synced 6 W&B file(s), 0 media file(s), 0 artifact file(s) and 0 other file(s)"
      ],
      "text/plain": [
       "<IPython.core.display.HTML object>"
      ]
     },
     "metadata": {},
     "output_type": "display_data"
    },
    {
     "data": {
      "text/html": [
       "Find logs at: <code>./wandb/run-20230525_173646-w6kk3ntk/logs</code>"
      ],
      "text/plain": [
       "<IPython.core.display.HTML object>"
      ]
     },
     "metadata": {},
     "output_type": "display_data"
    },
    {
     "data": {
      "text/html": [
       "Successfully finished last run (ID:w6kk3ntk). Initializing new run:<br/>"
      ],
      "text/plain": [
       "<IPython.core.display.HTML object>"
      ]
     },
     "metadata": {},
     "output_type": "display_data"
    },
    {
     "data": {
      "application/vnd.jupyter.widget-view+json": {
       "model_id": "33bc03070a764f4c83d0b6f15e07cc38",
       "version_major": 2,
       "version_minor": 0
      },
      "text/plain": [
       "VBox(children=(Label(value='Waiting for wandb.init()...\\r'), FloatProgress(value=0.016668649183460123, max=1.0…"
      ]
     },
     "metadata": {},
     "output_type": "display_data"
    },
    {
     "data": {
      "text/html": [
       "Tracking run with wandb version 0.15.3"
      ],
      "text/plain": [
       "<IPython.core.display.HTML object>"
      ]
     },
     "metadata": {},
     "output_type": "display_data"
    },
    {
     "data": {
      "text/html": [
       "Run data is saved locally in <code>/home/farzaneh/Documents/Bread/bread/src/bread/tests/wandb/run-20230525_173705-1ws0pzus</code>"
      ],
      "text/plain": [
       "<IPython.core.display.HTML object>"
      ]
     },
     "metadata": {},
     "output_type": "display_data"
    },
    {
     "data": {
      "text/html": [
       "Syncing run <strong><a href='https://wandb.ai/f-labbaf97/lineage_tracing/runs/1ws0pzus' target=\"_blank\">exalted-river-478</a></strong> to <a href='https://wandb.ai/f-labbaf97/lineage_tracing' target=\"_blank\">Weights & Biases</a> (<a href='https://wandb.me/run' target=\"_blank\">docs</a>)<br/>"
      ],
      "text/plain": [
       "<IPython.core.display.HTML object>"
      ]
     },
     "metadata": {},
     "output_type": "display_data"
    },
    {
     "data": {
      "text/html": [
       " View project at <a href='https://wandb.ai/f-labbaf97/lineage_tracing' target=\"_blank\">https://wandb.ai/f-labbaf97/lineage_tracing</a>"
      ],
      "text/plain": [
       "<IPython.core.display.HTML object>"
      ]
     },
     "metadata": {},
     "output_type": "display_data"
    },
    {
     "data": {
      "text/html": [
       " View run at <a href='https://wandb.ai/f-labbaf97/lineage_tracing/runs/1ws0pzus' target=\"_blank\">https://wandb.ai/f-labbaf97/lineage_tracing/runs/1ws0pzus</a>"
      ],
      "text/plain": [
       "<IPython.core.display.HTML object>"
      ]
     },
     "metadata": {},
     "output_type": "display_data"
    },
    {
     "name": "stdout",
     "output_type": "stream",
     "text": [
      "early stopping at  19 LR:  0.008019999999999998\n",
      "config:  {'epoch_n': 200, 'patience': 10, 'lr': 0.01, 'batch_size': 256, 'layers': [76, 64, 5], 'augment': True, 'features': ['dist_0', 'dist_max', 'dist_min', 'dist_std', 'poly_fit_budcm_candidcm', 'poly_fit_budcm_budpt', 'poly_fit_expansion_vector', 'position_bud_std', 'position_bud_max', 'position_bud_min', 'position_bud_last', 'position_bud_first', 'orientation_bud_std', 'orientation_bud_max', 'orientation_bud_min', 'orientation_bud_last', 'orientation_bud_first', 'orientation_bud_last_minus_first', 'plyfit_orientation_bud'], 'train_set': 'all', 'Group': 'normalized', 'cv_number': 5}\n",
      "yes. I am reloaded\n"
     ]
    },
    {
     "data": {
      "text/html": [
       "Finishing last run (ID:1ws0pzus) before initializing another..."
      ],
      "text/plain": [
       "<IPython.core.display.HTML object>"
      ]
     },
     "metadata": {},
     "output_type": "display_data"
    },
    {
     "data": {
      "text/html": [
       "Waiting for W&B process to finish... <strong style=\"color:green\">(success).</strong>"
      ],
      "text/plain": [
       "<IPython.core.display.HTML object>"
      ]
     },
     "metadata": {},
     "output_type": "display_data"
    },
    {
     "data": {
      "text/html": [
       "<style>\n",
       "    table.wandb td:nth-child(1) { padding: 0 10px; text-align: left ; width: auto;} td:nth-child(2) {text-align: left ; width: 100%}\n",
       "    .wandb-row { display: flex; flex-direction: row; flex-wrap: wrap; justify-content: flex-start; width: 100% }\n",
       "    .wandb-col { display: flex; flex-direction: column; flex-basis: 100%; flex: 1; padding: 10px; }\n",
       "    </style>\n",
       "<div class=\"wandb-row\"><div class=\"wandb-col\"><h3>Run history:</h3><br/><table class=\"wandb\"><tr><td>best_accuracy</td><td>▁▃▅▇▇▇▇▇███████████</td></tr><tr><td>epoch</td><td>▁▁▂▂▃▃▃▄▄▅▅▅▆▆▆▇▇██</td></tr><tr><td>eval_accuracy</td><td>▁▃▅▇▇▇▆▆█▄▇█▇▆▄▆▅▇▇</td></tr><tr><td>lr</td><td>██▇▇▆▆▆▅▅▅▄▄▃▃▃▂▂▁▁</td></tr><tr><td>patience</td><td>▁▁▁▁▂▂▃▄▁▂▂▃▄▅▅▆▇▇█</td></tr><tr><td>train_accuracy</td><td>▁▄▅▅▅▆▆▇▇▇▇▇█▇█████</td></tr></table><br/></div><div class=\"wandb-col\"><h3>Run summary:</h3><br/><table class=\"wandb\"><tr><td>best_accuracy</td><td>0.82424</td></tr><tr><td>epoch</td><td>18</td></tr><tr><td>eval_accuracy</td><td>0.80606</td></tr><tr><td>lr</td><td>0.00812</td></tr><tr><td>patience</td><td>10</td></tr><tr><td>train_accuracy</td><td>0.84701</td></tr></table><br/></div></div>"
      ],
      "text/plain": [
       "<IPython.core.display.HTML object>"
      ]
     },
     "metadata": {},
     "output_type": "display_data"
    },
    {
     "data": {
      "text/html": [
       " View run <strong style=\"color:#cdcd00\">exalted-river-478</strong> at: <a href='https://wandb.ai/f-labbaf97/lineage_tracing/runs/1ws0pzus' target=\"_blank\">https://wandb.ai/f-labbaf97/lineage_tracing/runs/1ws0pzus</a><br/>Synced 6 W&B file(s), 0 media file(s), 0 artifact file(s) and 0 other file(s)"
      ],
      "text/plain": [
       "<IPython.core.display.HTML object>"
      ]
     },
     "metadata": {},
     "output_type": "display_data"
    },
    {
     "data": {
      "text/html": [
       "Find logs at: <code>./wandb/run-20230525_173705-1ws0pzus/logs</code>"
      ],
      "text/plain": [
       "<IPython.core.display.HTML object>"
      ]
     },
     "metadata": {},
     "output_type": "display_data"
    },
    {
     "data": {
      "text/html": [
       "Successfully finished last run (ID:1ws0pzus). Initializing new run:<br/>"
      ],
      "text/plain": [
       "<IPython.core.display.HTML object>"
      ]
     },
     "metadata": {},
     "output_type": "display_data"
    },
    {
     "data": {
      "application/vnd.jupyter.widget-view+json": {
       "model_id": "e946feeb2e24422a90c76df299d76c34",
       "version_major": 2,
       "version_minor": 0
      },
      "text/plain": [
       "VBox(children=(Label(value='Waiting for wandb.init()...\\r'), FloatProgress(value=0.016669838649977464, max=1.0…"
      ]
     },
     "metadata": {},
     "output_type": "display_data"
    },
    {
     "data": {
      "text/html": [
       "Tracking run with wandb version 0.15.3"
      ],
      "text/plain": [
       "<IPython.core.display.HTML object>"
      ]
     },
     "metadata": {},
     "output_type": "display_data"
    },
    {
     "data": {
      "text/html": [
       "Run data is saved locally in <code>/home/farzaneh/Documents/Bread/bread/src/bread/tests/wandb/run-20230525_173721-lk6ki7qe</code>"
      ],
      "text/plain": [
       "<IPython.core.display.HTML object>"
      ]
     },
     "metadata": {},
     "output_type": "display_data"
    },
    {
     "data": {
      "text/html": [
       "Syncing run <strong><a href='https://wandb.ai/f-labbaf97/lineage_tracing/runs/lk6ki7qe' target=\"_blank\">likely-durian-479</a></strong> to <a href='https://wandb.ai/f-labbaf97/lineage_tracing' target=\"_blank\">Weights & Biases</a> (<a href='https://wandb.me/run' target=\"_blank\">docs</a>)<br/>"
      ],
      "text/plain": [
       "<IPython.core.display.HTML object>"
      ]
     },
     "metadata": {},
     "output_type": "display_data"
    },
    {
     "data": {
      "text/html": [
       " View project at <a href='https://wandb.ai/f-labbaf97/lineage_tracing' target=\"_blank\">https://wandb.ai/f-labbaf97/lineage_tracing</a>"
      ],
      "text/plain": [
       "<IPython.core.display.HTML object>"
      ]
     },
     "metadata": {},
     "output_type": "display_data"
    },
    {
     "data": {
      "text/html": [
       " View run at <a href='https://wandb.ai/f-labbaf97/lineage_tracing/runs/lk6ki7qe' target=\"_blank\">https://wandb.ai/f-labbaf97/lineage_tracing/runs/lk6ki7qe</a>"
      ],
      "text/plain": [
       "<IPython.core.display.HTML object>"
      ]
     },
     "metadata": {},
     "output_type": "display_data"
    },
    {
     "name": "stdout",
     "output_type": "stream",
     "text": [
      "early stopping at  29 LR:  0.007029999999999997\n",
      "accuracy:  0.8450383351588171 +/- 0.02047988541008536\n",
      "accuracy for normalized features:  0.8377583059510771\n",
      "accuracy for not normalized features:  0.8450383351588171\n"
     ]
    },
    {
     "name": "stderr",
     "output_type": "stream",
     "text": [
      "wandb: Network error (ConnectionError), entering retry loop.\n"
     ]
    }
   ],
   "source": [
    "# for the full list of features normalized\n",
    "f_list = ['dist_0','dist_max','dist_min','dist_std','poly_fit_budcm_candidcm','poly_fit_budcm_budpt','poly_fit_expansion_vector','position_bud_std','position_bud_max','position_bud_min','position_bud_last','position_bud_first','orientation_bud_std','orientation_bud_max','orientation_bud_min','orientation_bud_last','orientation_bud_first','orientation_bud_last_minus_first','plyfit_orientation_bud']\n",
    "matrix_feat_custom = get_custom_matrix_features(all_candidate_features_normalized, all_gt, f_list,)\n",
    "config = {'epoch_n': 200, 'patience': 10, 'lr': 0.01, 'batch_size': 256, 'layers': [len(f_list)*4, 64, 5], 'augment': True , 'features':f_list,'train_set': 'all', 'Group': 'normalized'}\n",
    "models_n, accuracies_n = cv_nn(matrix_feat_custom, config=config)\n",
    "# for the full list of features not normalized\n",
    "f_list = ['dist_0','dist_max','dist_min','dist_std','poly_fit_budcm_candidcm','poly_fit_budcm_budpt','poly_fit_expansion_vector','position_bud_std','position_bud_max','position_bud_min','position_bud_last','position_bud_first','orientation_bud_std','orientation_bud_max','orientation_bud_min','orientation_bud_last','orientation_bud_first','orientation_bud_last_minus_first','plyfit_orientation_bud']\n",
    "matrix_feat_custom = get_custom_matrix_features(all_candidate_features, all_gt, f_list,)\n",
    "config = {'epoch_n': 200, 'patience': 10, 'lr': 0.01, 'batch_size': 256, 'layers': [len(f_list)*4, 64, 5], 'augment': True , 'features':f_list,'train_set': 'all','Group': 'normalized'}\n",
    "models, accuracies = cv_nn(matrix_feat_custom, config=config)\n",
    "\n",
    "print('accuracy for normalized features: ', np.mean(accuracies_n))\n",
    "print('accuracy for not normalized features: ', np.mean(accuracies))"
   ]
  }
 ],
 "metadata": {
  "kernelspec": {
   "display_name": "lineage_tracing",
   "language": "python",
   "name": "python3"
  },
  "language_info": {
   "codemirror_mode": {
    "name": "ipython",
    "version": 3
   },
   "file_extension": ".py",
   "mimetype": "text/x-python",
   "name": "python",
   "nbconvert_exporter": "python",
   "pygments_lexer": "ipython3",
   "version": "3.9.0"
  },
  "orig_nbformat": 4
 },
 "nbformat": 4,
 "nbformat_minor": 2
}
